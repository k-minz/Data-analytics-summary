{
 "cells": [
  {
   "cell_type": "markdown",
   "metadata": {},
   "source": [
    "https://www.kaggle.com/erikbruin/house-prices-lasso-xgboost-and-a-detailed-eda\n",
    " \n",
    "1 Executive Summary  \n",
    "2 Introduction  \n",
    "## 3 Loading and Exploring Data  \n",
    "### 3.1 Loading libraries required and reading the data into R  \n",
    "- train\n",
    "- test\n",
    "### 3.2 Data size and structure  \n",
    "- shape\n",
    "- type\n",
    "- Null portion\n",
    "## 4 Exploring some of the most important variables  \n",
    "### 4.1 The response variable; SalePrice \n",
    "- Y 데이터 분포 확인 (skewed?)\n",
    "- Y.info(), Y.summary()\n",
    "### 4.2 The most important numeric predictors  \n",
    "#### 4.2.1 Correlations with SalePrice  \n",
    "- numeric X 변수 & Y 변수 상관관계\n",
    "#### 4.2.2 Overall Quality  \n",
    "- 상관관계가 높은 X변수와 Y변수 Outlier 확인\n",
    "- outlier가 제거한 뒤 Y값과 상관도와 제거전 상관도 비교\n",
    "#### 4.2.3 Above Grade (Ground) Living Area (square feet)  \n",
    "- 상관관계가 높은 X변수와 Y변수 Outlier 확인\n",
    "- outlier로 의심되는 부분이 있으면 상관관계가 높은 다른 x변수 확인  \n",
    "## 5 Missing data, label encoding, and factorizing variables  \n",
    "### 5.1 Completeness of the data  \n",
    "- 결측 비율 확인\n",
    "### 5.2 Imputing missing data  \n",
    "- NA 가 'None'\n",
    "- Mean, Median\n",
    "- Binding mean\n",
    "### 5.3 Label encoding/factorizing the remaining character variables\n",
    "- Label Encoding 후 mapping되는 값 확인\n",
    "### 5.4 Changing some numeric variables into factors\n",
    "- Num으로 되어있지만 사실 cat인 변수 변환\n",
    "5.4.1 Year and Month Sold  \n",
    "5.4.2 MSSubClass  \n",
    "## 6 Visualization of important variables\n",
    "- 몇 개가 cat? 몇 개가 num?\n",
    "### 6.1 Correlations again\n",
    "- missing value 채운 뒤 다시 num X-변수 & Y-변수 상관관계\n",
    "### 6.2 Finding variable importance with a quick Random Forest\n",
    "- cat + num 다 포함해서 변수 중요도를 보고 싶음\n",
    "- 가장 simple and quick 한 RF 이용해서 중요도 파악\n",
    "#### 6.2.1 Above Ground Living Area, and other surface related variables (in square feet)  \n",
    "- 각 변수들 count\n",
    "6.2.2 The most important categorical variable; Neighborhood  \n",
    "6.2.3 Overall Quality, and other Quality variables   \n",
    "6.2.4 The second most important categorical variable; MSSubClass  \n",
    "6.2.5 Garage variables  \n",
    "6.2.6 Basement variables  \n",
    "## 7 Feature engineering\n",
    "### 7.1 Total number of Bathrooms\n",
    "- 중요도가 낮지만 상관성이 높은 변수들 3개 => 1개로 바꾸기\n",
    "- 바꾼 변수로 상관도 확인. 높아졌나?\n",
    "### 7.2 Adding ‘House Age’, ‘Remodeled (Yes/No)’, and IsNew variables\n",
    "- 리모델링 날짜 유/무 -> 리모델 유/무 변수 생성, 상관도 확인\n",
    "7.3 Binning Neighborhood  \n",
    "7.4 Total Square Feet  \n",
    "7.5 Consolidating Porch variables  \n",
    "## 8 Preparing data for modeling\n",
    "### 8.1 Dropping highly correlated variables\n",
    "- 두 X변수간의 상관관계가 너무 높은 경우에 Y값과 상관도가 조금이라도 낮은 X변수를 drop\n",
    "-  For instance: GarageCars and GarageArea have a correlation of 0.89. Of those two. GarageArea drop : SalePrice 상관도 0.62. GarageCars 상관도 0.64\n",
    "### 8.2 Removing outliers\n",
    "### 8.3 PreProcessing predictor variables\n",
    "#### 8.3.1 Skewness and normalizing of the numeric predictors\n",
    "- 왜도가 0.8 초과하는 Numeric X 변수는 log변환으로 정규성 맞추기\n",
    "#### 8.3.2 One hot encoding the categorical variables\n",
    "- k-1개 one-hot 해서 모든 변수를 numeric으로\n",
    "#### 8.3.3 Removing levels with few or no observations in train or test\n",
    "- 결측 너무 많은 경우 train, test 모두 결측 많은 지 보고 drop\n",
    "### 8.4 Dealing with skewness of response variable\n",
    "- Y변수 Q-Q plot으로 정규성 확인\n",
    "- 비정규인 경우 log변환\n",
    "### 8.5 Composing train and test sets\n",
    "## 9 Modeling\n",
    "### 9.1 Lasso regression model\n",
    "- 이왕이면 ridge, lasso, elastic net 다 해보고 제일 좋은 거로 선택\n",
    "- grid search 로 최적의 lambda 찾기\n",
    "- lasso에서 선택된 변수들을 포함하기 전, 포함 후 정확도 비교\n",
    "### 9.2 XGBoost model\n",
    "### 9.3 Compare model accuracy and choose one"
   ]
  },
  {
   "cell_type": "code",
   "execution_count": 120,
   "metadata": {},
   "outputs": [],
   "source": [
    "# Default\n",
    "import os\n",
    "import time\n",
    "from IPython import display \n",
    "import warnings\n",
    "warnings.filterwarnings('ignore')\n",
    "\n",
    "# preprocessing or statistics\n",
    "import numpy as np\n",
    "import pandas as pd\n",
    "from scipy import stats\n",
    "from scipy.stats import norm, skew #for some statistics\n",
    "from datetime import datetime, timedelta\n",
    "\n",
    "# Visualisation\n",
    "import matplotlib.pyplot as plt\n",
    "plt.rc(\"font\", size=14)\n",
    "import seaborn as sns\n",
    "sns.set(style='white')\n",
    "sns.set(style='whitegrid', color_codes=True)\n",
    "\n",
    "# machine learning\n",
    "from sklearn import preprocessing\n",
    "from sklearn.linear_model import LogisticRegression\n",
    "from sklearn.feature_selection import RFE, RFECV, SelectFromModel\n",
    "from sklearn.svm import SVC, LinearSVC\n",
    "from sklearn.ensemble import RandomForestClassifier\n",
    "from sklearn.neighbors import KNeighborsClassifier\n",
    "from sklearn.naive_bayes import GaussianNB\n",
    "from sklearn.tree import DecisionTreeClassifier\n",
    "\n",
    "# model evaluation\n",
    "from sklearn.model_selection import train_test_split\n",
    "from sklearn.model_selection import GridSearchCV, cross_val_score\n",
    "from sklearn import metrics\n",
    "from sklearn.metrics import log_loss"
   ]
  },
  {
   "cell_type": "code",
   "execution_count": 2,
   "metadata": {},
   "outputs": [],
   "source": [
    "df_train = pd.read_csv('../data/house-prices-advanced-regression-techniques/train.csv')\n",
    "df_test = pd.read_csv('../data/house-prices-advanced-regression-techniques/test.csv')"
   ]
  },
  {
   "cell_type": "markdown",
   "metadata": {},
   "source": [
    "https://www.kaggle.com/dejavu23/house-prices-eda-to-ml-beginner"
   ]
  },
  {
   "cell_type": "markdown",
   "metadata": {},
   "source": [
    "add)\n",
    "https://www.kaggle.com/serigne/stacked-regressions-top-4-on-leaderboard/output"
   ]
  },
  {
   "cell_type": "code",
   "execution_count": 3,
   "metadata": {},
   "outputs": [],
   "source": [
    "def get_best_score(grid):\n",
    "    \n",
    "    best_score = np.sqrt(-grid.best_score_)\n",
    "    print(best_score)    \n",
    "    print(grid.best_params_)\n",
    "    print(grid.best_estimator_)\n",
    "    \n",
    "    return best_score"
   ]
  },
  {
   "cell_type": "code",
   "execution_count": 4,
   "metadata": {},
   "outputs": [
    {
     "name": "stdout",
     "output_type": "stream",
     "text": [
      "(1460, 81)\n",
      "(1459, 80)\n"
     ]
    }
   ],
   "source": [
    "print(df_train.shape)\n",
    "print(df_test.shape)"
   ]
  },
  {
   "cell_type": "code",
   "execution_count": 5,
   "metadata": {},
   "outputs": [],
   "source": [
    "# df_train.head(), df_train.describe()"
   ]
  },
  {
   "cell_type": "markdown",
   "metadata": {},
   "source": [
    "## Y변수 분포"
   ]
  },
  {
   "cell_type": "code",
   "execution_count": 6,
   "metadata": {},
   "outputs": [
    {
     "name": "stdout",
     "output_type": "stream",
     "text": [
      "Skewness: 1.882876\n",
      "Kurtosis: 6.536282\n"
     ]
    },
    {
     "data": {
      "image/png": "[encoded data removed]",
      "text/plain": [
       "<Figure size 432x288 with 1 Axes>"
      ]
     },
     "metadata": {
      "needs_background": "light"
     },
     "output_type": "display_data"
    }
   ],
   "source": [
    "sns.distplot(df_train['SalePrice']);\n",
    "#skewness and kurtosis\n",
    "print(\"Skewness: %f\" % df_train['SalePrice'].skew())\n",
    "print(\"Kurtosis: %f\" % df_train['SalePrice'].kurt())"
   ]
  },
  {
   "cell_type": "code",
   "execution_count": 7,
   "metadata": {
    "scrolled": false
   },
   "outputs": [
    {
     "name": "stdout",
     "output_type": "stream",
     "text": [
      "Skewness: 0.121335\n",
      "Kurtosis: 0.809532\n"
     ]
    },
    {
     "data": {
      "image/png": "[encoded data removed]",
      "text/plain": [
       "<Figure size 432x288 with 1 Axes>"
      ]
     },
     "metadata": {
      "needs_background": "light"
     },
     "output_type": "display_data"
    }
   ],
   "source": [
    "df_train['SalePrice_Log'] = np.log(df_train['SalePrice'])\n",
    "# train[\"SalePrice\"] = np.log1p(train[\"SalePrice\"])\n",
    "\n",
    "sns.distplot(df_train['SalePrice_Log']);\n",
    "# skewness and kurtosis\n",
    "print(\"Skewness: %f\" % df_train['SalePrice_Log'].skew())\n",
    "print(\"Kurtosis: %f\" % df_train['SalePrice_Log'].kurt())\n",
    "# dropping old column\n",
    "df_train.drop('SalePrice', axis= 1, inplace=True)"
   ]
  },
  {
   "cell_type": "code",
   "execution_count": 118,
   "metadata": {
    "scrolled": true
   },
   "outputs": [
    {
     "data": {
      "image/png": "[encoded data removed]",
      "text/plain": [
       "<Figure size 432x288 with 1 Axes>"
      ]
     },
     "metadata": {},
     "output_type": "display_data"
    }
   ],
   "source": [
    "#Get also the QQ-plot\n",
    "fig = plt.figure()\n",
    "res = stats.probplot(df_train['SalePrice_Log'], plot=plt)\n",
    "plt.show()"
   ]
  },
  {
   "cell_type": "code",
   "execution_count": 121,
   "metadata": {},
   "outputs": [
    {
     "name": "stdout",
     "output_type": "stream",
     "text": [
      "\n",
      " mu = 180932.92 and sigma = 79467.79\n",
      "\n"
     ]
    }
   ],
   "source": [
    "(mu, sigma) = norm.fit(train['SalePrice'])\n",
    "print( '\\n mu = {:.2f} and sigma = {:.2f}\\n'.format(mu, sigma))"
   ]
  },
  {
   "cell_type": "code",
   "execution_count": 8,
   "metadata": {
    "scrolled": true
   },
   "outputs": [
    {
     "name": "stdout",
     "output_type": "stream",
     "text": [
      "Number of Numerical features:  38\n",
      "Number of Categorical features:  43\n"
     ]
    }
   ],
   "source": [
    "numerical_feats = df_train.dtypes[df_train.dtypes != \"object\"].index\n",
    "print(\"Number of Numerical features: \", len(numerical_feats))\n",
    "\n",
    "categorical_feats = df_train.dtypes[df_train.dtypes == \"object\"].index\n",
    "print(\"Number of Categorical features: \", len(categorical_feats))"
   ]
  },
  {
   "cell_type": "markdown",
   "metadata": {},
   "source": [
    "## Missing data 테이블"
   ]
  },
  {
   "cell_type": "code",
   "execution_count": 9,
   "metadata": {},
   "outputs": [
    {
     "data": {
      "text/html": [
       "<div>\n",
       "<style scoped>\n",
       "    .dataframe tbody tr th:only-of-type {\n",
       "        vertical-align: middle;\n",
       "    }\n",
       "\n",
       "    .dataframe tbody tr th {\n",
       "        vertical-align: top;\n",
       "    }\n",
       "\n",
       "    .dataframe thead th {\n",
       "        text-align: right;\n",
       "    }\n",
       "</style>\n",
       "<table border=\"1\" class=\"dataframe\">\n",
       "  <thead>\n",
       "    <tr style=\"text-align: right;\">\n",
       "      <th></th>\n",
       "      <th>Total</th>\n",
       "      <th>Percent</th>\n",
       "    </tr>\n",
       "  </thead>\n",
       "  <tbody>\n",
       "    <tr>\n",
       "      <td>PoolQC</td>\n",
       "      <td>1453</td>\n",
       "      <td>0.995205</td>\n",
       "    </tr>\n",
       "    <tr>\n",
       "      <td>MiscFeature</td>\n",
       "      <td>1406</td>\n",
       "      <td>0.963014</td>\n",
       "    </tr>\n",
       "    <tr>\n",
       "      <td>Alley</td>\n",
       "      <td>1369</td>\n",
       "      <td>0.937671</td>\n",
       "    </tr>\n",
       "    <tr>\n",
       "      <td>Fence</td>\n",
       "      <td>1179</td>\n",
       "      <td>0.807534</td>\n",
       "    </tr>\n",
       "    <tr>\n",
       "      <td>FireplaceQu</td>\n",
       "      <td>690</td>\n",
       "      <td>0.472603</td>\n",
       "    </tr>\n",
       "    <tr>\n",
       "      <td>LotFrontage</td>\n",
       "      <td>259</td>\n",
       "      <td>0.177397</td>\n",
       "    </tr>\n",
       "    <tr>\n",
       "      <td>GarageCond</td>\n",
       "      <td>81</td>\n",
       "      <td>0.055479</td>\n",
       "    </tr>\n",
       "    <tr>\n",
       "      <td>GarageType</td>\n",
       "      <td>81</td>\n",
       "      <td>0.055479</td>\n",
       "    </tr>\n",
       "    <tr>\n",
       "      <td>GarageYrBlt</td>\n",
       "      <td>81</td>\n",
       "      <td>0.055479</td>\n",
       "    </tr>\n",
       "    <tr>\n",
       "      <td>GarageFinish</td>\n",
       "      <td>81</td>\n",
       "      <td>0.055479</td>\n",
       "    </tr>\n",
       "    <tr>\n",
       "      <td>GarageQual</td>\n",
       "      <td>81</td>\n",
       "      <td>0.055479</td>\n",
       "    </tr>\n",
       "    <tr>\n",
       "      <td>BsmtExposure</td>\n",
       "      <td>38</td>\n",
       "      <td>0.026027</td>\n",
       "    </tr>\n",
       "    <tr>\n",
       "      <td>BsmtFinType2</td>\n",
       "      <td>38</td>\n",
       "      <td>0.026027</td>\n",
       "    </tr>\n",
       "    <tr>\n",
       "      <td>BsmtFinType1</td>\n",
       "      <td>37</td>\n",
       "      <td>0.025342</td>\n",
       "    </tr>\n",
       "    <tr>\n",
       "      <td>BsmtCond</td>\n",
       "      <td>37</td>\n",
       "      <td>0.025342</td>\n",
       "    </tr>\n",
       "    <tr>\n",
       "      <td>BsmtQual</td>\n",
       "      <td>37</td>\n",
       "      <td>0.025342</td>\n",
       "    </tr>\n",
       "    <tr>\n",
       "      <td>MasVnrArea</td>\n",
       "      <td>8</td>\n",
       "      <td>0.005479</td>\n",
       "    </tr>\n",
       "    <tr>\n",
       "      <td>MasVnrType</td>\n",
       "      <td>8</td>\n",
       "      <td>0.005479</td>\n",
       "    </tr>\n",
       "    <tr>\n",
       "      <td>Electrical</td>\n",
       "      <td>1</td>\n",
       "      <td>0.000685</td>\n",
       "    </tr>\n",
       "    <tr>\n",
       "      <td>Utilities</td>\n",
       "      <td>0</td>\n",
       "      <td>0.000000</td>\n",
       "    </tr>\n",
       "  </tbody>\n",
       "</table>\n",
       "</div>"
      ],
      "text/plain": [
       "              Total   Percent\n",
       "PoolQC         1453  0.995205\n",
       "MiscFeature    1406  0.963014\n",
       "Alley          1369  0.937671\n",
       "Fence          1179  0.807534\n",
       "FireplaceQu     690  0.472603\n",
       "LotFrontage     259  0.177397\n",
       "GarageCond       81  0.055479\n",
       "GarageType       81  0.055479\n",
       "GarageYrBlt      81  0.055479\n",
       "GarageFinish     81  0.055479\n",
       "GarageQual       81  0.055479\n",
       "BsmtExposure     38  0.026027\n",
       "BsmtFinType2     38  0.026027\n",
       "BsmtFinType1     37  0.025342\n",
       "BsmtCond         37  0.025342\n",
       "BsmtQual         37  0.025342\n",
       "MasVnrArea        8  0.005479\n",
       "MasVnrType        8  0.005479\n",
       "Electrical        1  0.000685\n",
       "Utilities         0  0.000000"
      ]
     },
     "execution_count": 9,
     "metadata": {},
     "output_type": "execute_result"
    }
   ],
   "source": [
    "total = df_train.isnull().sum().sort_values(ascending=False)\n",
    "percent = (df_train.isnull().sum()/df_train.isnull().count()).sort_values(ascending=False)\n",
    "missing_data = pd.concat([total, percent], axis=1, keys=['Total', 'Percent'])\n",
    "missing_data.head(20)"
   ]
  },
  {
   "cell_type": "code",
   "execution_count": 10,
   "metadata": {},
   "outputs": [],
   "source": [
    "# columns where NaN values have meaning e.g. no pool etc.\n",
    "cols_fillna = ['PoolQC','MiscFeature','Alley','Fence','MasVnrType','FireplaceQu',\n",
    "               'GarageQual','GarageCond','GarageFinish','GarageType', 'Electrical',\n",
    "               'KitchenQual', 'SaleType', 'Functional', 'Exterior2nd', 'Exterior1st',\n",
    "               'BsmtExposure','BsmtCond','BsmtQual','BsmtFinType1','BsmtFinType2',\n",
    "               'MSZoning', 'Utilities']\n",
    "\n",
    "# replace 'NaN' with 'None' in these columns\n",
    "for col in cols_fillna:\n",
    "    df_train[col].fillna('None',inplace=True)\n",
    "    df_test[col].fillna('None',inplace=True)"
   ]
  },
  {
   "cell_type": "code",
   "execution_count": 11,
   "metadata": {},
   "outputs": [
    {
     "data": {
      "text/html": [
       "<div>\n",
       "<style scoped>\n",
       "    .dataframe tbody tr th:only-of-type {\n",
       "        vertical-align: middle;\n",
       "    }\n",
       "\n",
       "    .dataframe tbody tr th {\n",
       "        vertical-align: top;\n",
       "    }\n",
       "\n",
       "    .dataframe thead th {\n",
       "        text-align: right;\n",
       "    }\n",
       "</style>\n",
       "<table border=\"1\" class=\"dataframe\">\n",
       "  <thead>\n",
       "    <tr style=\"text-align: right;\">\n",
       "      <th></th>\n",
       "      <th>Total</th>\n",
       "      <th>Percent</th>\n",
       "    </tr>\n",
       "  </thead>\n",
       "  <tbody>\n",
       "    <tr>\n",
       "      <td>LotFrontage</td>\n",
       "      <td>259</td>\n",
       "      <td>0.177397</td>\n",
       "    </tr>\n",
       "    <tr>\n",
       "      <td>GarageYrBlt</td>\n",
       "      <td>81</td>\n",
       "      <td>0.055479</td>\n",
       "    </tr>\n",
       "    <tr>\n",
       "      <td>MasVnrArea</td>\n",
       "      <td>8</td>\n",
       "      <td>0.005479</td>\n",
       "    </tr>\n",
       "    <tr>\n",
       "      <td>SalePrice_Log</td>\n",
       "      <td>0</td>\n",
       "      <td>0.000000</td>\n",
       "    </tr>\n",
       "    <tr>\n",
       "      <td>ExterCond</td>\n",
       "      <td>0</td>\n",
       "      <td>0.000000</td>\n",
       "    </tr>\n",
       "  </tbody>\n",
       "</table>\n",
       "</div>"
      ],
      "text/plain": [
       "               Total   Percent\n",
       "LotFrontage      259  0.177397\n",
       "GarageYrBlt       81  0.055479\n",
       "MasVnrArea         8  0.005479\n",
       "SalePrice_Log      0  0.000000\n",
       "ExterCond          0  0.000000"
      ]
     },
     "execution_count": 11,
     "metadata": {},
     "output_type": "execute_result"
    }
   ],
   "source": [
    "total = df_train.isnull().sum().sort_values(ascending=False)\n",
    "percent = (df_train.isnull().sum()/df_train.isnull().count()).sort_values(ascending=False)\n",
    "missing_data = pd.concat([total, percent], axis=1, keys=['Total', 'Percent'])\n",
    "missing_data.head(5)"
   ]
  },
  {
   "cell_type": "code",
   "execution_count": 12,
   "metadata": {},
   "outputs": [],
   "source": [
    "# fillna with mean for the remaining columns: LotFrontage, GarageYrBlt, MasVnrArea\n",
    "df_train.fillna(df_train.mean(), inplace=True)\n",
    "df_test.fillna(df_test.mean(), inplace=True)"
   ]
  },
  {
   "cell_type": "code",
   "execution_count": 13,
   "metadata": {},
   "outputs": [
    {
     "name": "stdout",
     "output_type": "stream",
     "text": [
      "Id              Skewness: 00.00     Kurtosis: -01.20\n",
      "MSSubClass      Skewness: 01.41     Kurtosis: 001.58\n",
      "LotFrontage     Skewness: 02.38     Kurtosis: 021.85\n",
      "LotArea         Skewness: 12.21     Kurtosis: 203.24\n"
     ]
    }
   ],
   "source": [
    "# 너무 많아서 우선 생략\n",
    "for col in numerical_feats[:4]:\n",
    "    print('{:15}'.format(col), \n",
    "          'Skewness: {:05.2f}'.format(df_train[col].skew()) , '   ' ,\n",
    "          'Kurtosis: {:06.2f}'.format(df_train[col].kurt()))"
   ]
  },
  {
   "cell_type": "code",
   "execution_count": 14,
   "metadata": {},
   "outputs": [
    {
     "name": "stdout",
     "output_type": "stream",
     "text": [
      "Skewness: 1.366560\n",
      "Kurtosis: 4.895121\n"
     ]
    },
    {
     "data": {
      "image/png": "[encoded data removed]",
      "text/plain": [
       "<Figure size 432x288 with 1 Axes>"
      ]
     },
     "metadata": {
      "needs_background": "light"
     },
     "output_type": "display_data"
    }
   ],
   "source": [
    "### 추가로 다른 변수들 왜도 파악\n",
    "sns.distplot(df_train['GrLivArea']);\n",
    "#skewness and kurtosis\n",
    "print(\"Skewness: %f\" % df_train['GrLivArea'].skew())\n",
    "print(\"Kurtosis: %f\" % df_train['GrLivArea'].kurt())"
   ]
  },
  {
   "cell_type": "code",
   "execution_count": 15,
   "metadata": {},
   "outputs": [],
   "source": [
    "for df in [df_train, df_test]:\n",
    "    df['GrLivArea_Log'] = np.log(df['GrLivArea'])\n",
    "    df.drop('GrLivArea', inplace= True, axis = 1)\n",
    "    df['LotArea_Log'] = np.log(df['LotArea'])\n",
    "    df.drop('LotArea', inplace= True, axis = 1)\n",
    "    \n",
    "numerical_feats = df_train.dtypes[df_train.dtypes != \"object\"].index"
   ]
  },
  {
   "cell_type": "code",
   "execution_count": 16,
   "metadata": {
    "scrolled": true
   },
   "outputs": [
    {
     "data": {
      "image/png": "[encoded data removed]",
      "text/plain": [
       "<Figure size 432x288 with 1 Axes>"
      ]
     },
     "metadata": {
      "needs_background": "light"
     },
     "output_type": "display_data"
    }
   ],
   "source": [
    "sns.distplot(df_train['GrLivArea_Log']);"
   ]
  },
  {
   "cell_type": "markdown",
   "metadata": {},
   "source": [
    "### +) Box_ Cox Transformation"
   ]
  },
  {
   "cell_type": "code",
   "execution_count": null,
   "metadata": {},
   "outputs": [],
   "source": [
    "skewness = skewness[abs(skewness) > 0.75]\n",
    "print(\"There are {} skewed numerical features to Box Cox transform\".format(skewness.shape[0]))\n",
    "\n",
    "from scipy.special import boxcox1p\n",
    "skewed_features = skewness.index\n",
    "lam = 0.15\n",
    "for feat in skewed_features:\n",
    "    #all_data[feat] += 1\n",
    "    all_data[feat] = boxcox1p(all_data[feat], lam)"
   ]
  },
  {
   "cell_type": "markdown",
   "metadata": {},
   "source": [
    "## Outliers"
   ]
  },
  {
   "cell_type": "markdown",
   "metadata": {},
   "source": [
    "### +) Add"
   ]
  },
  {
   "cell_type": "code",
   "execution_count": 113,
   "metadata": {},
   "outputs": [],
   "source": [
    "train = pd.read_csv('../data/house-prices-advanced-regression-techniques/train.csv')"
   ]
  },
  {
   "cell_type": "code",
   "execution_count": 114,
   "metadata": {
    "scrolled": true
   },
   "outputs": [
    {
     "data": {
      "image/png": "[encoded data removed]",
      "text/plain": [
       "<Figure size 432x288 with 1 Axes>"
      ]
     },
     "metadata": {},
     "output_type": "display_data"
    }
   ],
   "source": [
    "fig, ax = plt.subplots()\n",
    "ax.scatter(x = train['GrLivArea'], y = train['SalePrice'])\n",
    "plt.ylabel('SalePrice', fontsize=13)\n",
    "plt.xlabel('GrLivArea', fontsize=13)\n",
    "plt.show()"
   ]
  },
  {
   "cell_type": "code",
   "execution_count": 115,
   "metadata": {},
   "outputs": [],
   "source": [
    "#Deleting outliers\n",
    "train = train.drop(train[(train['GrLivArea']>4000) & (train['SalePrice']<300000)].index)"
   ]
  },
  {
   "cell_type": "markdown",
   "metadata": {},
   "source": [
    "---"
   ]
  },
  {
   "cell_type": "code",
   "execution_count": 17,
   "metadata": {},
   "outputs": [],
   "source": [
    "df_train = df_train.drop(\n",
    "    df_train[(df_train['OverallQual']==10) & (df_train['SalePrice_Log']<12.3)].index)"
   ]
  },
  {
   "cell_type": "code",
   "execution_count": 18,
   "metadata": {},
   "outputs": [],
   "source": [
    "df_train = df_train.drop(\n",
    "    df_train[(df_train['GrLivArea_Log']>8.3) & (df_train['SalePrice_Log']<12.5)].index)"
   ]
  },
  {
   "cell_type": "code",
   "execution_count": 19,
   "metadata": {},
   "outputs": [],
   "source": [
    "target = 'SalePrice_Log'"
   ]
  },
  {
   "cell_type": "markdown",
   "metadata": {},
   "source": [
    "### Y변수와 X변수 간 상관관계 파악"
   ]
  },
  {
   "cell_type": "code",
   "execution_count": 20,
   "metadata": {},
   "outputs": [],
   "source": [
    "corr = df_train.corr()\n",
    "corr_abs = corr.abs()\n",
    "\n",
    "nr_num_cols = len(numerical_feats)\n",
    "ser_corr = corr_abs.nlargest(nr_num_cols, target)[target]"
   ]
  },
  {
   "cell_type": "code",
   "execution_count": 21,
   "metadata": {
    "scrolled": true
   },
   "outputs": [
    {
     "data": {
      "text/plain": [
       "SalePrice_Log    1.000000\n",
       "OverallQual      0.821404\n",
       "GrLivArea_Log    0.737427\n",
       "GarageCars       0.681033\n",
       "GarageArea       0.656128\n",
       "Name: SalePrice_Log, dtype: float64"
      ]
     },
     "execution_count": 21,
     "metadata": {},
     "output_type": "execute_result"
    }
   ],
   "source": [
    "ser_corr.head()"
   ]
  },
  {
   "cell_type": "code",
   "execution_count": 22,
   "metadata": {},
   "outputs": [],
   "source": [
    "min_val_corr = 0.4"
   ]
  },
  {
   "cell_type": "code",
   "execution_count": 23,
   "metadata": {},
   "outputs": [],
   "source": [
    "cols_abv_corr_limit = list(ser_corr[ser_corr.values > min_val_corr].index)\n",
    "cols_bel_corr_limit = list(ser_corr[ser_corr.values <= min_val_corr].index)"
   ]
  },
  {
   "cell_type": "code",
   "execution_count": 24,
   "metadata": {},
   "outputs": [],
   "source": [
    "catg_strong_corr = [ 'MSZoning', 'Neighborhood', 'Condition2', 'MasVnrType', 'ExterQual', \n",
    "                     'BsmtQual','CentralAir', 'Electrical', 'KitchenQual', 'SaleType']\n",
    "\n",
    "catg_weak_corr = ['Street', 'Alley', 'LotShape', 'LandContour', 'Utilities', 'LotConfig', \n",
    "                  'LandSlope', 'Condition1',  'BldgType', 'HouseStyle', 'RoofStyle', \n",
    "                  'RoofMatl', 'Exterior1st', 'Exterior2nd', 'ExterCond', 'Foundation', \n",
    "                  'BsmtCond', 'BsmtExposure', 'BsmtFinType1', 'BsmtFinType2', 'Heating', \n",
    "                  'HeatingQC', 'Functional', 'FireplaceQu', 'GarageType', 'GarageFinish', \n",
    "                  'GarageQual', 'GarageCond', 'PavedDrive', 'PoolQC', 'Fence', 'MiscFeature', \n",
    "                  'SaleCondition' ]"
   ]
  },
  {
   "cell_type": "markdown",
   "metadata": {},
   "source": [
    "### Correlation matrix"
   ]
  },
  {
   "cell_type": "code",
   "execution_count": 25,
   "metadata": {},
   "outputs": [],
   "source": [
    "nr_feats = len(cols_abv_corr_limit)\n",
    "nr_c = nr_feats\n",
    "\n",
    "corr = df_train.corr()\n",
    "corr_abs = corr.abs()\n",
    "cols = corr_abs.nlargest(nr_feats, target)[target].index\n",
    "cm = np.corrcoef(df_train[cols].values.T)"
   ]
  },
  {
   "cell_type": "code",
   "execution_count": 26,
   "metadata": {},
   "outputs": [
    {
     "data": {
      "image/png": "[encoded data removed]",
      "text/plain": [
       "<Figure size 720x720 with 2 Axes>"
      ]
     },
     "metadata": {
      "needs_background": "light"
     },
     "output_type": "display_data"
    }
   ],
   "source": [
    "plt.figure(figsize=(nr_c/1.5, nr_c/1.5))\n",
    "sns.set(font_scale=1.25)\n",
    "sns.heatmap(cm, linewidths=1.5, annot=True, square=True, \n",
    "            fmt='.2f', annot_kws={'size': 10}, \n",
    "            yticklabels=cols.values, xticklabels=cols.values)\n",
    "plt.show()"
   ]
  },
  {
   "cell_type": "markdown",
   "metadata": {},
   "source": [
    "Y 변수와 높은 상관성을 보이면서, 서로 연관성이 높은 다중공선성을 띄는 변수 존재"
   ]
  },
  {
   "cell_type": "code",
   "execution_count": 27,
   "metadata": {},
   "outputs": [],
   "source": [
    "id_test = df_test['Id']\n",
    "to_drop_num  = cols_bel_corr_limit\n",
    "to_drop_catg = catg_weak_corr\n",
    "\n",
    "cols_to_drop = ['Id'] + to_drop_num + to_drop_catg \n",
    "\n",
    "for df in [df_train, df_test]:\n",
    "    df.drop(cols_to_drop, inplace= True, axis = 1)"
   ]
  },
  {
   "cell_type": "markdown",
   "metadata": {},
   "source": [
    "## Conver num -> Cat"
   ]
  },
  {
   "cell_type": "code",
   "execution_count": null,
   "metadata": {},
   "outputs": [],
   "source": [
    "#MSSubClass=The building class\n",
    "all_data['MSSubClass'] = all_data['MSSubClass'].apply(str)\n",
    "#Changing OverallCond into a categorical variable\n",
    "all_data['OverallCond'] = all_data['OverallCond'].astype(str)\n",
    "#Year and month sold are transformed into categorical features.\n",
    "all_data['YrSold'] = all_data['YrSold'].astype(str)\n",
    "all_data['MoSold'] = all_data['MoSold'].astype(str)"
   ]
  },
  {
   "cell_type": "markdown",
   "metadata": {},
   "source": [
    "## Convert Cat -> num"
   ]
  },
  {
   "cell_type": "code",
   "execution_count": 28,
   "metadata": {},
   "outputs": [],
   "source": [
    "# catg_list = catg_strong_corr.copy()\n",
    "# catg_list.remove('Neighborhood')\n",
    "# for catg in catg_list[:2] :\n",
    "#     sns.violinplot(x=catg, y=target, data=df_train)\n",
    "#     plt.show()"
   ]
  },
  {
   "cell_type": "code",
   "execution_count": 29,
   "metadata": {},
   "outputs": [
    {
     "data": {
      "image/png": "[encoded data removed]",
      "text/plain": [
       "<Figure size 1152x360 with 1 Axes>"
      ]
     },
     "metadata": {},
     "output_type": "display_data"
    }
   ],
   "source": [
    "fig, ax = plt.subplots()\n",
    "fig.set_size_inches(16, 5)\n",
    "sns.violinplot(x='Neighborhood', y=target, data=df_train, ax=ax)\n",
    "plt.xticks(rotation=45)\n",
    "plt.show()"
   ]
  },
  {
   "cell_type": "code",
   "execution_count": 30,
   "metadata": {},
   "outputs": [],
   "source": [
    "# 'MSZoning'\n",
    "msz_catg2 = ['RM', 'RH']\n",
    "msz_catg3 = ['RL', 'FV'] \n",
    "# Neighborhood\n",
    "nbhd_catg2 = ['Blmngtn', 'ClearCr', 'CollgCr', 'Crawfor', 'Gilbert', 'NWAmes', 'Somerst', 'Timber', 'Veenker']\n",
    "nbhd_catg3 = ['NoRidge', 'NridgHt', 'StoneBr']\n",
    "# Condition2\n",
    "cond2_catg2 = ['Norm', 'RRAe']\n",
    "cond2_catg3 = ['PosA', 'PosN'] \n",
    "# SaleType\n",
    "SlTy_catg1 = ['Oth']\n",
    "SlTy_catg3 = ['CWD']\n",
    "SlTy_catg4 = ['New', 'Con']"
   ]
  },
  {
   "cell_type": "code",
   "execution_count": 31,
   "metadata": {},
   "outputs": [],
   "source": [
    "for df in [df_train, df_test]:\n",
    "\n",
    "    df['MSZ_num'] = 1  \n",
    "    df.loc[(df['MSZoning'].isin(msz_catg2) ), 'MSZ_num'] = 2    \n",
    "    df.loc[(df['MSZoning'].isin(msz_catg3) ), 'MSZ_num'] = 3        \n",
    "    \n",
    "    df['NbHd_num'] = 1       \n",
    "    df.loc[(df['Neighborhood'].isin(nbhd_catg2) ), 'NbHd_num'] = 2    \n",
    "    df.loc[(df['Neighborhood'].isin(nbhd_catg3) ), 'NbHd_num'] = 3    \n",
    "\n",
    "    df['Cond2_num'] = 1       \n",
    "    df.loc[(df['Condition2'].isin(cond2_catg2) ), 'Cond2_num'] = 2    \n",
    "    df.loc[(df['Condition2'].isin(cond2_catg3) ), 'Cond2_num'] = 3    \n",
    "    \n",
    "    df['Mas_num'] = 1       \n",
    "    df.loc[(df['MasVnrType'] == 'Stone' ), 'Mas_num'] = 2 \n",
    "    \n",
    "    df['ExtQ_num'] = 1       \n",
    "    df.loc[(df['ExterQual'] == 'TA' ), 'ExtQ_num'] = 2     \n",
    "    df.loc[(df['ExterQual'] == 'Gd' ), 'ExtQ_num'] = 3     \n",
    "    df.loc[(df['ExterQual'] == 'Ex' ), 'ExtQ_num'] = 4     \n",
    "   \n",
    "    df['BsQ_num'] = 1          \n",
    "    df.loc[(df['BsmtQual'] == 'Gd' ), 'BsQ_num'] = 2     \n",
    "    df.loc[(df['BsmtQual'] == 'Ex' ), 'BsQ_num'] = 3     \n",
    " \n",
    "    df['CA_num'] = 0          \n",
    "    df.loc[(df['CentralAir'] == 'Y' ), 'CA_num'] = 1    \n",
    "\n",
    "    df['Elc_num'] = 1       \n",
    "    df.loc[(df['Electrical'] == 'SBrkr' ), 'Elc_num'] = 2 \n",
    "\n",
    "    df['KiQ_num'] = 1       \n",
    "    df.loc[(df['KitchenQual'] == 'TA' ), 'KiQ_num'] = 2     \n",
    "    df.loc[(df['KitchenQual'] == 'Gd' ), 'KiQ_num'] = 3     \n",
    "    df.loc[(df['KitchenQual'] == 'Ex' ), 'KiQ_num'] = 4      \n",
    "    \n",
    "    df['SlTy_num'] = 2       \n",
    "    df.loc[(df['SaleType'].isin(SlTy_catg1) ), 'SlTy_num'] = 1  \n",
    "    df.loc[(df['SaleType'].isin(SlTy_catg3) ), 'SlTy_num'] = 3  \n",
    "    df.loc[(df['SaleType'].isin(SlTy_catg4) ), 'SlTy_num'] = 4  "
   ]
  },
  {
   "cell_type": "markdown",
   "metadata": {},
   "source": [
    "### Label Encoder\n",
    "cat vars may contain information in their ordering set"
   ]
  },
  {
   "cell_type": "code",
   "execution_count": null,
   "metadata": {},
   "outputs": [],
   "source": [
    "from sklearn.preprocessing import LabelEncoder\n",
    "cols = ('FireplaceQu', 'BsmtQual', 'BsmtCond', 'GarageQual', 'GarageCond', \n",
    "        'ExterQual', 'ExterCond','HeatingQC', 'PoolQC', 'KitchenQual', 'BsmtFinType1', \n",
    "        'BsmtFinType2', 'Functional', 'Fence', 'BsmtExposure', 'GarageFinish', 'LandSlope',\n",
    "        'LotShape', 'PavedDrive', 'Street', 'Alley', 'CentralAir', 'MSSubClass', 'OverallCond', \n",
    "        'YrSold', 'MoSold')\n",
    "# process columns, apply LabelEncoder to categorical features\n",
    "for c in cols:\n",
    "    lbl = LabelEncoder() \n",
    "    lbl.fit(list(all_data[c].values)) \n",
    "    all_data[c] = lbl.transform(list(all_data[c].values))\n",
    "\n",
    "# shape        \n",
    "print('Shape all_data: {}'.format(all_data.shape))"
   ]
  },
  {
   "cell_type": "markdown",
   "metadata": {},
   "source": [
    "dropping the converted categorical columns and\n",
    "the numeric columns with weak correlation "
   ]
  },
  {
   "cell_type": "code",
   "execution_count": 32,
   "metadata": {},
   "outputs": [],
   "source": [
    "catg_cols_to_drop = ['Neighborhood' , 'Condition2', 'MasVnrType', 'ExterQual', 'BsmtQual','CentralAir', 'Electrical', 'KitchenQual', 'SaleType']\n",
    "\n",
    "corr1 = df_train.corr()\n",
    "corr_abs_1 = corr1.abs()\n",
    "\n",
    "nr_all_cols = len(df_train)\n",
    "ser_corr_1 = corr_abs_1.nlargest(nr_all_cols, target)[target]\n",
    "\n",
    "cols_bel_corr_limit_1 = list(ser_corr_1[ser_corr_1.values <= min_val_corr].index)\n",
    "\n",
    "for df in [df_train, df_test] :\n",
    "    df.drop(catg_cols_to_drop, inplace= True, axis = 1)\n",
    "    df.drop(cols_bel_corr_limit_1, inplace= True, axis = 1) "
   ]
  },
  {
   "cell_type": "markdown",
   "metadata": {},
   "source": [
    "columns and correlation after dropping"
   ]
  },
  {
   "cell_type": "code",
   "execution_count": 33,
   "metadata": {},
   "outputs": [
    {
     "name": "stdout",
     "output_type": "stream",
     "text": [
      "SalePrice_Log    1.000000\n",
      "OverallQual      0.821404\n",
      "GrLivArea_Log    0.737427\n",
      "NbHd_num         0.696962\n",
      "ExtQ_num         0.682225\n",
      "Name: SalePrice_Log, dtype: float64\n"
     ]
    }
   ],
   "source": [
    "corr2 = df_train.corr()\n",
    "corr_abs_2 = corr2.abs()\n",
    "\n",
    "nr_all_cols = len(df_train)\n",
    "ser_corr_2 = corr_abs_2.nlargest(nr_all_cols, target)[target]\n",
    "\n",
    "print(ser_corr_2.head())"
   ]
  },
  {
   "cell_type": "code",
   "execution_count": 34,
   "metadata": {},
   "outputs": [
    {
     "data": {
      "text/html": [
       "<div>\n",
       "<style scoped>\n",
       "    .dataframe tbody tr th:only-of-type {\n",
       "        vertical-align: middle;\n",
       "    }\n",
       "\n",
       "    .dataframe tbody tr th {\n",
       "        vertical-align: top;\n",
       "    }\n",
       "\n",
       "    .dataframe thead th {\n",
       "        text-align: right;\n",
       "    }\n",
       "</style>\n",
       "<table border=\"1\" class=\"dataframe\">\n",
       "  <thead>\n",
       "    <tr style=\"text-align: right;\">\n",
       "      <th></th>\n",
       "      <th>MSZoning</th>\n",
       "      <th>OverallQual</th>\n",
       "      <th>YearBuilt</th>\n",
       "      <th>YearRemodAdd</th>\n",
       "      <th>MasVnrArea</th>\n",
       "      <th>TotalBsmtSF</th>\n",
       "      <th>1stFlrSF</th>\n",
       "      <th>FullBath</th>\n",
       "      <th>TotRmsAbvGrd</th>\n",
       "      <th>Fireplaces</th>\n",
       "      <th>...</th>\n",
       "      <th>GarageCars</th>\n",
       "      <th>GarageArea</th>\n",
       "      <th>SalePrice_Log</th>\n",
       "      <th>GrLivArea_Log</th>\n",
       "      <th>LotArea_Log</th>\n",
       "      <th>MSZ_num</th>\n",
       "      <th>NbHd_num</th>\n",
       "      <th>ExtQ_num</th>\n",
       "      <th>BsQ_num</th>\n",
       "      <th>KiQ_num</th>\n",
       "    </tr>\n",
       "  </thead>\n",
       "  <tbody>\n",
       "    <tr>\n",
       "      <td>0</td>\n",
       "      <td>RL</td>\n",
       "      <td>7</td>\n",
       "      <td>2003</td>\n",
       "      <td>2003</td>\n",
       "      <td>196.0</td>\n",
       "      <td>856</td>\n",
       "      <td>856</td>\n",
       "      <td>2</td>\n",
       "      <td>8</td>\n",
       "      <td>0</td>\n",
       "      <td>...</td>\n",
       "      <td>2</td>\n",
       "      <td>548</td>\n",
       "      <td>12.247694</td>\n",
       "      <td>7.444249</td>\n",
       "      <td>9.041922</td>\n",
       "      <td>3</td>\n",
       "      <td>2</td>\n",
       "      <td>3</td>\n",
       "      <td>2</td>\n",
       "      <td>3</td>\n",
       "    </tr>\n",
       "    <tr>\n",
       "      <td>1</td>\n",
       "      <td>RL</td>\n",
       "      <td>6</td>\n",
       "      <td>1976</td>\n",
       "      <td>1976</td>\n",
       "      <td>0.0</td>\n",
       "      <td>1262</td>\n",
       "      <td>1262</td>\n",
       "      <td>2</td>\n",
       "      <td>6</td>\n",
       "      <td>1</td>\n",
       "      <td>...</td>\n",
       "      <td>2</td>\n",
       "      <td>460</td>\n",
       "      <td>12.109011</td>\n",
       "      <td>7.140453</td>\n",
       "      <td>9.169518</td>\n",
       "      <td>3</td>\n",
       "      <td>2</td>\n",
       "      <td>2</td>\n",
       "      <td>2</td>\n",
       "      <td>2</td>\n",
       "    </tr>\n",
       "    <tr>\n",
       "      <td>2</td>\n",
       "      <td>RL</td>\n",
       "      <td>7</td>\n",
       "      <td>2001</td>\n",
       "      <td>2002</td>\n",
       "      <td>162.0</td>\n",
       "      <td>920</td>\n",
       "      <td>920</td>\n",
       "      <td>2</td>\n",
       "      <td>6</td>\n",
       "      <td>1</td>\n",
       "      <td>...</td>\n",
       "      <td>2</td>\n",
       "      <td>608</td>\n",
       "      <td>12.317167</td>\n",
       "      <td>7.487734</td>\n",
       "      <td>9.328123</td>\n",
       "      <td>3</td>\n",
       "      <td>2</td>\n",
       "      <td>3</td>\n",
       "      <td>2</td>\n",
       "      <td>3</td>\n",
       "    </tr>\n",
       "    <tr>\n",
       "      <td>3</td>\n",
       "      <td>RL</td>\n",
       "      <td>7</td>\n",
       "      <td>1915</td>\n",
       "      <td>1970</td>\n",
       "      <td>0.0</td>\n",
       "      <td>756</td>\n",
       "      <td>961</td>\n",
       "      <td>1</td>\n",
       "      <td>7</td>\n",
       "      <td>1</td>\n",
       "      <td>...</td>\n",
       "      <td>3</td>\n",
       "      <td>642</td>\n",
       "      <td>11.849398</td>\n",
       "      <td>7.448334</td>\n",
       "      <td>9.164296</td>\n",
       "      <td>3</td>\n",
       "      <td>2</td>\n",
       "      <td>2</td>\n",
       "      <td>1</td>\n",
       "      <td>3</td>\n",
       "    </tr>\n",
       "    <tr>\n",
       "      <td>4</td>\n",
       "      <td>RL</td>\n",
       "      <td>8</td>\n",
       "      <td>2000</td>\n",
       "      <td>2000</td>\n",
       "      <td>350.0</td>\n",
       "      <td>1145</td>\n",
       "      <td>1145</td>\n",
       "      <td>2</td>\n",
       "      <td>9</td>\n",
       "      <td>1</td>\n",
       "      <td>...</td>\n",
       "      <td>3</td>\n",
       "      <td>836</td>\n",
       "      <td>12.429216</td>\n",
       "      <td>7.695303</td>\n",
       "      <td>9.565214</td>\n",
       "      <td>3</td>\n",
       "      <td>3</td>\n",
       "      <td>3</td>\n",
       "      <td>2</td>\n",
       "      <td>3</td>\n",
       "    </tr>\n",
       "  </tbody>\n",
       "</table>\n",
       "<p>5 rows × 21 columns</p>\n",
       "</div>"
      ],
      "text/plain": [
       "  MSZoning  OverallQual  YearBuilt  YearRemodAdd  MasVnrArea  TotalBsmtSF  \\\n",
       "0       RL            7       2003          2003       196.0          856   \n",
       "1       RL            6       1976          1976         0.0         1262   \n",
       "2       RL            7       2001          2002       162.0          920   \n",
       "3       RL            7       1915          1970         0.0          756   \n",
       "4       RL            8       2000          2000       350.0         1145   \n",
       "\n",
       "   1stFlrSF  FullBath  TotRmsAbvGrd  Fireplaces  ...  GarageCars  GarageArea  \\\n",
       "0       856         2             8           0  ...           2         548   \n",
       "1      1262         2             6           1  ...           2         460   \n",
       "2       920         2             6           1  ...           2         608   \n",
       "3       961         1             7           1  ...           3         642   \n",
       "4      1145         2             9           1  ...           3         836   \n",
       "\n",
       "   SalePrice_Log  GrLivArea_Log  LotArea_Log  MSZ_num  NbHd_num  ExtQ_num  \\\n",
       "0      12.247694       7.444249     9.041922        3         2         3   \n",
       "1      12.109011       7.140453     9.169518        3         2         2   \n",
       "2      12.317167       7.487734     9.328123        3         2         3   \n",
       "3      11.849398       7.448334     9.164296        3         2         2   \n",
       "4      12.429216       7.695303     9.565214        3         3         3   \n",
       "\n",
       "   BsQ_num  KiQ_num  \n",
       "0        2        3  \n",
       "1        2        2  \n",
       "2        2        3  \n",
       "3        1        3  \n",
       "4        2        3  \n",
       "\n",
       "[5 rows x 21 columns]"
      ]
     },
     "execution_count": 34,
     "metadata": {},
     "output_type": "execute_result"
    }
   ],
   "source": [
    "df_train.head()"
   ]
  },
  {
   "cell_type": "code",
   "execution_count": 35,
   "metadata": {
    "scrolled": true
   },
   "outputs": [
    {
     "data": {
      "text/html": [
       "<div>\n",
       "<style scoped>\n",
       "    .dataframe tbody tr th:only-of-type {\n",
       "        vertical-align: middle;\n",
       "    }\n",
       "\n",
       "    .dataframe tbody tr th {\n",
       "        vertical-align: top;\n",
       "    }\n",
       "\n",
       "    .dataframe thead th {\n",
       "        text-align: right;\n",
       "    }\n",
       "</style>\n",
       "<table border=\"1\" class=\"dataframe\">\n",
       "  <thead>\n",
       "    <tr style=\"text-align: right;\">\n",
       "      <th></th>\n",
       "      <th>MSZoning</th>\n",
       "      <th>OverallQual</th>\n",
       "      <th>YearBuilt</th>\n",
       "      <th>YearRemodAdd</th>\n",
       "      <th>MasVnrArea</th>\n",
       "      <th>TotalBsmtSF</th>\n",
       "      <th>1stFlrSF</th>\n",
       "      <th>FullBath</th>\n",
       "      <th>TotRmsAbvGrd</th>\n",
       "      <th>Fireplaces</th>\n",
       "      <th>GarageYrBlt</th>\n",
       "      <th>GarageCars</th>\n",
       "      <th>GarageArea</th>\n",
       "      <th>GrLivArea_Log</th>\n",
       "      <th>LotArea_Log</th>\n",
       "      <th>MSZ_num</th>\n",
       "      <th>NbHd_num</th>\n",
       "      <th>ExtQ_num</th>\n",
       "      <th>BsQ_num</th>\n",
       "      <th>KiQ_num</th>\n",
       "    </tr>\n",
       "  </thead>\n",
       "  <tbody>\n",
       "    <tr>\n",
       "      <td>0</td>\n",
       "      <td>RH</td>\n",
       "      <td>5</td>\n",
       "      <td>1961</td>\n",
       "      <td>1961</td>\n",
       "      <td>0.0</td>\n",
       "      <td>882.0</td>\n",
       "      <td>896</td>\n",
       "      <td>1</td>\n",
       "      <td>5</td>\n",
       "      <td>0</td>\n",
       "      <td>1961.0</td>\n",
       "      <td>1.0</td>\n",
       "      <td>730.0</td>\n",
       "      <td>6.797940</td>\n",
       "      <td>9.360655</td>\n",
       "      <td>2</td>\n",
       "      <td>1</td>\n",
       "      <td>2</td>\n",
       "      <td>1</td>\n",
       "      <td>2</td>\n",
       "    </tr>\n",
       "    <tr>\n",
       "      <td>1</td>\n",
       "      <td>RL</td>\n",
       "      <td>6</td>\n",
       "      <td>1958</td>\n",
       "      <td>1958</td>\n",
       "      <td>108.0</td>\n",
       "      <td>1329.0</td>\n",
       "      <td>1329</td>\n",
       "      <td>1</td>\n",
       "      <td>6</td>\n",
       "      <td>0</td>\n",
       "      <td>1958.0</td>\n",
       "      <td>1.0</td>\n",
       "      <td>312.0</td>\n",
       "      <td>7.192182</td>\n",
       "      <td>9.565704</td>\n",
       "      <td>3</td>\n",
       "      <td>1</td>\n",
       "      <td>2</td>\n",
       "      <td>1</td>\n",
       "      <td>3</td>\n",
       "    </tr>\n",
       "    <tr>\n",
       "      <td>2</td>\n",
       "      <td>RL</td>\n",
       "      <td>5</td>\n",
       "      <td>1997</td>\n",
       "      <td>1998</td>\n",
       "      <td>0.0</td>\n",
       "      <td>928.0</td>\n",
       "      <td>928</td>\n",
       "      <td>2</td>\n",
       "      <td>6</td>\n",
       "      <td>1</td>\n",
       "      <td>1997.0</td>\n",
       "      <td>2.0</td>\n",
       "      <td>482.0</td>\n",
       "      <td>7.395722</td>\n",
       "      <td>9.534595</td>\n",
       "      <td>3</td>\n",
       "      <td>2</td>\n",
       "      <td>2</td>\n",
       "      <td>2</td>\n",
       "      <td>2</td>\n",
       "    </tr>\n",
       "    <tr>\n",
       "      <td>3</td>\n",
       "      <td>RL</td>\n",
       "      <td>6</td>\n",
       "      <td>1998</td>\n",
       "      <td>1998</td>\n",
       "      <td>20.0</td>\n",
       "      <td>926.0</td>\n",
       "      <td>926</td>\n",
       "      <td>2</td>\n",
       "      <td>7</td>\n",
       "      <td>1</td>\n",
       "      <td>1998.0</td>\n",
       "      <td>2.0</td>\n",
       "      <td>470.0</td>\n",
       "      <td>7.380256</td>\n",
       "      <td>9.208138</td>\n",
       "      <td>3</td>\n",
       "      <td>2</td>\n",
       "      <td>2</td>\n",
       "      <td>1</td>\n",
       "      <td>3</td>\n",
       "    </tr>\n",
       "    <tr>\n",
       "      <td>4</td>\n",
       "      <td>RL</td>\n",
       "      <td>8</td>\n",
       "      <td>1992</td>\n",
       "      <td>1992</td>\n",
       "      <td>0.0</td>\n",
       "      <td>1280.0</td>\n",
       "      <td>1280</td>\n",
       "      <td>2</td>\n",
       "      <td>5</td>\n",
       "      <td>0</td>\n",
       "      <td>1992.0</td>\n",
       "      <td>2.0</td>\n",
       "      <td>506.0</td>\n",
       "      <td>7.154615</td>\n",
       "      <td>8.518193</td>\n",
       "      <td>3</td>\n",
       "      <td>3</td>\n",
       "      <td>3</td>\n",
       "      <td>2</td>\n",
       "      <td>3</td>\n",
       "    </tr>\n",
       "  </tbody>\n",
       "</table>\n",
       "</div>"
      ],
      "text/plain": [
       "  MSZoning  OverallQual  YearBuilt  YearRemodAdd  MasVnrArea  TotalBsmtSF  \\\n",
       "0       RH            5       1961          1961         0.0        882.0   \n",
       "1       RL            6       1958          1958       108.0       1329.0   \n",
       "2       RL            5       1997          1998         0.0        928.0   \n",
       "3       RL            6       1998          1998        20.0        926.0   \n",
       "4       RL            8       1992          1992         0.0       1280.0   \n",
       "\n",
       "   1stFlrSF  FullBath  TotRmsAbvGrd  Fireplaces  GarageYrBlt  GarageCars  \\\n",
       "0       896         1             5           0       1961.0         1.0   \n",
       "1      1329         1             6           0       1958.0         1.0   \n",
       "2       928         2             6           1       1997.0         2.0   \n",
       "3       926         2             7           1       1998.0         2.0   \n",
       "4      1280         2             5           0       1992.0         2.0   \n",
       "\n",
       "   GarageArea  GrLivArea_Log  LotArea_Log  MSZ_num  NbHd_num  ExtQ_num  \\\n",
       "0       730.0       6.797940     9.360655        2         1         2   \n",
       "1       312.0       7.192182     9.565704        3         1         2   \n",
       "2       482.0       7.395722     9.534595        3         2         2   \n",
       "3       470.0       7.380256     9.208138        3         2         2   \n",
       "4       506.0       7.154615     8.518193        3         3         3   \n",
       "\n",
       "   BsQ_num  KiQ_num  \n",
       "0        1        2  \n",
       "1        1        3  \n",
       "2        2        2  \n",
       "3        1        3  \n",
       "4        2        3  "
      ]
     },
     "execution_count": 35,
     "metadata": {},
     "output_type": "execute_result"
    }
   ],
   "source": [
    "df_test.head()"
   ]
  },
  {
   "cell_type": "markdown",
   "metadata": {},
   "source": [
    "List of all features with strong correlation to SalePrice_Log  \n",
    "after dropping all coumns with weak correlation"
   ]
  },
  {
   "cell_type": "code",
   "execution_count": 36,
   "metadata": {},
   "outputs": [
    {
     "name": "stdout",
     "output_type": "stream",
     "text": [
      "SalePrice_Log    1.000000\n",
      "OverallQual      0.821404\n",
      "GrLivArea_Log    0.737427\n",
      "NbHd_num         0.696962\n",
      "ExtQ_num         0.682225\n",
      "Name: SalePrice_Log, dtype: float64\n"
     ]
    }
   ],
   "source": [
    "corr = df_train.corr()\n",
    "corr_abs = corr.abs()\n",
    "\n",
    "nr_all_cols = len(df_train)\n",
    "print (corr_abs.nlargest(nr_all_cols, target)[target].head())"
   ]
  },
  {
   "cell_type": "markdown",
   "metadata": {},
   "source": [
    "다중공선성이 높은 두 변수들 중에 Y변수에 더 작은 correlation coefficient 를 가진 변수를 제거"
   ]
  },
  {
   "cell_type": "markdown",
   "metadata": {},
   "source": [
    "Strong correlation of these features to other, similar features:\n",
    "'GrLivArea_Log' and 'TotRmsAbvGrd'  \n",
    "'GarageCars' and 'GarageArea'  \n",
    "'TotalBsmtSF' and '1stFlrSF'  \n",
    "'YearBuilt' and 'GarageYrBlt'  "
   ]
  },
  {
   "cell_type": "code",
   "execution_count": 37,
   "metadata": {},
   "outputs": [],
   "source": [
    "cols = corr_abs.nlargest(nr_all_cols, target)[target].index\n",
    "cols = list(cols)\n",
    "\n",
    "# switch for dropping columns that are similar to others already used and show a high correlation to these     \n",
    "drop_similar = 1\n",
    "\n",
    "if drop_similar == 1 :\n",
    "    for col in ['GarageArea','1stFlrSF','TotRmsAbvGrd','GarageYrBlt'] :\n",
    "        if col in cols: \n",
    "            cols.remove(col)"
   ]
  },
  {
   "cell_type": "code",
   "execution_count": 38,
   "metadata": {},
   "outputs": [],
   "source": [
    "feats = ['OverallQual', 'GrLivArea_Log', 'NbHd_num', 'ExtQ_num',\n",
    "         'GarageCars', 'KiQ_num', 'LotArea_Log',\n",
    "         'BsQ_num', 'TotalBsmtSF', 'FullBath', 'YearBuilt', \n",
    "         'YearRemodAdd', 'Fireplaces', 'MasVnrArea', 'MSZ_num']"
   ]
  },
  {
   "cell_type": "code",
   "execution_count": 41,
   "metadata": {},
   "outputs": [],
   "source": [
    "df_train_ml = df_train[feats].copy()\n",
    "df_test_ml  = df_test[feats].copy()\n",
    "\n",
    "y = df_train[target]"
   ]
  },
  {
   "cell_type": "code",
   "execution_count": 39,
   "metadata": {
    "scrolled": true
   },
   "outputs": [],
   "source": [
    "# all_data = pd.concat((df_train[feats], df_test[feats]))\n",
    "\n",
    "# li_get_dummies = ['OverallQual', 'NbHd_num', 'GarageCars','ExtQ_num', 'KiQ_num',\n",
    "#                   'BsQ_num', 'FullBath', 'Fireplaces', 'MSZ_num']\n",
    "# all_data = pd.get_dummies(all_data, columns=li_get_dummies, drop_first=True)\n",
    "\n",
    "# df_train_ml = all_data[:df_train.shape[0]]\n",
    "# df_test_ml  = all_data[df_train.shape[0]:]"
   ]
  },
  {
   "cell_type": "markdown",
   "metadata": {},
   "source": [
    "## StandardScaler"
   ]
  },
  {
   "cell_type": "code",
   "execution_count": 42,
   "metadata": {},
   "outputs": [],
   "source": [
    "from sklearn.preprocessing import StandardScaler\n",
    "\n",
    "sc = StandardScaler()\n",
    "df_train_ml_sc = sc.fit_transform(df_train_ml)\n",
    "df_test_ml_sc = sc.transform(df_test_ml)"
   ]
  },
  {
   "cell_type": "code",
   "execution_count": 43,
   "metadata": {},
   "outputs": [
    {
     "data": {
      "text/html": [
       "<div>\n",
       "<style scoped>\n",
       "    .dataframe tbody tr th:only-of-type {\n",
       "        vertical-align: middle;\n",
       "    }\n",
       "\n",
       "    .dataframe tbody tr th {\n",
       "        vertical-align: top;\n",
       "    }\n",
       "\n",
       "    .dataframe thead th {\n",
       "        text-align: right;\n",
       "    }\n",
       "</style>\n",
       "<table border=\"1\" class=\"dataframe\">\n",
       "  <thead>\n",
       "    <tr style=\"text-align: right;\">\n",
       "      <th></th>\n",
       "      <th>OverallQual</th>\n",
       "      <th>GrLivArea_Log</th>\n",
       "      <th>NbHd_num</th>\n",
       "      <th>ExtQ_num</th>\n",
       "      <th>GarageCars</th>\n",
       "      <th>KiQ_num</th>\n",
       "      <th>LotArea_Log</th>\n",
       "      <th>BsQ_num</th>\n",
       "      <th>TotalBsmtSF</th>\n",
       "      <th>FullBath</th>\n",
       "      <th>YearBuilt</th>\n",
       "      <th>YearRemodAdd</th>\n",
       "      <th>Fireplaces</th>\n",
       "      <th>MasVnrArea</th>\n",
       "      <th>MSZ_num</th>\n",
       "    </tr>\n",
       "  </thead>\n",
       "  <tbody>\n",
       "    <tr>\n",
       "      <td>0</td>\n",
       "      <td>7</td>\n",
       "      <td>7.444249</td>\n",
       "      <td>2</td>\n",
       "      <td>3</td>\n",
       "      <td>2</td>\n",
       "      <td>3</td>\n",
       "      <td>9.041922</td>\n",
       "      <td>2</td>\n",
       "      <td>856</td>\n",
       "      <td>2</td>\n",
       "      <td>2003</td>\n",
       "      <td>2003</td>\n",
       "      <td>0</td>\n",
       "      <td>196.0</td>\n",
       "      <td>3</td>\n",
       "    </tr>\n",
       "    <tr>\n",
       "      <td>1</td>\n",
       "      <td>6</td>\n",
       "      <td>7.140453</td>\n",
       "      <td>2</td>\n",
       "      <td>2</td>\n",
       "      <td>2</td>\n",
       "      <td>2</td>\n",
       "      <td>9.169518</td>\n",
       "      <td>2</td>\n",
       "      <td>1262</td>\n",
       "      <td>2</td>\n",
       "      <td>1976</td>\n",
       "      <td>1976</td>\n",
       "      <td>1</td>\n",
       "      <td>0.0</td>\n",
       "      <td>3</td>\n",
       "    </tr>\n",
       "  </tbody>\n",
       "</table>\n",
       "</div>"
      ],
      "text/plain": [
       "   OverallQual  GrLivArea_Log  NbHd_num  ExtQ_num  GarageCars  KiQ_num  \\\n",
       "0            7       7.444249         2         3           2        3   \n",
       "1            6       7.140453         2         2           2        2   \n",
       "\n",
       "   LotArea_Log  BsQ_num  TotalBsmtSF  FullBath  YearBuilt  YearRemodAdd  \\\n",
       "0     9.041922        2          856         2       2003          2003   \n",
       "1     9.169518        2         1262         2       1976          1976   \n",
       "\n",
       "   Fireplaces  MasVnrArea  MSZ_num  \n",
       "0           0       196.0        3  \n",
       "1           1         0.0        3  "
      ]
     },
     "execution_count": 43,
     "metadata": {},
     "output_type": "execute_result"
    }
   ],
   "source": [
    "df_train_ml.head(2)"
   ]
  },
  {
   "cell_type": "code",
   "execution_count": 44,
   "metadata": {},
   "outputs": [
    {
     "data": {
      "text/html": [
       "<div>\n",
       "<style scoped>\n",
       "    .dataframe tbody tr th:only-of-type {\n",
       "        vertical-align: middle;\n",
       "    }\n",
       "\n",
       "    .dataframe tbody tr th {\n",
       "        vertical-align: top;\n",
       "    }\n",
       "\n",
       "    .dataframe thead th {\n",
       "        text-align: right;\n",
       "    }\n",
       "</style>\n",
       "<table border=\"1\" class=\"dataframe\">\n",
       "  <thead>\n",
       "    <tr style=\"text-align: right;\">\n",
       "      <th></th>\n",
       "      <th>0</th>\n",
       "      <th>1</th>\n",
       "      <th>2</th>\n",
       "      <th>3</th>\n",
       "      <th>4</th>\n",
       "      <th>5</th>\n",
       "      <th>6</th>\n",
       "      <th>7</th>\n",
       "      <th>8</th>\n",
       "      <th>9</th>\n",
       "      <th>10</th>\n",
       "      <th>11</th>\n",
       "      <th>12</th>\n",
       "      <th>13</th>\n",
       "      <th>14</th>\n",
       "    </tr>\n",
       "  </thead>\n",
       "  <tbody>\n",
       "    <tr>\n",
       "      <td>0</td>\n",
       "      <td>0.658506</td>\n",
       "      <td>0.539624</td>\n",
       "      <td>0.658963</td>\n",
       "      <td>1.061109</td>\n",
       "      <td>0.313159</td>\n",
       "      <td>0.741127</td>\n",
       "      <td>-0.129585</td>\n",
       "      <td>0.648281</td>\n",
       "      <td>-0.473766</td>\n",
       "      <td>0.793546</td>\n",
       "      <td>1.052959</td>\n",
       "      <td>0.880362</td>\n",
       "      <td>-0.952231</td>\n",
       "      <td>0.521228</td>\n",
       "      <td>0.438861</td>\n",
       "    </tr>\n",
       "    <tr>\n",
       "      <td>1</td>\n",
       "      <td>-0.068293</td>\n",
       "      <td>-0.380198</td>\n",
       "      <td>0.658963</td>\n",
       "      <td>-0.689001</td>\n",
       "      <td>0.313159</td>\n",
       "      <td>-0.770150</td>\n",
       "      <td>0.118848</td>\n",
       "      <td>0.648281</td>\n",
       "      <td>0.504925</td>\n",
       "      <td>0.793546</td>\n",
       "      <td>0.158428</td>\n",
       "      <td>-0.428115</td>\n",
       "      <td>0.605965</td>\n",
       "      <td>-0.574433</td>\n",
       "      <td>0.438861</td>\n",
       "    </tr>\n",
       "  </tbody>\n",
       "</table>\n",
       "</div>"
      ],
      "text/plain": [
       "          0         1         2         3         4         5         6  \\\n",
       "0  0.658506  0.539624  0.658963  1.061109  0.313159  0.741127 -0.129585   \n",
       "1 -0.068293 -0.380198  0.658963 -0.689001  0.313159 -0.770150  0.118848   \n",
       "\n",
       "          7         8         9        10        11        12        13  \\\n",
       "0  0.648281 -0.473766  0.793546  1.052959  0.880362 -0.952231  0.521228   \n",
       "1  0.648281  0.504925  0.793546  0.158428 -0.428115  0.605965 -0.574433   \n",
       "\n",
       "         14  \n",
       "0  0.438861  \n",
       "1  0.438861  "
      ]
     },
     "execution_count": 44,
     "metadata": {},
     "output_type": "execute_result"
    }
   ],
   "source": [
    "df_train_ml_sc = pd.DataFrame(df_train_ml_sc)\n",
    "df_train_ml_sc.head(2)"
   ]
  },
  {
   "cell_type": "markdown",
   "metadata": {},
   "source": [
    "## Creating datasets for ML algorithms"
   ]
  },
  {
   "cell_type": "code",
   "execution_count": 45,
   "metadata": {},
   "outputs": [
    {
     "data": {
      "text/plain": [
       "Index(['OverallQual', 'GrLivArea_Log', 'NbHd_num', 'ExtQ_num', 'GarageCars',\n",
       "       'KiQ_num', 'LotArea_Log', 'BsQ_num', 'TotalBsmtSF', 'FullBath',\n",
       "       'YearBuilt', 'YearRemodAdd', 'Fireplaces', 'MasVnrArea', 'MSZ_num'],\n",
       "      dtype='object')"
      ]
     },
     "execution_count": 45,
     "metadata": {},
     "output_type": "execute_result"
    }
   ],
   "source": [
    "X = df_train_ml.copy()\n",
    "y = df_train[target]\n",
    "X_test = df_test_ml.copy()\n",
    "#standard scaler\n",
    "X_sc = df_train_ml_sc.copy()\n",
    "y_sc = df_train[target]\n",
    "X_test_sc = df_test_ml_sc.copy()\n",
    "\n",
    "X.columns\n",
    "X_test.columns"
   ]
  },
  {
   "cell_type": "code",
   "execution_count": 46,
   "metadata": {},
   "outputs": [
    {
     "data": {
      "text/html": [
       "<div>\n",
       "<style scoped>\n",
       "    .dataframe tbody tr th:only-of-type {\n",
       "        vertical-align: middle;\n",
       "    }\n",
       "\n",
       "    .dataframe tbody tr th {\n",
       "        vertical-align: top;\n",
       "    }\n",
       "\n",
       "    .dataframe thead th {\n",
       "        text-align: right;\n",
       "    }\n",
       "</style>\n",
       "<table border=\"1\" class=\"dataframe\">\n",
       "  <thead>\n",
       "    <tr style=\"text-align: right;\">\n",
       "      <th></th>\n",
       "      <th>OverallQual</th>\n",
       "      <th>GrLivArea_Log</th>\n",
       "      <th>NbHd_num</th>\n",
       "      <th>ExtQ_num</th>\n",
       "      <th>GarageCars</th>\n",
       "      <th>KiQ_num</th>\n",
       "      <th>LotArea_Log</th>\n",
       "      <th>BsQ_num</th>\n",
       "      <th>TotalBsmtSF</th>\n",
       "      <th>FullBath</th>\n",
       "      <th>YearBuilt</th>\n",
       "      <th>YearRemodAdd</th>\n",
       "      <th>Fireplaces</th>\n",
       "      <th>MasVnrArea</th>\n",
       "      <th>MSZ_num</th>\n",
       "    </tr>\n",
       "  </thead>\n",
       "  <tbody>\n",
       "    <tr>\n",
       "      <td>0</td>\n",
       "      <td>7</td>\n",
       "      <td>7.444249</td>\n",
       "      <td>2</td>\n",
       "      <td>3</td>\n",
       "      <td>2</td>\n",
       "      <td>3</td>\n",
       "      <td>9.041922</td>\n",
       "      <td>2</td>\n",
       "      <td>856</td>\n",
       "      <td>2</td>\n",
       "      <td>2003</td>\n",
       "      <td>2003</td>\n",
       "      <td>0</td>\n",
       "      <td>196.0</td>\n",
       "      <td>3</td>\n",
       "    </tr>\n",
       "    <tr>\n",
       "      <td>1</td>\n",
       "      <td>6</td>\n",
       "      <td>7.140453</td>\n",
       "      <td>2</td>\n",
       "      <td>2</td>\n",
       "      <td>2</td>\n",
       "      <td>2</td>\n",
       "      <td>9.169518</td>\n",
       "      <td>2</td>\n",
       "      <td>1262</td>\n",
       "      <td>2</td>\n",
       "      <td>1976</td>\n",
       "      <td>1976</td>\n",
       "      <td>1</td>\n",
       "      <td>0.0</td>\n",
       "      <td>3</td>\n",
       "    </tr>\n",
       "  </tbody>\n",
       "</table>\n",
       "</div>"
      ],
      "text/plain": [
       "   OverallQual  GrLivArea_Log  NbHd_num  ExtQ_num  GarageCars  KiQ_num  \\\n",
       "0            7       7.444249         2         3           2        3   \n",
       "1            6       7.140453         2         2           2        2   \n",
       "\n",
       "   LotArea_Log  BsQ_num  TotalBsmtSF  FullBath  YearBuilt  YearRemodAdd  \\\n",
       "0     9.041922        2          856         2       2003          2003   \n",
       "1     9.169518        2         1262         2       1976          1976   \n",
       "\n",
       "   Fireplaces  MasVnrArea  MSZ_num  \n",
       "0           0       196.0        3  \n",
       "1           1         0.0        3  "
      ]
     },
     "execution_count": 46,
     "metadata": {},
     "output_type": "execute_result"
    }
   ],
   "source": [
    "X.head(2)"
   ]
  },
  {
   "cell_type": "code",
   "execution_count": 47,
   "metadata": {},
   "outputs": [
    {
     "data": {
      "text/html": [
       "<div>\n",
       "<style scoped>\n",
       "    .dataframe tbody tr th:only-of-type {\n",
       "        vertical-align: middle;\n",
       "    }\n",
       "\n",
       "    .dataframe tbody tr th {\n",
       "        vertical-align: top;\n",
       "    }\n",
       "\n",
       "    .dataframe thead th {\n",
       "        text-align: right;\n",
       "    }\n",
       "</style>\n",
       "<table border=\"1\" class=\"dataframe\">\n",
       "  <thead>\n",
       "    <tr style=\"text-align: right;\">\n",
       "      <th></th>\n",
       "      <th>0</th>\n",
       "      <th>1</th>\n",
       "      <th>2</th>\n",
       "      <th>3</th>\n",
       "      <th>4</th>\n",
       "      <th>5</th>\n",
       "      <th>6</th>\n",
       "      <th>7</th>\n",
       "      <th>8</th>\n",
       "      <th>9</th>\n",
       "      <th>10</th>\n",
       "      <th>11</th>\n",
       "      <th>12</th>\n",
       "      <th>13</th>\n",
       "      <th>14</th>\n",
       "    </tr>\n",
       "  </thead>\n",
       "  <tbody>\n",
       "    <tr>\n",
       "      <td>0</td>\n",
       "      <td>0.658506</td>\n",
       "      <td>0.539624</td>\n",
       "      <td>0.658963</td>\n",
       "      <td>1.061109</td>\n",
       "      <td>0.313159</td>\n",
       "      <td>0.741127</td>\n",
       "      <td>-0.129585</td>\n",
       "      <td>0.648281</td>\n",
       "      <td>-0.473766</td>\n",
       "      <td>0.793546</td>\n",
       "      <td>1.052959</td>\n",
       "      <td>0.880362</td>\n",
       "      <td>-0.952231</td>\n",
       "      <td>0.521228</td>\n",
       "      <td>0.438861</td>\n",
       "    </tr>\n",
       "    <tr>\n",
       "      <td>1</td>\n",
       "      <td>-0.068293</td>\n",
       "      <td>-0.380198</td>\n",
       "      <td>0.658963</td>\n",
       "      <td>-0.689001</td>\n",
       "      <td>0.313159</td>\n",
       "      <td>-0.770150</td>\n",
       "      <td>0.118848</td>\n",
       "      <td>0.648281</td>\n",
       "      <td>0.504925</td>\n",
       "      <td>0.793546</td>\n",
       "      <td>0.158428</td>\n",
       "      <td>-0.428115</td>\n",
       "      <td>0.605965</td>\n",
       "      <td>-0.574433</td>\n",
       "      <td>0.438861</td>\n",
       "    </tr>\n",
       "  </tbody>\n",
       "</table>\n",
       "</div>"
      ],
      "text/plain": [
       "          0         1         2         3         4         5         6  \\\n",
       "0  0.658506  0.539624  0.658963  1.061109  0.313159  0.741127 -0.129585   \n",
       "1 -0.068293 -0.380198  0.658963 -0.689001  0.313159 -0.770150  0.118848   \n",
       "\n",
       "          7         8         9        10        11        12        13  \\\n",
       "0  0.648281 -0.473766  0.793546  1.052959  0.880362 -0.952231  0.521228   \n",
       "1  0.648281  0.504925  0.793546  0.158428 -0.428115  0.605965 -0.574433   \n",
       "\n",
       "         14  \n",
       "0  0.438861  \n",
       "1  0.438861  "
      ]
     },
     "execution_count": 47,
     "metadata": {},
     "output_type": "execute_result"
    }
   ],
   "source": [
    "X_sc.head(2)"
   ]
  },
  {
   "cell_type": "code",
   "execution_count": 49,
   "metadata": {},
   "outputs": [
    {
     "data": {
      "text/html": [
       "<div>\n",
       "<style scoped>\n",
       "    .dataframe tbody tr th:only-of-type {\n",
       "        vertical-align: middle;\n",
       "    }\n",
       "\n",
       "    .dataframe tbody tr th {\n",
       "        vertical-align: top;\n",
       "    }\n",
       "\n",
       "    .dataframe thead th {\n",
       "        text-align: right;\n",
       "    }\n",
       "</style>\n",
       "<table border=\"1\" class=\"dataframe\">\n",
       "  <thead>\n",
       "    <tr style=\"text-align: right;\">\n",
       "      <th></th>\n",
       "      <th>OverallQual</th>\n",
       "      <th>GrLivArea_Log</th>\n",
       "      <th>NbHd_num</th>\n",
       "      <th>ExtQ_num</th>\n",
       "      <th>GarageCars</th>\n",
       "      <th>KiQ_num</th>\n",
       "      <th>LotArea_Log</th>\n",
       "      <th>BsQ_num</th>\n",
       "      <th>TotalBsmtSF</th>\n",
       "      <th>FullBath</th>\n",
       "      <th>YearBuilt</th>\n",
       "      <th>YearRemodAdd</th>\n",
       "      <th>Fireplaces</th>\n",
       "      <th>MasVnrArea</th>\n",
       "      <th>MSZ_num</th>\n",
       "    </tr>\n",
       "  </thead>\n",
       "  <tbody>\n",
       "    <tr>\n",
       "      <td>0</td>\n",
       "      <td>5</td>\n",
       "      <td>6.797940</td>\n",
       "      <td>1</td>\n",
       "      <td>2</td>\n",
       "      <td>1.0</td>\n",
       "      <td>2</td>\n",
       "      <td>9.360655</td>\n",
       "      <td>1</td>\n",
       "      <td>882.0</td>\n",
       "      <td>1</td>\n",
       "      <td>1961</td>\n",
       "      <td>1961</td>\n",
       "      <td>0</td>\n",
       "      <td>0.0</td>\n",
       "      <td>2</td>\n",
       "    </tr>\n",
       "    <tr>\n",
       "      <td>1</td>\n",
       "      <td>6</td>\n",
       "      <td>7.192182</td>\n",
       "      <td>1</td>\n",
       "      <td>2</td>\n",
       "      <td>1.0</td>\n",
       "      <td>3</td>\n",
       "      <td>9.565704</td>\n",
       "      <td>1</td>\n",
       "      <td>1329.0</td>\n",
       "      <td>1</td>\n",
       "      <td>1958</td>\n",
       "      <td>1958</td>\n",
       "      <td>0</td>\n",
       "      <td>108.0</td>\n",
       "      <td>3</td>\n",
       "    </tr>\n",
       "  </tbody>\n",
       "</table>\n",
       "</div>"
      ],
      "text/plain": [
       "   OverallQual  GrLivArea_Log  NbHd_num  ExtQ_num  GarageCars  KiQ_num  \\\n",
       "0            5       6.797940         1         2         1.0        2   \n",
       "1            6       7.192182         1         2         1.0        3   \n",
       "\n",
       "   LotArea_Log  BsQ_num  TotalBsmtSF  FullBath  YearBuilt  YearRemodAdd  \\\n",
       "0     9.360655        1        882.0         1       1961          1961   \n",
       "1     9.565704        1       1329.0         1       1958          1958   \n",
       "\n",
       "   Fireplaces  MasVnrArea  MSZ_num  \n",
       "0           0         0.0        2  \n",
       "1           0       108.0        3  "
      ]
     },
     "execution_count": 49,
     "metadata": {},
     "output_type": "execute_result"
    }
   ],
   "source": [
    "X_test.head(2)"
   ]
  },
  {
   "cell_type": "markdown",
   "metadata": {},
   "source": [
    "- LinearRegression  \n",
    "- Ridge  \n",
    "- Lasso  \n",
    "- Elastic Net  \n",
    "- DecisionTreeRegressor  \n",
    "- RandomForestRegressor  \n",
    "- SVR  "
   ]
  },
  {
   "cell_type": "markdown",
   "metadata": {},
   "source": [
    "## GridSearchCV"
   ]
  },
  {
   "cell_type": "code",
   "execution_count": 55,
   "metadata": {},
   "outputs": [],
   "source": [
    "from sklearn.model_selection import GridSearchCV\n",
    "score_calc = 'neg_mean_squared_error'\n",
    "nr_cv = 5 # 5회 수행"
   ]
  },
  {
   "cell_type": "markdown",
   "metadata": {},
   "source": [
    "## Linear Regression"
   ]
  },
  {
   "cell_type": "code",
   "execution_count": 56,
   "metadata": {
    "scrolled": true
   },
   "outputs": [
    {
     "name": "stdout",
     "output_type": "stream",
     "text": [
      "Fitting 5 folds for each of 8 candidates, totalling 40 fits\n",
      "0.13623435061672198\n",
      "{'copy_X': True, 'fit_intercept': True, 'normalize': True}\n",
      "LinearRegression(copy_X=True, fit_intercept=True, n_jobs=None, normalize=True)"
     ]
    },
    {
     "name": "stderr",
     "output_type": "stream",
     "text": [
      "[Parallel(n_jobs=1)]: Using backend SequentialBackend with 1 concurrent workers.\n",
      "[Parallel(n_jobs=1)]: Done  40 out of  40 | elapsed:    0.2s finished\n"
     ]
    },
    {
     "name": "stdout",
     "output_type": "stream",
     "text": [
      "\n"
     ]
    }
   ],
   "source": [
    "from sklearn.linear_model import LinearRegression\n",
    "\n",
    "linreg = LinearRegression()\n",
    "parameters = {'fit_intercept':[True,False], 'normalize':[True,False], 'copy_X':[True, False]}\n",
    "grid_linear = GridSearchCV(linreg, parameters, cv=nr_cv, verbose=1 , scoring = score_calc)\n",
    "grid_linear.fit(X, y)\n",
    "\n",
    "sc_linear = get_best_score(grid_linear)"
   ]
  },
  {
   "cell_type": "code",
   "execution_count": 58,
   "metadata": {},
   "outputs": [],
   "source": [
    "# Standard Scaler 이후"
   ]
  },
  {
   "cell_type": "code",
   "execution_count": 57,
   "metadata": {},
   "outputs": [
    {
     "name": "stdout",
     "output_type": "stream",
     "text": [
      "Fitting 5 folds for each of 8 candidates, totalling 40 fits\n",
      "0.13623435061672204\n",
      "{'copy_X': True, 'fit_intercept': True, 'normalize': True}\n",
      "LinearRegression(copy_X=True, fit_intercept=True, n_jobs=None, normalize=True)\n"
     ]
    },
    {
     "name": "stderr",
     "output_type": "stream",
     "text": [
      "[Parallel(n_jobs=1)]: Using backend SequentialBackend with 1 concurrent workers.\n",
      "[Parallel(n_jobs=1)]: Done  40 out of  40 | elapsed:    0.1s finished\n"
     ]
    }
   ],
   "source": [
    "linreg_sc = LinearRegression()\n",
    "parameters = {'fit_intercept':[True,False], 'normalize':[True,False], 'copy_X':[True, False]}\n",
    "grid_linear_sc = GridSearchCV(linreg_sc, parameters, cv=nr_cv, verbose=1 , scoring = score_calc)\n",
    "grid_linear_sc.fit(X_sc, y)\n",
    "\n",
    "sc_linear_sc = get_best_score(grid_linear_sc)"
   ]
  },
  {
   "cell_type": "code",
   "execution_count": 59,
   "metadata": {},
   "outputs": [],
   "source": [
    "linregr_all = LinearRegression()\n",
    "#linregr_all.fit(X_train_all, y_train_all)\n",
    "linregr_all.fit(X, y)\n",
    "pred_linreg_all = linregr_all.predict(X_test)\n",
    "pred_linreg_all[pred_linreg_all < 0] = pred_linreg_all.mean()"
   ]
  },
  {
   "cell_type": "code",
   "execution_count": 60,
   "metadata": {},
   "outputs": [],
   "source": [
    "sub_linreg = pd.DataFrame()\n",
    "sub_linreg['Id'] = id_test\n",
    "sub_linreg['SalePrice'] = pred_linreg_all\n",
    "#sub_linreg.to_csv('linreg.csv',index=False)"
   ]
  },
  {
   "cell_type": "markdown",
   "metadata": {},
   "source": [
    "# Regularization"
   ]
  },
  {
   "cell_type": "markdown",
   "metadata": {},
   "source": [
    "feature가 너무 많아서 발생하는 overfitting을 막기 위해서  \n",
    "\n",
    "Ridge regression -> L2 regularization  \n",
    "\n",
    "Many small/medium sized effects: use ridge  \n",
    "알파값을 올릴수록, regularization 증가.  \n",
    "\n",
    "Lasso regression -> L1 regularization  \n",
    "\n",
    "Only a few variables with medium/large effect: use lasso  "
   ]
  },
  {
   "cell_type": "markdown",
   "metadata": {},
   "source": [
    "## Ridge"
   ]
  },
  {
   "cell_type": "code",
   "execution_count": 62,
   "metadata": {},
   "outputs": [
    {
     "name": "stdout",
     "output_type": "stream",
     "text": [
      "Fitting 5 folds for each of 48 candidates, totalling 240 fits\n"
     ]
    },
    {
     "name": "stderr",
     "output_type": "stream",
     "text": [
      "[Parallel(n_jobs=1)]: Using backend SequentialBackend with 1 concurrent workers.\n"
     ]
    },
    {
     "name": "stdout",
     "output_type": "stream",
     "text": [
      "0.13620838899929924\n",
      "{'alpha': 0.01, 'normalize': True, 'tol': 1e-06}\n",
      "Ridge(alpha=0.01, copy_X=True, fit_intercept=True, max_iter=None,\n",
      "      normalize=True, random_state=None, solver='auto', tol=1e-06)\n"
     ]
    },
    {
     "name": "stderr",
     "output_type": "stream",
     "text": [
      "[Parallel(n_jobs=1)]: Done 240 out of 240 | elapsed:    0.9s finished\n"
     ]
    }
   ],
   "source": [
    "from sklearn.linear_model import Ridge\n",
    "\n",
    "ridge = Ridge()\n",
    "parameters = {'alpha':[0.001,0.005,0.01,0.1,0.5,1],\n",
    "              'normalize':[True,False],\n",
    "              'tol':[1e-06,5e-06,1e-05,5e-05]}\n",
    "grid_ridge = GridSearchCV(ridge, parameters, cv=nr_cv, verbose=1, scoring = score_calc)\n",
    "grid_ridge.fit(X, y)\n",
    "\n",
    "sc_ridge = get_best_score(grid_ridge)"
   ]
  },
  {
   "cell_type": "code",
   "execution_count": 63,
   "metadata": {},
   "outputs": [
    {
     "name": "stdout",
     "output_type": "stream",
     "text": [
      "Fitting 5 folds for each of 48 candidates, totalling 240 fits\n"
     ]
    },
    {
     "name": "stderr",
     "output_type": "stream",
     "text": [
      "[Parallel(n_jobs=1)]: Using backend SequentialBackend with 1 concurrent workers.\n"
     ]
    },
    {
     "name": "stdout",
     "output_type": "stream",
     "text": [
      "0.1362083889992993\n",
      "{'alpha': 0.01, 'normalize': True, 'tol': 1e-06}\n",
      "Ridge(alpha=0.01, copy_X=True, fit_intercept=True, max_iter=None,\n",
      "      normalize=True, random_state=None, solver='auto', tol=1e-06)\n"
     ]
    },
    {
     "name": "stderr",
     "output_type": "stream",
     "text": [
      "[Parallel(n_jobs=1)]: Done 240 out of 240 | elapsed:    0.8s finished\n"
     ]
    }
   ],
   "source": [
    "ridge_sc = Ridge()\n",
    "grid_ridge_sc = GridSearchCV(ridge_sc, parameters, cv=nr_cv, verbose=1, scoring = score_calc)\n",
    "grid_ridge_sc.fit(X_sc, y)\n",
    "\n",
    "sc_ridge_sc = get_best_score(grid_ridge_sc)"
   ]
  },
  {
   "cell_type": "code",
   "execution_count": 64,
   "metadata": {},
   "outputs": [],
   "source": [
    "pred_ridge_all = grid_ridge.predict(X_test)"
   ]
  },
  {
   "cell_type": "markdown",
   "metadata": {},
   "source": [
    "## Lasso"
   ]
  },
  {
   "cell_type": "code",
   "execution_count": 66,
   "metadata": {
    "scrolled": true
   },
   "outputs": [
    {
     "name": "stdout",
     "output_type": "stream",
     "text": [
      "Fitting 5 folds for each of 72 candidates, totalling 360 fits\n"
     ]
    },
    {
     "name": "stderr",
     "output_type": "stream",
     "text": [
      "[Parallel(n_jobs=1)]: Using backend SequentialBackend with 1 concurrent workers.\n"
     ]
    },
    {
     "name": "stdout",
     "output_type": "stream",
     "text": [
      "0.13645662147792947\n",
      "{'alpha': 0.001, 'normalize': False, 'tol': 0.0005}\n",
      "Lasso(alpha=0.001, copy_X=True, fit_intercept=True, max_iter=1000,\n",
      "      normalize=False, positive=False, precompute=False, random_state=None,\n",
      "      selection='cyclic', tol=0.0005, warm_start=False)\n"
     ]
    },
    {
     "name": "stderr",
     "output_type": "stream",
     "text": [
      "[Parallel(n_jobs=1)]: Done 360 out of 360 | elapsed:    1.5s finished\n"
     ]
    }
   ],
   "source": [
    "from sklearn.linear_model import Lasso\n",
    "\n",
    "lasso = Lasso()\n",
    "parameters = {'alpha':[1e-03,0.01,0.1,0.5,0.8,1], 'normalize':[True,False], 'tol':[1e-06,1e-05,5e-05,1e-04,5e-04,1e-03]}\n",
    "grid_lasso = GridSearchCV(lasso, parameters, cv=nr_cv, verbose=1, scoring = score_calc)\n",
    "grid_lasso.fit(X, y)\n",
    "\n",
    "sc_lasso = get_best_score(grid_lasso)\n",
    "\n",
    "pred_lasso = grid_lasso.predict(X_test)"
   ]
  },
  {
   "cell_type": "code",
   "execution_count": null,
   "metadata": {},
   "outputs": [],
   "source": [
    "# +)) lasso랑 enet은 outlier에 sensitive 한것 같아 robustscaler 적용\n",
    "lasso = make_pipeline(RobustScaler(), Lasso(alpha =0.0005, random_state=1))"
   ]
  },
  {
   "cell_type": "code",
   "execution_count": null,
   "metadata": {},
   "outputs": [],
   "source": [
    "score = rmsle_cv(lasso)"
   ]
  },
  {
   "cell_type": "markdown",
   "metadata": {},
   "source": [
    "### Feature Selection"
   ]
  },
  {
   "cell_type": "code",
   "execution_count": 85,
   "metadata": {},
   "outputs": [],
   "source": [
    "lasso=Lasso(alpha=0.001)\n",
    "lasso.fit(X_scaled,y_log)\n",
    "FI_lasso = pd.DataFrame({\"Feature Importance\":lasso.coef_}, index=data_pipe.columns)\n",
    "FI_lasso.sort_values(\"Feature Importance\",ascending=False) # 변수 중요도 확인 가능\n",
    "FI_lasso[FI_lasso[\"Feature Importance\"]!=0].sort_values(\"Feature Importance\").plot(kind=\"barh\",figsize=(15,25))\n",
    "plt.xticks(rotation=90)\n",
    "plt.show()"
   ]
  },
  {
   "cell_type": "markdown",
   "metadata": {},
   "source": [
    "## Elastic Net"
   ]
  },
  {
   "cell_type": "code",
   "execution_count": 86,
   "metadata": {
    "scrolled": true
   },
   "outputs": [
    {
     "name": "stdout",
     "output_type": "stream",
     "text": [
      "Fitting 5 folds for each of 72 candidates, totalling 360 fits\n"
     ]
    },
    {
     "name": "stderr",
     "output_type": "stream",
     "text": [
      "[Parallel(n_jobs=1)]: Using backend SequentialBackend with 1 concurrent workers.\n"
     ]
    },
    {
     "name": "stdout",
     "output_type": "stream",
     "text": [
      "0.1371569314874673\n",
      "{'alpha': 0.1, 'fit_intercept': True, 'l1_ratio': 0.04, 'max_iter': 1000000, 'normalize': False, 'tol': 0.01}\n",
      "ElasticNet(alpha=0.1, copy_X=True, fit_intercept=True, l1_ratio=0.04,\n",
      "           max_iter=1000000, normalize=False, positive=False, precompute=False,\n",
      "           random_state=None, selection='cyclic', tol=0.01, warm_start=False)\n"
     ]
    },
    {
     "name": "stderr",
     "output_type": "stream",
     "text": [
      "[Parallel(n_jobs=1)]: Done 360 out of 360 | elapsed:    1.3s finished\n"
     ]
    }
   ],
   "source": [
    "from sklearn.linear_model import ElasticNet\n",
    "\n",
    "enet = ElasticNet()\n",
    "parameters = {'alpha' :[0.1,1.0,10], 'max_iter' :[1000000], 'l1_ratio':[0.04,0.05], \n",
    "              'fit_intercept' : [False,True], 'normalize':[True,False], 'tol':[1e-02,1e-03,1e-04]}\n",
    "grid_enet = GridSearchCV(enet, parameters, cv=nr_cv, verbose=1, scoring = score_calc)\n",
    "grid_enet.fit(X_sc, y_sc)\n",
    "\n",
    "sc_enet = get_best_score(grid_enet)\n",
    "\n",
    "pred_enet = grid_enet.predict(X_test_sc)"
   ]
  },
  {
   "cell_type": "markdown",
   "metadata": {},
   "source": [
    "## Deicision Tree Regressor"
   ]
  },
  {
   "cell_type": "code",
   "execution_count": 88,
   "metadata": {
    "scrolled": true
   },
   "outputs": [
    {
     "name": "stdout",
     "output_type": "stream",
     "text": [
      "Fitting 5 folds for each of 480 candidates, totalling 2400 fits\n"
     ]
    },
    {
     "name": "stderr",
     "output_type": "stream",
     "text": [
      "[Parallel(n_jobs=1)]: Using backend SequentialBackend with 1 concurrent workers.\n"
     ]
    },
    {
     "name": "stdout",
     "output_type": "stream",
     "text": [
      "0.18355337488828832\n",
      "{'max_depth': 10, 'max_features': 14, 'max_leaf_nodes': None, 'min_samples_split': 20, 'presort': True, 'random_state': 5}\n",
      "DecisionTreeRegressor(criterion='mse', max_depth=10, max_features=14,\n",
      "                      max_leaf_nodes=None, min_impurity_decrease=0.0,\n",
      "                      min_impurity_split=None, min_samples_leaf=1,\n",
      "                      min_samples_split=20, min_weight_fraction_leaf=0.0,\n",
      "                      presort=True, random_state=5, splitter='best')\n"
     ]
    },
    {
     "name": "stderr",
     "output_type": "stream",
     "text": [
      "[Parallel(n_jobs=1)]: Done 2400 out of 2400 | elapsed:   14.9s finished\n"
     ]
    }
   ],
   "source": [
    "from sklearn.tree import DecisionTreeRegressor\n",
    "\n",
    "param_grid = { 'max_depth' : [7,8,9,10] , 'max_features' : [11,12,13,14] ,\n",
    "               'max_leaf_nodes' : [None, 12,15,18,20] ,'min_samples_split' : [20,25,30],\n",
    "                'presort': [False,True] , 'random_state': [5] }\n",
    "            \n",
    "grid_dtree = GridSearchCV(DecisionTreeRegressor(), param_grid, cv=nr_cv, refit=True, verbose=1, scoring = score_calc)\n",
    "grid_dtree.fit(X, y)\n",
    "\n",
    "sc_dtree = get_best_score(grid_dtree)\n",
    "pred_dtree = grid_dtree.predict(X_test)"
   ]
  },
  {
   "cell_type": "code",
   "execution_count": 89,
   "metadata": {},
   "outputs": [],
   "source": [
    "dtree_pred = grid_dtree.predict(X_test)\n",
    "sub_dtree = pd.DataFrame()\n",
    "sub_dtree['Id'] = id_test\n",
    "sub_dtree['SalePrice'] = dtree_pred\n",
    "#sub_dtree.to_csv('dtreeregr.csv',index=False)"
   ]
  },
  {
   "cell_type": "markdown",
   "metadata": {},
   "source": [
    "## RandomForest Regressor"
   ]
  },
  {
   "cell_type": "code",
   "execution_count": 91,
   "metadata": {
    "scrolled": true
   },
   "outputs": [
    {
     "name": "stdout",
     "output_type": "stream",
     "text": [
      "Fitting 5 folds for each of 8 candidates, totalling 40 fits\n"
     ]
    },
    {
     "name": "stderr",
     "output_type": "stream",
     "text": [
      "[Parallel(n_jobs=1)]: Using backend SequentialBackend with 1 concurrent workers.\n",
      "[Parallel(n_jobs=1)]: Done  40 out of  40 | elapsed:   15.0s finished\n"
     ]
    },
    {
     "name": "stdout",
     "output_type": "stream",
     "text": [
      "0.1466587753328798\n",
      "{'min_samples_split': 4, 'n_estimators': 100, 'random_state': 5}\n",
      "RandomForestRegressor(bootstrap=True, criterion='mse', max_depth=None,\n",
      "                      max_features='auto', max_leaf_nodes=None,\n",
      "                      min_impurity_decrease=0.0, min_impurity_split=None,\n",
      "                      min_samples_leaf=1, min_samples_split=4,\n",
      "                      min_weight_fraction_leaf=0.0, n_estimators=100,\n",
      "                      n_jobs=None, oob_score=False, random_state=5, verbose=0,\n",
      "                      warm_start=False)\n"
     ]
    }
   ],
   "source": [
    "from sklearn.ensemble import RandomForestRegressor\n",
    "\n",
    "param_grid = {'min_samples_split' : [3,4,6,10], 'n_estimators' : [70,100], 'random_state': [5] }\n",
    "grid_rf = GridSearchCV(RandomForestRegressor(), param_grid, cv=nr_cv, refit=True, verbose=1, scoring = score_calc)\n",
    "grid_rf.fit(X, y)\n",
    "\n",
    "sc_rf = get_best_score(grid_rf)"
   ]
  },
  {
   "cell_type": "code",
   "execution_count": 93,
   "metadata": {},
   "outputs": [],
   "source": [
    "# switch for using log values for SalePrice and features     \n",
    "use_logvals = 1   "
   ]
  },
  {
   "cell_type": "code",
   "execution_count": 94,
   "metadata": {},
   "outputs": [],
   "source": [
    "pred_rf = grid_rf.predict(X_test)\n",
    "\n",
    "sub_rf = pd.DataFrame()\n",
    "sub_rf['Id'] = id_test\n",
    "sub_rf['SalePrice'] = pred_rf \n",
    "\n",
    "if use_logvals == 1:\n",
    "    sub_rf['SalePrice'] = np.exp(sub_rf['SalePrice']) \n",
    "\n",
    "# sub_rf.to_csv('rf.csv',index=False)"
   ]
  },
  {
   "cell_type": "code",
   "execution_count": 95,
   "metadata": {},
   "outputs": [
    {
     "data": {
      "text/html": [
       "<div>\n",
       "<style scoped>\n",
       "    .dataframe tbody tr th:only-of-type {\n",
       "        vertical-align: middle;\n",
       "    }\n",
       "\n",
       "    .dataframe tbody tr th {\n",
       "        vertical-align: top;\n",
       "    }\n",
       "\n",
       "    .dataframe thead th {\n",
       "        text-align: right;\n",
       "    }\n",
       "</style>\n",
       "<table border=\"1\" class=\"dataframe\">\n",
       "  <thead>\n",
       "    <tr style=\"text-align: right;\">\n",
       "      <th></th>\n",
       "      <th>Id</th>\n",
       "      <th>SalePrice</th>\n",
       "    </tr>\n",
       "  </thead>\n",
       "  <tbody>\n",
       "    <tr>\n",
       "      <td>0</td>\n",
       "      <td>1461</td>\n",
       "      <td>120123.146523</td>\n",
       "    </tr>\n",
       "    <tr>\n",
       "      <td>1</td>\n",
       "      <td>1462</td>\n",
       "      <td>131204.479952</td>\n",
       "    </tr>\n",
       "  </tbody>\n",
       "</table>\n",
       "</div>"
      ],
      "text/plain": [
       "     Id      SalePrice\n",
       "0  1461  120123.146523\n",
       "1  1462  131204.479952"
      ]
     },
     "execution_count": 95,
     "metadata": {},
     "output_type": "execute_result"
    }
   ],
   "source": [
    "sub_rf.head(2)"
   ]
  },
  {
   "cell_type": "markdown",
   "metadata": {},
   "source": [
    "## KNN Regressor"
   ]
  },
  {
   "cell_type": "code",
   "execution_count": 97,
   "metadata": {},
   "outputs": [
    {
     "name": "stdout",
     "output_type": "stream",
     "text": [
      "Fitting 5 folds for each of 42 candidates, totalling 210 fits\n"
     ]
    },
    {
     "name": "stderr",
     "output_type": "stream",
     "text": [
      "[Parallel(n_jobs=1)]: Using backend SequentialBackend with 1 concurrent workers.\n"
     ]
    },
    {
     "name": "stdout",
     "output_type": "stream",
     "text": [
      "0.1561521743902476\n",
      "{'algorithm': 'ball_tree', 'n_neighbors': 5, 'weights': 'distance'}\n",
      "KNeighborsRegressor(algorithm='ball_tree', leaf_size=30, metric='minkowski',\n",
      "                    metric_params=None, n_jobs=None, n_neighbors=5, p=2,\n",
      "                    weights='distance')\n"
     ]
    },
    {
     "name": "stderr",
     "output_type": "stream",
     "text": [
      "[Parallel(n_jobs=1)]: Done 210 out of 210 | elapsed:    3.2s finished\n"
     ]
    }
   ],
   "source": [
    "from sklearn.neighbors import KNeighborsRegressor\n",
    "\n",
    "param_grid = {'n_neighbors' : [3,4,5,6,7,10,15] ,    \n",
    "              'weights' : ['uniform','distance'] ,\n",
    "              'algorithm' : ['ball_tree', 'kd_tree', 'brute']}\n",
    "\n",
    "grid_knn = GridSearchCV(KNeighborsRegressor(), param_grid, cv=nr_cv, refit=True, verbose=1, scoring = score_calc)\n",
    "grid_knn.fit(X_sc, y_sc)\n",
    "\n",
    "sc_knn = get_best_score(grid_knn)"
   ]
  },
  {
   "cell_type": "code",
   "execution_count": 98,
   "metadata": {},
   "outputs": [],
   "source": [
    "pred_knn = grid_knn.predict(X_test_sc)\n",
    "\n",
    "sub_knn = pd.DataFrame()\n",
    "sub_knn['Id'] = id_test\n",
    "sub_knn['SalePrice'] = pred_knn\n",
    "\n",
    "if use_logvals == 1:\n",
    "    sub_knn['SalePrice'] = np.exp(sub_knn['SalePrice']) \n",
    "# sub_knn.to_csv('knn.csv',index=False)"
   ]
  },
  {
   "cell_type": "code",
   "execution_count": 99,
   "metadata": {},
   "outputs": [
    {
     "data": {
      "text/html": [
       "<div>\n",
       "<style scoped>\n",
       "    .dataframe tbody tr th:only-of-type {\n",
       "        vertical-align: middle;\n",
       "    }\n",
       "\n",
       "    .dataframe tbody tr th {\n",
       "        vertical-align: top;\n",
       "    }\n",
       "\n",
       "    .dataframe thead th {\n",
       "        text-align: right;\n",
       "    }\n",
       "</style>\n",
       "<table border=\"1\" class=\"dataframe\">\n",
       "  <thead>\n",
       "    <tr style=\"text-align: right;\">\n",
       "      <th></th>\n",
       "      <th>Id</th>\n",
       "      <th>SalePrice</th>\n",
       "    </tr>\n",
       "  </thead>\n",
       "  <tbody>\n",
       "    <tr>\n",
       "      <td>0</td>\n",
       "      <td>1461</td>\n",
       "      <td>105027.859167</td>\n",
       "    </tr>\n",
       "    <tr>\n",
       "      <td>1</td>\n",
       "      <td>1462</td>\n",
       "      <td>123681.301052</td>\n",
       "    </tr>\n",
       "  </tbody>\n",
       "</table>\n",
       "</div>"
      ],
      "text/plain": [
       "     Id      SalePrice\n",
       "0  1461  105027.859167\n",
       "1  1462  123681.301052"
      ]
     },
     "execution_count": 99,
     "metadata": {},
     "output_type": "execute_result"
    }
   ],
   "source": [
    "sub_knn.head(2)"
   ]
  },
  {
   "cell_type": "markdown",
   "metadata": {},
   "source": [
    "# Comparison plot: RMSE of all models"
   ]
  },
  {
   "cell_type": "code",
   "execution_count": 102,
   "metadata": {},
   "outputs": [],
   "source": [
    "list_scores = [sc_linear, sc_ridge, sc_lasso, sc_enet,\n",
    "               sc_dtree, sc_rf, sc_knn]\n",
    "list_regressors = ['Linear','Ridge','Lasso','ElaNet','DTr','RF','KNN']"
   ]
  },
  {
   "cell_type": "code",
   "execution_count": 103,
   "metadata": {
    "scrolled": true
   },
   "outputs": [
    {
     "data": {
      "image/png": "[encoded data removed]",
      "text/plain": [
       "<Figure size 720x504 with 1 Axes>"
      ]
     },
     "metadata": {},
     "output_type": "display_data"
    }
   ],
   "source": [
    "fig, ax = plt.subplots()\n",
    "fig.set_size_inches(10,7)\n",
    "sns.barplot(x=list_regressors, y=list_scores, ax=ax)\n",
    "plt.ylabel('RMSE')\n",
    "plt.show()"
   ]
  },
  {
   "cell_type": "markdown",
   "metadata": {},
   "source": [
    "# Mean of best models"
   ]
  },
  {
   "cell_type": "code",
   "execution_count": 107,
   "metadata": {},
   "outputs": [],
   "source": [
    "sub_mean = pd.DataFrame()\n",
    "sub_mean['Id'] = id_test\n",
    "sub_mean['SalePrice'] = np.round( (pred_lasso + pred_enet + pred_rf ) / 3.0 ) \n",
    "sub_mean['SalePrice'] = sub_mean['SalePrice'].astype(float)\n",
    "# sub_mean.to_csv('mean.csv',index=False)"
   ]
  },
  {
   "cell_type": "code",
   "execution_count": 108,
   "metadata": {
    "scrolled": true
   },
   "outputs": [
    {
     "data": {
      "text/html": [
       "<div>\n",
       "<style scoped>\n",
       "    .dataframe tbody tr th:only-of-type {\n",
       "        vertical-align: middle;\n",
       "    }\n",
       "\n",
       "    .dataframe tbody tr th {\n",
       "        vertical-align: top;\n",
       "    }\n",
       "\n",
       "    .dataframe thead th {\n",
       "        text-align: right;\n",
       "    }\n",
       "</style>\n",
       "<table border=\"1\" class=\"dataframe\">\n",
       "  <thead>\n",
       "    <tr style=\"text-align: right;\">\n",
       "      <th></th>\n",
       "      <th>Id</th>\n",
       "      <th>SalePrice</th>\n",
       "    </tr>\n",
       "  </thead>\n",
       "  <tbody>\n",
       "    <tr>\n",
       "      <td>0</td>\n",
       "      <td>1461</td>\n",
       "      <td>12.0</td>\n",
       "    </tr>\n",
       "    <tr>\n",
       "      <td>1</td>\n",
       "      <td>1462</td>\n",
       "      <td>12.0</td>\n",
       "    </tr>\n",
       "  </tbody>\n",
       "</table>\n",
       "</div>"
      ],
      "text/plain": [
       "     Id  SalePrice\n",
       "0  1461       12.0\n",
       "1  1462       12.0"
      ]
     },
     "execution_count": 108,
     "metadata": {},
     "output_type": "execute_result"
    }
   ],
   "source": [
    "sub_mean.head(2)"
   ]
  },
  {
   "cell_type": "markdown",
   "metadata": {},
   "source": [
    "# ADD - # Evaluation Table for regression"
   ]
  },
  {
   "cell_type": "code",
   "execution_count": null,
   "metadata": {},
   "outputs": [],
   "source": [
    "# R-sqared 값이 1에 가까울 수록\n",
    "# RMSE가 작을수록 좋은 모형\n",
    "evaluation = pd.DataFrame({'Model':[],\n",
    "                          'Details':[],\n",
    "                          'Root Mean Squared Error (RMSE)':[],\n",
    "                          'R-squared (training)':[],\n",
    "                          'Adjusted R-squared (training)':[],\n",
    "                          'R-squared (test)':[],\n",
    "                          'Adjusted R-squared (test)':[],\n",
    "                          '5-Fold Cross Validation':[]})"
   ]
  },
  {
   "cell_type": "code",
   "execution_count": null,
   "metadata": {},
   "outputs": [],
   "source": [
    "# Ridge\n",
    "pred2 = complex_model_R.predict(test_data_dm[features])\n",
    "rmsecm2 = float(format(np.sqrt(metrics.mean_squared_error(test_data_dm['price'],pred2)),'.3f'))\n",
    "rtrcm2 = float(format(complex_model_R.score(train_data_dm[features],train_data_dm['price']),'.3f'))\n",
    "artrcm2 = float(format(adjustedR2(complex_model_R.score(train_data_dm[features],train_data_dm['price']),train_data_dm.shape[0],len(features)),'.3f'))\n",
    "rtecm2 = float(format(complex_model_R.score(test_data_dm[features],test_data_dm['price']),'.3f'))\n",
    "artecm2 = float(format(adjustedR2(complex_model_R.score(test_data_dm[features],test_data_dm['price']),test_data_dm.shape[0],len(features)),'.3f'))\n",
    "cv2 = float(format(cross_val_score(complex_model_R,df_dm[features],df_dm['price'],cv=5).mean(),'.3f'))"
   ]
  },
  {
   "cell_type": "code",
   "execution_count": null,
   "metadata": {},
   "outputs": [],
   "source": [
    "# KNN\n",
    "rmseknn1 = float(format(np.sqrt(metrics.mean_squared_error(y_test,pred)),'.3f'))\n",
    "rtrknn1 = float(format(knnreg.score(train_data_dm[features],train_data_dm['price']),'.3f'))\n",
    "artrknn1 = float(format(adjustedR2(knnreg.score(train_data_dm[features],train_data_dm['price']),train_data_dm.shape[0],len(features)),'.3f'))\n",
    "rteknn1 = float(format(knnreg.score(test_data_dm[features],test_data_dm['price']),'.3f'))\n",
    "arteknn1 = float(format(adjustedR2(knnreg.score(test_data_dm[features],test_data_dm['price']),test_data_dm.shape[0],len(features)),'.3f'))\n",
    "cv1 = float(format(cross_val_score(knnreg,df_dm[features],df_dm['price'],cv=5).mean(),'.3f'))"
   ]
  },
  {
   "cell_type": "code",
   "execution_count": null,
   "metadata": {},
   "outputs": [],
   "source": [
    "evaluation.loc[r] = ['KNN Regression','k=15, all features',rmseknn1,rtrknn1,artrknn1,rteknn1,arteknn1,cv1]"
   ]
  }
 ],
 "metadata": {
  "kernelspec": {
   "display_name": "Python 3",
   "language": "python",
   "name": "python3"
  },
  "language_info": {
   "codemirror_mode": {
    "name": "ipython",
    "version": 3
   },
   "file_extension": ".py",
   "mimetype": "text/x-python",
   "name": "python",
   "nbconvert_exporter": "python",
   "pygments_lexer": "ipython3",
   "version": "3.7.4"
  }
 },
 "nbformat": 4,
 "nbformat_minor": 2
}
