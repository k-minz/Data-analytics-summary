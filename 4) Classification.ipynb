{
 "cells": [
  {
   "cell_type": "markdown",
   "metadata": {},
   "source": [
    "https://www.kaggle.com/nadintamer/titanic-survival-predictions-beginner"
   ]
  },
  {
   "cell_type": "markdown",
   "metadata": {},
   "source": [
    "Gaussian Naive Bayes  \n",
    "Logistic Regression  \n",
    "Support Vector Machines  \n",
    "Perceptron  \n",
    "Decision Tree Classifier  \n",
    "Random Forest Classifier  \n",
    "KNN or k-Nearest Neighbors  \n",
    "Stochastic Gradient Descent  \n",
    "Gradient Boosting Classifier  "
   ]
  },
  {
   "cell_type": "markdown",
   "metadata": {},
   "source": [
    "# 1) Libraries and Data"
   ]
  },
  {
   "cell_type": "code",
   "execution_count": 205,
   "metadata": {},
   "outputs": [],
   "source": [
    "#data analysis libraries \n",
    "import numpy as np\n",
    "import pandas as pd\n",
    "\n",
    "#visualization libraries\n",
    "import matplotlib.pyplot as plt\n",
    "import seaborn as sns\n",
    "%matplotlib inline\n",
    "\n",
    "#ignore warnings\n",
    "import warnings\n",
    "warnings.filterwarnings('ignore')"
   ]
  },
  {
   "cell_type": "code",
   "execution_count": 206,
   "metadata": {
    "scrolled": true
   },
   "outputs": [
    {
     "data": {
      "text/plain": [
       "'C:\\\\Users\\\\KIM\\\\Desktop\\\\minz\\\\code'"
      ]
     },
     "execution_count": 206,
     "metadata": {},
     "output_type": "execute_result"
    }
   ],
   "source": [
    "import os\n",
    "os.getcwd()"
   ]
  },
  {
   "cell_type": "code",
   "execution_count": 207,
   "metadata": {},
   "outputs": [],
   "source": [
    "import time"
   ]
  },
  {
   "cell_type": "code",
   "execution_count": 208,
   "metadata": {},
   "outputs": [
    {
     "name": "stdout",
     "output_type": "stream",
     "text": [
      "read time: 0.01 seconds\n"
     ]
    }
   ],
   "source": [
    "start = time.time()\n",
    "train = pd.read_csv('../data/titanic/input/train.csv')\n",
    "end = time.time()\n",
    "print('read time: %.2f seconds' % (end-start))\n",
    "\n",
    "test = pd.read_csv('../data/titanic/input/test.csv')"
   ]
  },
  {
   "cell_type": "code",
   "execution_count": 209,
   "metadata": {},
   "outputs": [],
   "source": [
    "# train_old = pd.read_csv('../data/titanic/input/train.csv')\n",
    "# test_old = pd.read_csv('../data/titanic/input/test.csv')"
   ]
  },
  {
   "cell_type": "code",
   "execution_count": 210,
   "metadata": {},
   "outputs": [
    {
     "data": {
      "text/html": [
       "<div>\n",
       "<style scoped>\n",
       "    .dataframe tbody tr th:only-of-type {\n",
       "        vertical-align: middle;\n",
       "    }\n",
       "\n",
       "    .dataframe tbody tr th {\n",
       "        vertical-align: top;\n",
       "    }\n",
       "\n",
       "    .dataframe thead th {\n",
       "        text-align: right;\n",
       "    }\n",
       "</style>\n",
       "<table border=\"1\" class=\"dataframe\">\n",
       "  <thead>\n",
       "    <tr style=\"text-align: right;\">\n",
       "      <th></th>\n",
       "      <th>PassengerId</th>\n",
       "      <th>Survived</th>\n",
       "      <th>Pclass</th>\n",
       "      <th>Name</th>\n",
       "      <th>Sex</th>\n",
       "      <th>Age</th>\n",
       "      <th>SibSp</th>\n",
       "      <th>Parch</th>\n",
       "      <th>Ticket</th>\n",
       "      <th>Fare</th>\n",
       "      <th>Cabin</th>\n",
       "      <th>Embarked</th>\n",
       "    </tr>\n",
       "  </thead>\n",
       "  <tbody>\n",
       "    <tr>\n",
       "      <td>180</td>\n",
       "      <td>181</td>\n",
       "      <td>0</td>\n",
       "      <td>3</td>\n",
       "      <td>Sage, Miss. Constance Gladys</td>\n",
       "      <td>female</td>\n",
       "      <td>NaN</td>\n",
       "      <td>8</td>\n",
       "      <td>2</td>\n",
       "      <td>CA. 2343</td>\n",
       "      <td>69.55</td>\n",
       "      <td>NaN</td>\n",
       "      <td>S</td>\n",
       "    </tr>\n",
       "    <tr>\n",
       "      <td>340</td>\n",
       "      <td>341</td>\n",
       "      <td>1</td>\n",
       "      <td>2</td>\n",
       "      <td>Navratil, Master. Edmond Roger</td>\n",
       "      <td>male</td>\n",
       "      <td>2.0</td>\n",
       "      <td>1</td>\n",
       "      <td>1</td>\n",
       "      <td>230080</td>\n",
       "      <td>26.00</td>\n",
       "      <td>F2</td>\n",
       "      <td>S</td>\n",
       "    </tr>\n",
       "    <tr>\n",
       "      <td>401</td>\n",
       "      <td>402</td>\n",
       "      <td>0</td>\n",
       "      <td>3</td>\n",
       "      <td>Adams, Mr. John</td>\n",
       "      <td>male</td>\n",
       "      <td>26.0</td>\n",
       "      <td>0</td>\n",
       "      <td>0</td>\n",
       "      <td>341826</td>\n",
       "      <td>8.05</td>\n",
       "      <td>NaN</td>\n",
       "      <td>S</td>\n",
       "    </tr>\n",
       "    <tr>\n",
       "      <td>27</td>\n",
       "      <td>28</td>\n",
       "      <td>0</td>\n",
       "      <td>1</td>\n",
       "      <td>Fortune, Mr. Charles Alexander</td>\n",
       "      <td>male</td>\n",
       "      <td>19.0</td>\n",
       "      <td>3</td>\n",
       "      <td>2</td>\n",
       "      <td>19950</td>\n",
       "      <td>263.00</td>\n",
       "      <td>C23 C25 C27</td>\n",
       "      <td>S</td>\n",
       "    </tr>\n",
       "    <tr>\n",
       "      <td>637</td>\n",
       "      <td>638</td>\n",
       "      <td>0</td>\n",
       "      <td>2</td>\n",
       "      <td>Collyer, Mr. Harvey</td>\n",
       "      <td>male</td>\n",
       "      <td>31.0</td>\n",
       "      <td>1</td>\n",
       "      <td>1</td>\n",
       "      <td>C.A. 31921</td>\n",
       "      <td>26.25</td>\n",
       "      <td>NaN</td>\n",
       "      <td>S</td>\n",
       "    </tr>\n",
       "  </tbody>\n",
       "</table>\n",
       "</div>"
      ],
      "text/plain": [
       "     PassengerId  Survived  Pclass                            Name     Sex  \\\n",
       "180          181         0       3    Sage, Miss. Constance Gladys  female   \n",
       "340          341         1       2  Navratil, Master. Edmond Roger    male   \n",
       "401          402         0       3                 Adams, Mr. John    male   \n",
       "27            28         0       1  Fortune, Mr. Charles Alexander    male   \n",
       "637          638         0       2             Collyer, Mr. Harvey    male   \n",
       "\n",
       "      Age  SibSp  Parch      Ticket    Fare        Cabin Embarked  \n",
       "180   NaN      8      2    CA. 2343   69.55          NaN        S  \n",
       "340   2.0      1      1      230080   26.00           F2        S  \n",
       "401  26.0      0      0      341826    8.05          NaN        S  \n",
       "27   19.0      3      2       19950  263.00  C23 C25 C27        S  \n",
       "637  31.0      1      1  C.A. 31921   26.25          NaN        S  "
      ]
     },
     "execution_count": 210,
     "metadata": {},
     "output_type": "execute_result"
    }
   ],
   "source": [
    "train.sample(5)"
   ]
  },
  {
   "cell_type": "markdown",
   "metadata": {},
   "source": [
    "# 2) EDA"
   ]
  },
  {
   "cell_type": "markdown",
   "metadata": {},
   "source": [
    "- 데이터 타입 확인\n",
    "- 분포 확인\n",
    "- 상관관계 확인\n",
    "- 결측 확인\n",
    "- 이상치 확인"
   ]
  },
  {
   "cell_type": "code",
   "execution_count": 211,
   "metadata": {
    "scrolled": true
   },
   "outputs": [
    {
     "data": {
      "text/html": [
       "<div>\n",
       "<style scoped>\n",
       "    .dataframe tbody tr th:only-of-type {\n",
       "        vertical-align: middle;\n",
       "    }\n",
       "\n",
       "    .dataframe tbody tr th {\n",
       "        vertical-align: top;\n",
       "    }\n",
       "\n",
       "    .dataframe thead th {\n",
       "        text-align: right;\n",
       "    }\n",
       "</style>\n",
       "<table border=\"1\" class=\"dataframe\">\n",
       "  <thead>\n",
       "    <tr style=\"text-align: right;\">\n",
       "      <th></th>\n",
       "      <th>PassengerId</th>\n",
       "      <th>Survived</th>\n",
       "      <th>Pclass</th>\n",
       "      <th>Name</th>\n",
       "      <th>Sex</th>\n",
       "      <th>Age</th>\n",
       "      <th>SibSp</th>\n",
       "      <th>Parch</th>\n",
       "      <th>Ticket</th>\n",
       "      <th>Fare</th>\n",
       "      <th>Cabin</th>\n",
       "      <th>Embarked</th>\n",
       "    </tr>\n",
       "  </thead>\n",
       "  <tbody>\n",
       "    <tr>\n",
       "      <td>count</td>\n",
       "      <td>891.000000</td>\n",
       "      <td>891.000000</td>\n",
       "      <td>891.000000</td>\n",
       "      <td>891</td>\n",
       "      <td>891</td>\n",
       "      <td>714.000000</td>\n",
       "      <td>891.000000</td>\n",
       "      <td>891.000000</td>\n",
       "      <td>891</td>\n",
       "      <td>891.000000</td>\n",
       "      <td>204</td>\n",
       "      <td>889</td>\n",
       "    </tr>\n",
       "    <tr>\n",
       "      <td>unique</td>\n",
       "      <td>NaN</td>\n",
       "      <td>NaN</td>\n",
       "      <td>NaN</td>\n",
       "      <td>891</td>\n",
       "      <td>2</td>\n",
       "      <td>NaN</td>\n",
       "      <td>NaN</td>\n",
       "      <td>NaN</td>\n",
       "      <td>681</td>\n",
       "      <td>NaN</td>\n",
       "      <td>147</td>\n",
       "      <td>3</td>\n",
       "    </tr>\n",
       "    <tr>\n",
       "      <td>top</td>\n",
       "      <td>NaN</td>\n",
       "      <td>NaN</td>\n",
       "      <td>NaN</td>\n",
       "      <td>Greenberg, Mr. Samuel</td>\n",
       "      <td>male</td>\n",
       "      <td>NaN</td>\n",
       "      <td>NaN</td>\n",
       "      <td>NaN</td>\n",
       "      <td>CA. 2343</td>\n",
       "      <td>NaN</td>\n",
       "      <td>C23 C25 C27</td>\n",
       "      <td>S</td>\n",
       "    </tr>\n",
       "    <tr>\n",
       "      <td>freq</td>\n",
       "      <td>NaN</td>\n",
       "      <td>NaN</td>\n",
       "      <td>NaN</td>\n",
       "      <td>1</td>\n",
       "      <td>577</td>\n",
       "      <td>NaN</td>\n",
       "      <td>NaN</td>\n",
       "      <td>NaN</td>\n",
       "      <td>7</td>\n",
       "      <td>NaN</td>\n",
       "      <td>4</td>\n",
       "      <td>644</td>\n",
       "    </tr>\n",
       "    <tr>\n",
       "      <td>mean</td>\n",
       "      <td>446.000000</td>\n",
       "      <td>0.383838</td>\n",
       "      <td>2.308642</td>\n",
       "      <td>NaN</td>\n",
       "      <td>NaN</td>\n",
       "      <td>29.699118</td>\n",
       "      <td>0.523008</td>\n",
       "      <td>0.381594</td>\n",
       "      <td>NaN</td>\n",
       "      <td>32.204208</td>\n",
       "      <td>NaN</td>\n",
       "      <td>NaN</td>\n",
       "    </tr>\n",
       "    <tr>\n",
       "      <td>std</td>\n",
       "      <td>257.353842</td>\n",
       "      <td>0.486592</td>\n",
       "      <td>0.836071</td>\n",
       "      <td>NaN</td>\n",
       "      <td>NaN</td>\n",
       "      <td>14.526497</td>\n",
       "      <td>1.102743</td>\n",
       "      <td>0.806057</td>\n",
       "      <td>NaN</td>\n",
       "      <td>49.693429</td>\n",
       "      <td>NaN</td>\n",
       "      <td>NaN</td>\n",
       "    </tr>\n",
       "    <tr>\n",
       "      <td>min</td>\n",
       "      <td>1.000000</td>\n",
       "      <td>0.000000</td>\n",
       "      <td>1.000000</td>\n",
       "      <td>NaN</td>\n",
       "      <td>NaN</td>\n",
       "      <td>0.420000</td>\n",
       "      <td>0.000000</td>\n",
       "      <td>0.000000</td>\n",
       "      <td>NaN</td>\n",
       "      <td>0.000000</td>\n",
       "      <td>NaN</td>\n",
       "      <td>NaN</td>\n",
       "    </tr>\n",
       "    <tr>\n",
       "      <td>25%</td>\n",
       "      <td>223.500000</td>\n",
       "      <td>0.000000</td>\n",
       "      <td>2.000000</td>\n",
       "      <td>NaN</td>\n",
       "      <td>NaN</td>\n",
       "      <td>20.125000</td>\n",
       "      <td>0.000000</td>\n",
       "      <td>0.000000</td>\n",
       "      <td>NaN</td>\n",
       "      <td>7.910400</td>\n",
       "      <td>NaN</td>\n",
       "      <td>NaN</td>\n",
       "    </tr>\n",
       "    <tr>\n",
       "      <td>50%</td>\n",
       "      <td>446.000000</td>\n",
       "      <td>0.000000</td>\n",
       "      <td>3.000000</td>\n",
       "      <td>NaN</td>\n",
       "      <td>NaN</td>\n",
       "      <td>28.000000</td>\n",
       "      <td>0.000000</td>\n",
       "      <td>0.000000</td>\n",
       "      <td>NaN</td>\n",
       "      <td>14.454200</td>\n",
       "      <td>NaN</td>\n",
       "      <td>NaN</td>\n",
       "    </tr>\n",
       "    <tr>\n",
       "      <td>75%</td>\n",
       "      <td>668.500000</td>\n",
       "      <td>1.000000</td>\n",
       "      <td>3.000000</td>\n",
       "      <td>NaN</td>\n",
       "      <td>NaN</td>\n",
       "      <td>38.000000</td>\n",
       "      <td>1.000000</td>\n",
       "      <td>0.000000</td>\n",
       "      <td>NaN</td>\n",
       "      <td>31.000000</td>\n",
       "      <td>NaN</td>\n",
       "      <td>NaN</td>\n",
       "    </tr>\n",
       "    <tr>\n",
       "      <td>max</td>\n",
       "      <td>891.000000</td>\n",
       "      <td>1.000000</td>\n",
       "      <td>3.000000</td>\n",
       "      <td>NaN</td>\n",
       "      <td>NaN</td>\n",
       "      <td>80.000000</td>\n",
       "      <td>8.000000</td>\n",
       "      <td>6.000000</td>\n",
       "      <td>NaN</td>\n",
       "      <td>512.329200</td>\n",
       "      <td>NaN</td>\n",
       "      <td>NaN</td>\n",
       "    </tr>\n",
       "  </tbody>\n",
       "</table>\n",
       "</div>"
      ],
      "text/plain": [
       "        PassengerId    Survived      Pclass                   Name   Sex  \\\n",
       "count    891.000000  891.000000  891.000000                    891   891   \n",
       "unique          NaN         NaN         NaN                    891     2   \n",
       "top             NaN         NaN         NaN  Greenberg, Mr. Samuel  male   \n",
       "freq            NaN         NaN         NaN                      1   577   \n",
       "mean     446.000000    0.383838    2.308642                    NaN   NaN   \n",
       "std      257.353842    0.486592    0.836071                    NaN   NaN   \n",
       "min        1.000000    0.000000    1.000000                    NaN   NaN   \n",
       "25%      223.500000    0.000000    2.000000                    NaN   NaN   \n",
       "50%      446.000000    0.000000    3.000000                    NaN   NaN   \n",
       "75%      668.500000    1.000000    3.000000                    NaN   NaN   \n",
       "max      891.000000    1.000000    3.000000                    NaN   NaN   \n",
       "\n",
       "               Age       SibSp       Parch    Ticket        Fare        Cabin  \\\n",
       "count   714.000000  891.000000  891.000000       891  891.000000          204   \n",
       "unique         NaN         NaN         NaN       681         NaN          147   \n",
       "top            NaN         NaN         NaN  CA. 2343         NaN  C23 C25 C27   \n",
       "freq           NaN         NaN         NaN         7         NaN            4   \n",
       "mean     29.699118    0.523008    0.381594       NaN   32.204208          NaN   \n",
       "std      14.526497    1.102743    0.806057       NaN   49.693429          NaN   \n",
       "min       0.420000    0.000000    0.000000       NaN    0.000000          NaN   \n",
       "25%      20.125000    0.000000    0.000000       NaN    7.910400          NaN   \n",
       "50%      28.000000    0.000000    0.000000       NaN   14.454200          NaN   \n",
       "75%      38.000000    1.000000    0.000000       NaN   31.000000          NaN   \n",
       "max      80.000000    8.000000    6.000000       NaN  512.329200          NaN   \n",
       "\n",
       "       Embarked  \n",
       "count       889  \n",
       "unique        3  \n",
       "top           S  \n",
       "freq        644  \n",
       "mean        NaN  \n",
       "std         NaN  \n",
       "min         NaN  \n",
       "25%         NaN  \n",
       "50%         NaN  \n",
       "75%         NaN  \n",
       "max         NaN  "
      ]
     },
     "execution_count": 211,
     "metadata": {},
     "output_type": "execute_result"
    }
   ],
   "source": [
    "train.describe(include='all')"
   ]
  },
  {
   "cell_type": "code",
   "execution_count": 212,
   "metadata": {},
   "outputs": [
    {
     "data": {
      "text/plain": [
       "PassengerId      int64\n",
       "Survived         int64\n",
       "Pclass           int64\n",
       "Name            object\n",
       "Sex             object\n",
       "Age            float64\n",
       "SibSp            int64\n",
       "Parch            int64\n",
       "Ticket          object\n",
       "Fare           float64\n",
       "Cabin           object\n",
       "Embarked        object\n",
       "dtype: object"
      ]
     },
     "execution_count": 212,
     "metadata": {},
     "output_type": "execute_result"
    }
   ],
   "source": [
    "train.dtypes"
   ]
  },
  {
   "cell_type": "code",
   "execution_count": 213,
   "metadata": {},
   "outputs": [
    {
     "data": {
      "text/plain": [
       "Index(['PassengerId', 'Survived', 'Pclass', 'Name', 'Sex', 'Age', 'SibSp',\n",
       "       'Parch', 'Ticket', 'Fare', 'Cabin', 'Embarked'],\n",
       "      dtype='object')"
      ]
     },
     "execution_count": 213,
     "metadata": {},
     "output_type": "execute_result"
    }
   ],
   "source": [
    "train.columns"
   ]
  },
  {
   "cell_type": "code",
   "execution_count": 214,
   "metadata": {},
   "outputs": [],
   "source": [
    "# Numeric: Age, Fare, SibSp, Parch\n",
    "# Categorical : Survived, Sex, Embarked, Pcalss\n",
    "# Alphanumeric : Ticket, Cabin"
   ]
  },
  {
   "cell_type": "code",
   "execution_count": 215,
   "metadata": {},
   "outputs": [
    {
     "data": {
      "text/plain": [
       "PassengerId    891\n",
       "Survived         2\n",
       "Pclass           3\n",
       "Name           891\n",
       "Sex              2\n",
       "Age             88\n",
       "SibSp            7\n",
       "Parch            7\n",
       "Ticket         681\n",
       "Fare           248\n",
       "Cabin          147\n",
       "Embarked         3\n",
       "dtype: int64"
      ]
     },
     "execution_count": 215,
     "metadata": {},
     "output_type": "execute_result"
    }
   ],
   "source": [
    "train.nunique()"
   ]
  },
  {
   "cell_type": "code",
   "execution_count": 216,
   "metadata": {
    "scrolled": true
   },
   "outputs": [
    {
     "name": "stdout",
     "output_type": "stream",
     "text": [
      "<class 'pandas.core.frame.DataFrame'>\n",
      "RangeIndex: 891 entries, 0 to 890\n",
      "Data columns (total 12 columns):\n",
      "PassengerId    891 non-null int64\n",
      "Survived       891 non-null int64\n",
      "Pclass         891 non-null int64\n",
      "Name           891 non-null object\n",
      "Sex            891 non-null object\n",
      "Age            714 non-null float64\n",
      "SibSp          891 non-null int64\n",
      "Parch          891 non-null int64\n",
      "Ticket         891 non-null object\n",
      "Fare           891 non-null float64\n",
      "Cabin          204 non-null object\n",
      "Embarked       889 non-null object\n",
      "dtypes: float64(2), int64(5), object(5)\n",
      "memory usage: 83.7+ KB\n"
     ]
    }
   ],
   "source": [
    "train.info()"
   ]
  },
  {
   "cell_type": "markdown",
   "metadata": {},
   "source": [
    "### 결측치 확인"
   ]
  },
  {
   "cell_type": "code",
   "execution_count": 217,
   "metadata": {},
   "outputs": [
    {
     "data": {
      "text/plain": [
       "PassengerId      0\n",
       "Survived         0\n",
       "Pclass           0\n",
       "Name             0\n",
       "Sex              0\n",
       "Age            177\n",
       "SibSp            0\n",
       "Parch            0\n",
       "Ticket           0\n",
       "Fare             0\n",
       "Cabin          687\n",
       "Embarked         2\n",
       "dtype: int64"
      ]
     },
     "execution_count": 217,
     "metadata": {},
     "output_type": "execute_result"
    }
   ],
   "source": [
    "train.isnull().sum()"
   ]
  },
  {
   "cell_type": "code",
   "execution_count": 218,
   "metadata": {},
   "outputs": [
    {
     "data": {
      "text/plain": [
       "PassengerId    0.000000\n",
       "Survived       0.000000\n",
       "Pclass         0.000000\n",
       "Name           0.000000\n",
       "Sex            0.000000\n",
       "Age            0.198653\n",
       "SibSp          0.000000\n",
       "Parch          0.000000\n",
       "Ticket         0.000000\n",
       "Fare           0.000000\n",
       "Cabin          0.771044\n",
       "Embarked       0.002245\n",
       "dtype: float64"
      ]
     },
     "execution_count": 218,
     "metadata": {},
     "output_type": "execute_result"
    }
   ],
   "source": [
    "train.isnull().sum() / train.shape[0]"
   ]
  },
  {
   "cell_type": "code",
   "execution_count": 219,
   "metadata": {},
   "outputs": [],
   "source": [
    "# Cabin 버려"
   ]
  },
  {
   "cell_type": "markdown",
   "metadata": {},
   "source": [
    "## 2.1) 가설"
   ]
  },
  {
   "cell_type": "markdown",
   "metadata": {},
   "source": [
    "Sex: 여자 생존율 높을 듯  \n",
    "SibSp/Parch: 혼자 온 사람이 더 생존율 높을 듯  \n",
    "Age: 어릴 수록 생존율 높을 듯  \n",
    "Pclass: 좌석이 좋을 수록 생존율 높을 듯"
   ]
  },
  {
   "cell_type": "markdown",
   "metadata": {},
   "source": [
    "## 2.2) 시각화"
   ]
  },
  {
   "cell_type": "markdown",
   "metadata": {},
   "source": [
    "## correlation"
   ]
  },
  {
   "cell_type": "code",
   "execution_count": 220,
   "metadata": {},
   "outputs": [
    {
     "data": {
      "text/plain": [
       "Index(['PassengerId', 'Survived', 'Pclass', 'Name', 'Sex', 'Age', 'SibSp',\n",
       "       'Parch', 'Ticket', 'Fare', 'Cabin', 'Embarked'],\n",
       "      dtype='object')"
      ]
     },
     "execution_count": 220,
     "metadata": {},
     "output_type": "execute_result"
    }
   ],
   "source": [
    "train.columns"
   ]
  },
  {
   "cell_type": "code",
   "execution_count": 221,
   "metadata": {},
   "outputs": [],
   "source": [
    "features = ['Survived', 'Pclass', 'Sex', 'Age', 'SibSp',\n",
    "       'Parch', 'Ticket', 'Fare', 'Embarked']"
   ]
  },
  {
   "cell_type": "code",
   "execution_count": 222,
   "metadata": {},
   "outputs": [],
   "source": [
    "mask = np.zeros_like(train[features].corr(), dtype=np.bool)\n",
    "mask[np.triu_indices_from(mask)] = True"
   ]
  },
  {
   "cell_type": "code",
   "execution_count": 223,
   "metadata": {},
   "outputs": [
    {
     "data": {
      "text/plain": [
       "<matplotlib.axes._subplots.AxesSubplot at 0x11bbbf08>"
      ]
     },
     "execution_count": 223,
     "metadata": {},
     "output_type": "execute_result"
    },
    {
     "data": {
      "image/png": "[encoded data removed]",
      "text/plain": [
       "<Figure size 1152x864 with 2 Axes>"
      ]
     },
     "metadata": {
      "needs_background": "light"
     },
     "output_type": "display_data"
    }
   ],
   "source": [
    "f, ax = plt.subplots(figsize=(16,12))\n",
    "plt.title('Pearson Correlation Matrix', fontsize=25)\n",
    "sns.heatmap(train[features].corr(), mask=mask,\n",
    "           cbar_kws={'shrink':.9},\n",
    "           cmap='BuGn',\n",
    "           linecolor='w', linewidths=0.25, # 흰 선\n",
    "           annot=True, annot_kws={'size':13}, # 칸 안에 숫자\n",
    "           square=True, vmax=0.7)"
   ]
  },
  {
   "cell_type": "markdown",
   "metadata": {},
   "source": [
    "## distribution"
   ]
  },
  {
   "cell_type": "code",
   "execution_count": 224,
   "metadata": {},
   "outputs": [
    {
     "data": {
      "text/plain": [
       "[None, None, None, None, None, None]"
      ]
     },
     "execution_count": 224,
     "metadata": {},
     "output_type": "execute_result"
    },
    {
     "data": {
      "image/png": "[encoded data removed]",
      "text/plain": [
       "<Figure size 1152x1152 with 6 Axes>"
      ]
     },
     "metadata": {
      "needs_background": "light"
     },
     "output_type": "display_data"
    }
   ],
   "source": [
    "h = train[features].hist(bins=25, figsize=(16,16),\n",
    "                        xlabelsize='10', xrot=-15)\n",
    "# sns.despine(left=True, bottom=True)\n",
    "[x.title.set_size(12) for x in h.ravel()] # x축 크기\n",
    "[x.yaxis.tick_left() for x in h.ravel()]"
   ]
  },
  {
   "cell_type": "markdown",
   "metadata": {},
   "source": [
    "## Outlier"
   ]
  },
  {
   "cell_type": "code",
   "execution_count": 225,
   "metadata": {},
   "outputs": [
    {
     "data": {
      "text/plain": [
       "<matplotlib.axes._subplots.AxesSubplot at 0x11913588>"
      ]
     },
     "execution_count": 225,
     "metadata": {},
     "output_type": "execute_result"
    },
    {
     "data": {
      "image/png": "[encoded data removed]",
      "text/plain": [
       "<Figure size 576x576 with 1 Axes>"
      ]
     },
     "metadata": {},
     "output_type": "display_data"
    }
   ],
   "source": [
    "sns.set(style='whitegrid', font_scale=1)\n",
    "\n",
    "f, axes = plt.subplots(1, 1, figsize=(8,8))\n",
    "sns.boxplot(x=train['Pclass'], y=train['Fare'])\n",
    "# sns.despine(left=True, bottom=True)"
   ]
  },
  {
   "cell_type": "code",
   "execution_count": 226,
   "metadata": {},
   "outputs": [],
   "source": [
    "# f, axes = plt.subplots(1, 2, figsize=(15,5))\n",
    "# sns.boxplot(x=df['bedrooms'], y=df['price'], ax=axes[0])\n",
    "# sns.boxplot(x=df['floors'], y=df['price'], ax=axes[1])\n",
    "# sns.despine(left=True, bottom=True)\n",
    "\n",
    "# axes[0].set(xlabel='Bedrooms', ylabel='Price')\n",
    "# axes[0].yaxis.tick_left()\n",
    "\n",
    "# axes[1].set(xlabel='Floors', ylabel='Price')\n",
    "# axes[1].yaxis.set_label_position('right')\n",
    "# axes[1].yaxis.tick_right()"
   ]
  },
  {
   "cell_type": "markdown",
   "metadata": {},
   "source": [
    "### bar plot - Sex"
   ]
  },
  {
   "cell_type": "code",
   "execution_count": 227,
   "metadata": {},
   "outputs": [
    {
     "name": "stdout",
     "output_type": "stream",
     "text": [
      "Percentage of \"females\" who survived: 74.20382165605095 %\n",
      "Percentage of \"males\" who survived: 18.890814558058924 %\n"
     ]
    },
    {
     "data": {
      "image/png": "[encoded data removed]",
      "text/plain": [
       "<Figure size 432x288 with 1 Axes>"
      ]
     },
     "metadata": {},
     "output_type": "display_data"
    }
   ],
   "source": [
    "sns.barplot(x='Sex', y='Survived', data=train)\n",
    "print('Percentage of \"females\" who survived:',train['Survived'][train['Sex']=='female'].value_counts(normalize=True)[1]*100,'%')\n",
    "print('Percentage of \"males\" who survived:', train['Survived'][train['Sex']=='male'].value_counts(normalize=True)[1]*100, '%')"
   ]
  },
  {
   "cell_type": "code",
   "execution_count": 228,
   "metadata": {},
   "outputs": [
    {
     "data": {
      "text/plain": [
       "1    233\n",
       "0     81\n",
       "Name: Survived, dtype: int64"
      ]
     },
     "execution_count": 228,
     "metadata": {},
     "output_type": "execute_result"
    }
   ],
   "source": [
    "train['Survived'][train['Sex']=='female'].value_counts()"
   ]
  },
  {
   "cell_type": "code",
   "execution_count": 229,
   "metadata": {},
   "outputs": [
    {
     "data": {
      "text/plain": [
       "1    0.742038\n",
       "0    0.257962\n",
       "Name: Survived, dtype: float64"
      ]
     },
     "execution_count": 229,
     "metadata": {},
     "output_type": "execute_result"
    }
   ],
   "source": [
    "train['Survived'][train['Sex']=='female'].value_counts(normalize=True)"
   ]
  },
  {
   "cell_type": "markdown",
   "metadata": {},
   "source": [
    "### bar plot - Pclass"
   ]
  },
  {
   "cell_type": "code",
   "execution_count": 230,
   "metadata": {},
   "outputs": [
    {
     "data": {
      "text/plain": [
       "<matplotlib.axes._subplots.AxesSubplot at 0x116e1348>"
      ]
     },
     "execution_count": 230,
     "metadata": {},
     "output_type": "execute_result"
    },
    {
     "data": {
      "image/png": "[encoded data removed]",
      "text/plain": [
       "<Figure size 432x288 with 1 Axes>"
      ]
     },
     "metadata": {},
     "output_type": "display_data"
    }
   ],
   "source": [
    "sns.barplot(x='Pclass', y='Survived', data= train)"
   ]
  },
  {
   "cell_type": "code",
   "execution_count": 231,
   "metadata": {},
   "outputs": [
    {
     "name": "stdout",
     "output_type": "stream",
     "text": [
      "Percentage of Pclass = 1 who survived: 62.96296296296296\n",
      "Percentage of Pclass = 2 who survived: 47.28260869565217\n",
      "Percentage of Pclass = 3 who survived: 24.236252545824847\n"
     ]
    }
   ],
   "source": [
    "#print percentage of people by Pclass that survived\n",
    "print(\"Percentage of Pclass = 1 who survived:\", train[\"Survived\"][train[\"Pclass\"] == 1].value_counts(normalize = True)[1]*100)\n",
    "print(\"Percentage of Pclass = 2 who survived:\", train[\"Survived\"][train[\"Pclass\"] == 2].value_counts(normalize = True)[1]*100)\n",
    "print(\"Percentage of Pclass = 3 who survived:\", train[\"Survived\"][train[\"Pclass\"] == 3].value_counts(normalize = True)[1]*100)"
   ]
  },
  {
   "cell_type": "markdown",
   "metadata": {},
   "source": [
    "### bar plot - SibSp"
   ]
  },
  {
   "cell_type": "code",
   "execution_count": 232,
   "metadata": {},
   "outputs": [
    {
     "data": {
      "text/plain": [
       "<matplotlib.axes._subplots.AxesSubplot at 0x11d64708>"
      ]
     },
     "execution_count": 232,
     "metadata": {},
     "output_type": "execute_result"
    },
    {
     "data": {
      "image/png": "[encoded data removed]",
      "text/plain": [
       "<Figure size 432x288 with 1 Axes>"
      ]
     },
     "metadata": {},
     "output_type": "display_data"
    }
   ],
   "source": [
    "sns.barplot(x='SibSp', y='Survived', data=train)"
   ]
  },
  {
   "cell_type": "code",
   "execution_count": 233,
   "metadata": {},
   "outputs": [
    {
     "name": "stdout",
     "output_type": "stream",
     "text": [
      "Percentage of SibSp = 0 who survived: 34.53947368421053\n",
      "Percentage of SibSp = 1 who survived: 53.588516746411486\n",
      "Percentage of SibSp = 2 who survived: 46.42857142857143\n"
     ]
    }
   ],
   "source": [
    "#I won't be printing individual percent values for all of these.\n",
    "print(\"Percentage of SibSp = 0 who survived:\", train[\"Survived\"][train[\"SibSp\"] == 0].value_counts(normalize = True)[1]*100)\n",
    "print(\"Percentage of SibSp = 1 who survived:\", train[\"Survived\"][train[\"SibSp\"] == 1].value_counts(normalize = True)[1]*100)\n",
    "print(\"Percentage of SibSp = 2 who survived:\", train[\"Survived\"][train[\"SibSp\"] == 2].value_counts(normalize = True)[1]*100)"
   ]
  },
  {
   "cell_type": "markdown",
   "metadata": {},
   "source": [
    "### bar plot - Parch Feature"
   ]
  },
  {
   "cell_type": "code",
   "execution_count": 234,
   "metadata": {},
   "outputs": [
    {
     "data": {
      "text/plain": [
       "<matplotlib.axes._subplots.AxesSubplot at 0x1207d8c8>"
      ]
     },
     "execution_count": 234,
     "metadata": {},
     "output_type": "execute_result"
    },
    {
     "data": {
      "image/png": "[encoded data removed]",
      "text/plain": [
       "<Figure size 432x288 with 1 Axes>"
      ]
     },
     "metadata": {},
     "output_type": "display_data"
    }
   ],
   "source": [
    "sns.barplot(x='Parch', y='Survived', data=train)"
   ]
  },
  {
   "cell_type": "markdown",
   "metadata": {},
   "source": [
    "# 3) 결측치 처리"
   ]
  },
  {
   "cell_type": "code",
   "execution_count": 235,
   "metadata": {},
   "outputs": [
    {
     "data": {
      "text/plain": [
       "PassengerId      0\n",
       "Survived         0\n",
       "Pclass           0\n",
       "Name             0\n",
       "Sex              0\n",
       "Age            177\n",
       "SibSp            0\n",
       "Parch            0\n",
       "Ticket           0\n",
       "Fare             0\n",
       "Cabin          687\n",
       "Embarked         2\n",
       "dtype: int64"
      ]
     },
     "execution_count": 235,
     "metadata": {},
     "output_type": "execute_result"
    }
   ],
   "source": [
    "train.isnull().sum()"
   ]
  },
  {
   "cell_type": "markdown",
   "metadata": {},
   "source": [
    "### Age"
   ]
  },
  {
   "cell_type": "code",
   "execution_count": 236,
   "metadata": {},
   "outputs": [
    {
     "name": "stdout",
     "output_type": "stream",
     "text": [
      "The percentage of null value in Age: 19.87 %\n"
     ]
    }
   ],
   "source": [
    "print('The percentage of null value in Age: %.2f' % \\\n",
    "     (train['Age'].isnull().sum() / train.shape[0] * 100), '%')"
   ]
  },
  {
   "cell_type": "markdown",
   "metadata": {},
   "source": [
    "#### density plot - Age"
   ]
  },
  {
   "cell_type": "code",
   "execution_count": 237,
   "metadata": {},
   "outputs": [
    {
     "data": {
      "image/png": "[encoded data removed]",
      "text/plain": [
       "<Figure size 432x288 with 1 Axes>"
      ]
     },
     "metadata": {},
     "output_type": "display_data"
    }
   ],
   "source": [
    "ax = train['Age'].hist(bins=15,\n",
    "                      density=True,\n",
    "                      stacked=True,\n",
    "                      color='teal',\n",
    "                      alpha=0.6)\n",
    "# 선 부분\n",
    "train['Age'].plot(kind='density', color='red')\n",
    "ax.set(xlabel='Age')\n",
    "plt.xlim(-10, 85)\n",
    "plt.show()"
   ]
  },
  {
   "cell_type": "markdown",
   "metadata": {},
   "source": [
    "left skewed -> mean imputation 부적절"
   ]
  },
  {
   "cell_type": "code",
   "execution_count": 238,
   "metadata": {},
   "outputs": [
    {
     "name": "stdout",
     "output_type": "stream",
     "text": [
      "the mean value of Age 29.70\n",
      "the median value of Age 28.00\n"
     ]
    }
   ],
   "source": [
    "print('the mean value of Age %.2f' % train['Age'].mean(skipna=True))\n",
    "print('the median value of Age %.2f' % train['Age'].median(skipna=True))"
   ]
  },
  {
   "cell_type": "markdown",
   "metadata": {},
   "source": [
    "### Cabin"
   ]
  },
  {
   "cell_type": "code",
   "execution_count": 239,
   "metadata": {},
   "outputs": [
    {
     "name": "stdout",
     "output_type": "stream",
     "text": [
      "The percentage of null value in \"Cabin\": 77.10 %\n"
     ]
    }
   ],
   "source": [
    "print('The percentage of null value in \"Cabin\": %.2f' % \\\n",
    "     (train['Cabin'].isnull().sum() / train.shape[0] * 100), '%')"
   ]
  },
  {
   "cell_type": "markdown",
   "metadata": {},
   "source": [
    "too many Na -> drop"
   ]
  },
  {
   "cell_type": "code",
   "execution_count": 240,
   "metadata": {},
   "outputs": [
    {
     "data": {
      "text/plain": [
       "C23 C25 C27    4\n",
       "G6             4\n",
       "B96 B98        4\n",
       "D              3\n",
       "E101           3\n",
       "              ..\n",
       "F38            1\n",
       "C128           1\n",
       "B4             1\n",
       "C95            1\n",
       "C110           1\n",
       "Name: Cabin, Length: 147, dtype: int64"
      ]
     },
     "execution_count": 240,
     "metadata": {},
     "output_type": "execute_result"
    }
   ],
   "source": [
    "train['Cabin'].value_counts()"
   ]
  },
  {
   "cell_type": "markdown",
   "metadata": {},
   "source": [
    "### Embarked"
   ]
  },
  {
   "cell_type": "code",
   "execution_count": 241,
   "metadata": {},
   "outputs": [
    {
     "name": "stdout",
     "output_type": "stream",
     "text": [
      "The percentage of null value in \"Embarkation\": 0.22 %\n"
     ]
    }
   ],
   "source": [
    "print('The percentage of null value in \"Embarkation\": %.2f' % \\\n",
    "     (train['Embarked'].isnull().sum() / train.shape[0] * 100), '%')"
   ]
  },
  {
   "cell_type": "markdown",
   "metadata": {},
   "source": [
    "#### counts plot - Embarked"
   ]
  },
  {
   "cell_type": "code",
   "execution_count": 242,
   "metadata": {},
   "outputs": [
    {
     "name": "stdout",
     "output_type": "stream",
     "text": [
      "S    644\n",
      "C    168\n",
      "Q     77\n",
      "Name: Embarked, dtype: int64\n"
     ]
    },
    {
     "data": {
      "image/png": "[encoded data removed]",
      "text/plain": [
       "<Figure size 432x288 with 1 Axes>"
      ]
     },
     "metadata": {},
     "output_type": "display_data"
    }
   ],
   "source": [
    "print(train['Embarked'].value_counts())\n",
    "sns.countplot(x='Embarked',\n",
    "             data=train,\n",
    "             palette='Set2') # 색 부분\n",
    "plt.show()"
   ]
  },
  {
   "cell_type": "markdown",
   "metadata": {},
   "source": [
    "애매할 땐 most common value"
   ]
  },
  {
   "cell_type": "markdown",
   "metadata": {},
   "source": [
    "## NA Imputation"
   ]
  },
  {
   "cell_type": "code",
   "execution_count": 243,
   "metadata": {},
   "outputs": [],
   "source": [
    "# train_old = pd.read_csv('../data/titanic/input/train.csv')"
   ]
  },
  {
   "cell_type": "code",
   "execution_count": 244,
   "metadata": {},
   "outputs": [],
   "source": [
    "train_old = train.copy() # to compare\n",
    "# Age : median imputation\n",
    "train['Age_1'] = train['Age']\n",
    "train['Age_1'].fillna(train['Age_1'].median(skipna=True), inplace=True)\n",
    "# Cabin : drop\n",
    "train.drop(['Cabin'], axis=1, inplace=True)\n",
    "# Embarked : the most common value ('S')\n",
    "train['Embarked'].fillna(train['Embarked'].value_counts().idxmax(), inplace=True)"
   ]
  },
  {
   "cell_type": "code",
   "execution_count": 245,
   "metadata": {},
   "outputs": [],
   "source": [
    "test_old = test.copy() # to compare\n",
    "# Age : median imputation\n",
    "test['Age_1'] = test['Age']\n",
    "test['Age_1'].fillna(test['Age_1'].median(skipna=True), inplace=True)\n",
    "# Cabin : drop\n",
    "test.drop(['Cabin'], axis=1, inplace=True)\n",
    "# Embarked : the most common value ('S')\n",
    "test['Embarked'].fillna(test['Embarked'].value_counts().idxmax(), inplace=True)"
   ]
  },
  {
   "cell_type": "code",
   "execution_count": 246,
   "metadata": {
    "scrolled": true
   },
   "outputs": [
    {
     "data": {
      "text/plain": [
       "PassengerId      0\n",
       "Survived         0\n",
       "Pclass           0\n",
       "Name             0\n",
       "Sex              0\n",
       "Age            177\n",
       "SibSp            0\n",
       "Parch            0\n",
       "Ticket           0\n",
       "Fare             0\n",
       "Embarked         0\n",
       "Age_1            0\n",
       "dtype: int64"
      ]
     },
     "execution_count": 246,
     "metadata": {},
     "output_type": "execute_result"
    }
   ],
   "source": [
    "train.isnull().sum()"
   ]
  },
  {
   "cell_type": "markdown",
   "metadata": {},
   "source": [
    "#### 결측 전후 비교"
   ]
  },
  {
   "cell_type": "code",
   "execution_count": 247,
   "metadata": {},
   "outputs": [
    {
     "data": {
      "image/png": "[encoded data removed]",
      "text/plain": [
       "<Figure size 1080x576 with 1 Axes>"
      ]
     },
     "metadata": {},
     "output_type": "display_data"
    }
   ],
   "source": [
    "plt.figure(figsize=(15,8))\n",
    "ax = train['Age'].hist(bins=15,\n",
    "                      density=True,\n",
    "                      stacked=True,\n",
    "                      color='teal',\n",
    "                      alpha=0.4)\n",
    "train['Age'].plot(kind='density', color='teal')\n",
    "ax = train['Age_1'].hist(bins=15,\n",
    "                          density=True,\n",
    "                          stacked=True,\n",
    "                          color='orange',\n",
    "                          alpha=0.4)\n",
    "train['Age_1'].plot(kind='density', color='orange')\n",
    "\n",
    "ax.legend(['Raw Age', 'Adjusted Age'])\n",
    "ax.set(xlabel='Age')\n",
    "plt.xlim(-10, 85)\n",
    "plt.show()"
   ]
  },
  {
   "cell_type": "markdown",
   "metadata": {},
   "source": [
    "# 4) Feature Engineering"
   ]
  },
  {
   "cell_type": "markdown",
   "metadata": {},
   "source": [
    "### Age group"
   ]
  },
  {
   "cell_type": "code",
   "execution_count": 248,
   "metadata": {},
   "outputs": [
    {
     "data": {
      "image/png": "[encoded data removed]",
      "text/plain": [
       "<Figure size 432x288 with 1 Axes>"
      ]
     },
     "metadata": {},
     "output_type": "display_data"
    }
   ],
   "source": [
    "ax = train['Age'].hist(bins=15,\n",
    "                      density=True,\n",
    "                      stacked=True,\n",
    "                      color='orange',\n",
    "                      alpha=0.4)\n",
    "train['Age'].plot(kind='density', color='red')\n",
    "ax.set(xlabel='Age')\n",
    "plt.xlim(-5, 90)\n",
    "plt.show()"
   ]
  },
  {
   "cell_type": "code",
   "execution_count": 249,
   "metadata": {},
   "outputs": [],
   "source": [
    "bins= [-1, 0, 5, 12, 18, 24, 35, 60, np.inf]\n",
    "labels=['Unknown', 'Baby', 'Child', 'Teenager',\n",
    "       'Student', 'Young Adult', 'Adult', 'Senior']"
   ]
  },
  {
   "cell_type": "code",
   "execution_count": 250,
   "metadata": {},
   "outputs": [],
   "source": [
    "train['AgeGroup'] = pd.cut(train['Age'], bins, labels= labels)\n",
    "test['AgeGroup'] = pd.cut(test['Age'], bins, labels= labels)"
   ]
  },
  {
   "cell_type": "code",
   "execution_count": 251,
   "metadata": {},
   "outputs": [
    {
     "data": {
      "image/png": "[encoded data removed]",
      "text/plain": [
       "<Figure size 432x288 with 1 Axes>"
      ]
     },
     "metadata": {},
     "output_type": "display_data"
    }
   ],
   "source": [
    "sns.barplot(x='AgeGroup', y='Survived', data=train)\n",
    "plt.show()"
   ]
  },
  {
   "cell_type": "markdown",
   "metadata": {},
   "source": [
    "### Cabin"
   ]
  },
  {
   "cell_type": "code",
   "execution_count": 252,
   "metadata": {},
   "outputs": [],
   "source": [
    "cabin_tmp = train_old[['Cabin', 'Survived']]"
   ]
  },
  {
   "cell_type": "code",
   "execution_count": 253,
   "metadata": {},
   "outputs": [],
   "source": [
    "cabin_tmp['CabinBool'] = (cabin_tmp['Cabin'].notnull().astype('int'))"
   ]
  },
  {
   "cell_type": "code",
   "execution_count": 254,
   "metadata": {},
   "outputs": [
    {
     "data": {
      "image/png": "[encoded data removed]",
      "text/plain": [
       "<Figure size 432x288 with 1 Axes>"
      ]
     },
     "metadata": {},
     "output_type": "display_data"
    }
   ],
   "source": [
    "sns.barplot(x='CabinBool', y='Survived', data=cabin_tmp)\n",
    "plt.show()"
   ]
  },
  {
   "cell_type": "markdown",
   "metadata": {},
   "source": [
    "극명한 영향을 보이지도 않음"
   ]
  },
  {
   "cell_type": "code",
   "execution_count": 255,
   "metadata": {},
   "outputs": [],
   "source": [
    "del cabin_tmp"
   ]
  },
  {
   "cell_type": "markdown",
   "metadata": {},
   "source": [
    "## categorical - Pclass, Embarked, Sex"
   ]
  },
  {
   "cell_type": "code",
   "execution_count": 256,
   "metadata": {},
   "outputs": [],
   "source": [
    "# train = pd.get_dummies(train, columns=['Pclass', 'Embarked','Sex'])\n",
    "# test = pd.get_dummies(test, columns=['Pclass', 'Embarked','Sex'])"
   ]
  },
  {
   "cell_type": "code",
   "execution_count": 257,
   "metadata": {},
   "outputs": [],
   "source": [
    "# drop_columns = ['Sex_female', 'PassengerId', 'Ticket']\n",
    "# train.drop(drop_columns,\n",
    "#           axis=1, inplace=True)\n",
    "# test.drop(drop_columns,\n",
    "#           axis=1, inplace=True)"
   ]
  },
  {
   "cell_type": "code",
   "execution_count": 258,
   "metadata": {
    "scrolled": true
   },
   "outputs": [],
   "source": [
    "# train.columns"
   ]
  },
  {
   "cell_type": "code",
   "execution_count": 259,
   "metadata": {},
   "outputs": [],
   "source": [
    "# One-hot encoding"
   ]
  },
  {
   "cell_type": "code",
   "execution_count": 260,
   "metadata": {},
   "outputs": [],
   "source": [
    "embarked_mapping = {'S':1, 'C':2, 'Q':3}\n",
    "\n",
    "combine = [train, test]\n",
    "for datasets in combine:\n",
    "    datasets['Embarked'] = datasets['Embarked'].map(embarked_mapping)"
   ]
  },
  {
   "cell_type": "code",
   "execution_count": 261,
   "metadata": {},
   "outputs": [],
   "source": [
    "Age_mapping = {'Baby': 1, 'Child': 2, 'Teenager': 3, 'Student': 4, 'Young Adult': 5, 'Adult': 6, 'Senior': 7}\n",
    "\n",
    "combine = [train, test]\n",
    "for datasets in combine:\n",
    "    datasets['AgeGroup'] = datasets['AgeGroup'].map(Age_mapping)"
   ]
  },
  {
   "cell_type": "code",
   "execution_count": 262,
   "metadata": {
    "scrolled": true
   },
   "outputs": [
    {
     "data": {
      "text/plain": [
       "array([ 4.,  6.,  5., nan,  1.,  3.,  2.,  7.])"
      ]
     },
     "execution_count": 262,
     "metadata": {},
     "output_type": "execute_result"
    }
   ],
   "source": [
    "train['AgeGroup'].unique()"
   ]
  },
  {
   "cell_type": "code",
   "execution_count": 263,
   "metadata": {},
   "outputs": [],
   "source": [
    "Sex_mapping = {'male':1, 'female':0}\n",
    "\n",
    "combine = [train, test]\n",
    "for datasets in combine:\n",
    "    datasets['Sex'] = datasets['Sex'].map(Sex_mapping)"
   ]
  },
  {
   "cell_type": "code",
   "execution_count": 264,
   "metadata": {},
   "outputs": [
    {
     "data": {
      "text/html": [
       "<div>\n",
       "<style scoped>\n",
       "    .dataframe tbody tr th:only-of-type {\n",
       "        vertical-align: middle;\n",
       "    }\n",
       "\n",
       "    .dataframe tbody tr th {\n",
       "        vertical-align: top;\n",
       "    }\n",
       "\n",
       "    .dataframe thead th {\n",
       "        text-align: right;\n",
       "    }\n",
       "</style>\n",
       "<table border=\"1\" class=\"dataframe\">\n",
       "  <thead>\n",
       "    <tr style=\"text-align: right;\">\n",
       "      <th></th>\n",
       "      <th>PassengerId</th>\n",
       "      <th>Survived</th>\n",
       "      <th>Pclass</th>\n",
       "      <th>Name</th>\n",
       "      <th>Sex</th>\n",
       "      <th>Age</th>\n",
       "      <th>SibSp</th>\n",
       "      <th>Parch</th>\n",
       "      <th>Ticket</th>\n",
       "      <th>Fare</th>\n",
       "      <th>Embarked</th>\n",
       "      <th>Age_1</th>\n",
       "      <th>AgeGroup</th>\n",
       "    </tr>\n",
       "  </thead>\n",
       "  <tbody>\n",
       "    <tr>\n",
       "      <td>805</td>\n",
       "      <td>806</td>\n",
       "      <td>0</td>\n",
       "      <td>3</td>\n",
       "      <td>Johansson, Mr. Karl Johan</td>\n",
       "      <td>1</td>\n",
       "      <td>31.0</td>\n",
       "      <td>0</td>\n",
       "      <td>0</td>\n",
       "      <td>347063</td>\n",
       "      <td>7.775</td>\n",
       "      <td>1</td>\n",
       "      <td>31.0</td>\n",
       "      <td>5.0</td>\n",
       "    </tr>\n",
       "    <tr>\n",
       "      <td>239</td>\n",
       "      <td>240</td>\n",
       "      <td>0</td>\n",
       "      <td>2</td>\n",
       "      <td>Hunt, Mr. George Henry</td>\n",
       "      <td>1</td>\n",
       "      <td>33.0</td>\n",
       "      <td>0</td>\n",
       "      <td>0</td>\n",
       "      <td>SCO/W 1585</td>\n",
       "      <td>12.275</td>\n",
       "      <td>1</td>\n",
       "      <td>33.0</td>\n",
       "      <td>5.0</td>\n",
       "    </tr>\n",
       "  </tbody>\n",
       "</table>\n",
       "</div>"
      ],
      "text/plain": [
       "     PassengerId  Survived  Pclass                       Name  Sex   Age  \\\n",
       "805          806         0       3  Johansson, Mr. Karl Johan    1  31.0   \n",
       "239          240         0       2     Hunt, Mr. George Henry    1  33.0   \n",
       "\n",
       "     SibSp  Parch      Ticket    Fare  Embarked  Age_1  AgeGroup  \n",
       "805      0      0      347063   7.775         1   31.0       5.0  \n",
       "239      0      0  SCO/W 1585  12.275         1   33.0       5.0  "
      ]
     },
     "execution_count": 264,
     "metadata": {},
     "output_type": "execute_result"
    }
   ],
   "source": [
    "train.sample(2)"
   ]
  },
  {
   "cell_type": "markdown",
   "metadata": {},
   "source": [
    "## 예측 대체 - Name & Age"
   ]
  },
  {
   "cell_type": "code",
   "execution_count": 265,
   "metadata": {},
   "outputs": [],
   "source": [
    "combine = [train, test]"
   ]
  },
  {
   "cell_type": "code",
   "execution_count": 266,
   "metadata": {},
   "outputs": [],
   "source": [
    "for dataset in combine:\n",
    "    dataset['Title'] = dataset['Name'].str.extract(' ([A-Za-z]+)\\.',\n",
    "                                                   expand=False)"
   ]
  },
  {
   "cell_type": "code",
   "execution_count": 267,
   "metadata": {},
   "outputs": [
    {
     "data": {
      "text/html": [
       "<div>\n",
       "<style scoped>\n",
       "    .dataframe tbody tr th:only-of-type {\n",
       "        vertical-align: middle;\n",
       "    }\n",
       "\n",
       "    .dataframe tbody tr th {\n",
       "        vertical-align: top;\n",
       "    }\n",
       "\n",
       "    .dataframe thead th {\n",
       "        text-align: right;\n",
       "    }\n",
       "</style>\n",
       "<table border=\"1\" class=\"dataframe\">\n",
       "  <thead>\n",
       "    <tr style=\"text-align: right;\">\n",
       "      <th>Sex</th>\n",
       "      <th>0</th>\n",
       "      <th>1</th>\n",
       "    </tr>\n",
       "    <tr>\n",
       "      <th>Title</th>\n",
       "      <th></th>\n",
       "      <th></th>\n",
       "    </tr>\n",
       "  </thead>\n",
       "  <tbody>\n",
       "    <tr>\n",
       "      <td>Capt</td>\n",
       "      <td>0</td>\n",
       "      <td>1</td>\n",
       "    </tr>\n",
       "    <tr>\n",
       "      <td>Col</td>\n",
       "      <td>0</td>\n",
       "      <td>2</td>\n",
       "    </tr>\n",
       "    <tr>\n",
       "      <td>Countess</td>\n",
       "      <td>1</td>\n",
       "      <td>0</td>\n",
       "    </tr>\n",
       "    <tr>\n",
       "      <td>Don</td>\n",
       "      <td>0</td>\n",
       "      <td>1</td>\n",
       "    </tr>\n",
       "    <tr>\n",
       "      <td>Dr</td>\n",
       "      <td>1</td>\n",
       "      <td>6</td>\n",
       "    </tr>\n",
       "    <tr>\n",
       "      <td>Jonkheer</td>\n",
       "      <td>0</td>\n",
       "      <td>1</td>\n",
       "    </tr>\n",
       "    <tr>\n",
       "      <td>Lady</td>\n",
       "      <td>1</td>\n",
       "      <td>0</td>\n",
       "    </tr>\n",
       "    <tr>\n",
       "      <td>Major</td>\n",
       "      <td>0</td>\n",
       "      <td>2</td>\n",
       "    </tr>\n",
       "    <tr>\n",
       "      <td>Master</td>\n",
       "      <td>0</td>\n",
       "      <td>40</td>\n",
       "    </tr>\n",
       "    <tr>\n",
       "      <td>Miss</td>\n",
       "      <td>182</td>\n",
       "      <td>0</td>\n",
       "    </tr>\n",
       "    <tr>\n",
       "      <td>Mlle</td>\n",
       "      <td>2</td>\n",
       "      <td>0</td>\n",
       "    </tr>\n",
       "    <tr>\n",
       "      <td>Mme</td>\n",
       "      <td>1</td>\n",
       "      <td>0</td>\n",
       "    </tr>\n",
       "    <tr>\n",
       "      <td>Mr</td>\n",
       "      <td>0</td>\n",
       "      <td>517</td>\n",
       "    </tr>\n",
       "    <tr>\n",
       "      <td>Mrs</td>\n",
       "      <td>125</td>\n",
       "      <td>0</td>\n",
       "    </tr>\n",
       "    <tr>\n",
       "      <td>Ms</td>\n",
       "      <td>1</td>\n",
       "      <td>0</td>\n",
       "    </tr>\n",
       "    <tr>\n",
       "      <td>Rev</td>\n",
       "      <td>0</td>\n",
       "      <td>6</td>\n",
       "    </tr>\n",
       "    <tr>\n",
       "      <td>Sir</td>\n",
       "      <td>0</td>\n",
       "      <td>1</td>\n",
       "    </tr>\n",
       "  </tbody>\n",
       "</table>\n",
       "</div>"
      ],
      "text/plain": [
       "Sex         0    1\n",
       "Title             \n",
       "Capt        0    1\n",
       "Col         0    2\n",
       "Countess    1    0\n",
       "Don         0    1\n",
       "Dr          1    6\n",
       "Jonkheer    0    1\n",
       "Lady        1    0\n",
       "Major       0    2\n",
       "Master      0   40\n",
       "Miss      182    0\n",
       "Mlle        2    0\n",
       "Mme         1    0\n",
       "Mr          0  517\n",
       "Mrs       125    0\n",
       "Ms          1    0\n",
       "Rev         0    6\n",
       "Sir         0    1"
      ]
     },
     "execution_count": 267,
     "metadata": {},
     "output_type": "execute_result"
    }
   ],
   "source": [
    "pd.crosstab(train['Title'], train['Sex'])"
   ]
  },
  {
   "cell_type": "code",
   "execution_count": 268,
   "metadata": {},
   "outputs": [],
   "source": [
    "# 이름 치환\n",
    "for dataset in combine:\n",
    "    dataset['Title'] = dataset['Title'].replace(['Capt','Col',\n",
    "        'Don', 'Dr', 'Major', 'Rev', 'Jonkheer', 'Dona'], 'Rare')\n",
    "    dataset['Title'] = dataset['Title'].replace(['Countess', 'Lady', 'Sir'],'Royal')\n",
    "    dataset['Title'] = dataset['Title'].replace('Mlle', \"Miss\")\n",
    "    dataset['Title'] = dataset['Title'].replace('Ms', 'Miss')\n",
    "    dataset['Title'] = dataset['Title'].replace('Mme', 'Mrs')"
   ]
  },
  {
   "cell_type": "code",
   "execution_count": 269,
   "metadata": {},
   "outputs": [
    {
     "data": {
      "text/html": [
       "<div>\n",
       "<style scoped>\n",
       "    .dataframe tbody tr th:only-of-type {\n",
       "        vertical-align: middle;\n",
       "    }\n",
       "\n",
       "    .dataframe tbody tr th {\n",
       "        vertical-align: top;\n",
       "    }\n",
       "\n",
       "    .dataframe thead th {\n",
       "        text-align: right;\n",
       "    }\n",
       "</style>\n",
       "<table border=\"1\" class=\"dataframe\">\n",
       "  <thead>\n",
       "    <tr style=\"text-align: right;\">\n",
       "      <th>Survived</th>\n",
       "      <th>0</th>\n",
       "      <th>1</th>\n",
       "    </tr>\n",
       "    <tr>\n",
       "      <th>Title</th>\n",
       "      <th></th>\n",
       "      <th></th>\n",
       "    </tr>\n",
       "  </thead>\n",
       "  <tbody>\n",
       "    <tr>\n",
       "      <td>Master</td>\n",
       "      <td>17</td>\n",
       "      <td>23</td>\n",
       "    </tr>\n",
       "    <tr>\n",
       "      <td>Miss</td>\n",
       "      <td>55</td>\n",
       "      <td>130</td>\n",
       "    </tr>\n",
       "    <tr>\n",
       "      <td>Mr</td>\n",
       "      <td>436</td>\n",
       "      <td>81</td>\n",
       "    </tr>\n",
       "    <tr>\n",
       "      <td>Mrs</td>\n",
       "      <td>26</td>\n",
       "      <td>100</td>\n",
       "    </tr>\n",
       "    <tr>\n",
       "      <td>Rare</td>\n",
       "      <td>15</td>\n",
       "      <td>5</td>\n",
       "    </tr>\n",
       "    <tr>\n",
       "      <td>Royal</td>\n",
       "      <td>0</td>\n",
       "      <td>3</td>\n",
       "    </tr>\n",
       "  </tbody>\n",
       "</table>\n",
       "</div>"
      ],
      "text/plain": [
       "Survived    0    1\n",
       "Title             \n",
       "Master     17   23\n",
       "Miss       55  130\n",
       "Mr        436   81\n",
       "Mrs        26  100\n",
       "Rare       15    5\n",
       "Royal       0    3"
      ]
     },
     "execution_count": 269,
     "metadata": {},
     "output_type": "execute_result"
    }
   ],
   "source": [
    "pd.crosstab(train['Title'], train['Survived'])"
   ]
  },
  {
   "cell_type": "code",
   "execution_count": 270,
   "metadata": {
    "scrolled": false
   },
   "outputs": [
    {
     "data": {
      "text/html": [
       "<div>\n",
       "<style scoped>\n",
       "    .dataframe tbody tr th:only-of-type {\n",
       "        vertical-align: middle;\n",
       "    }\n",
       "\n",
       "    .dataframe tbody tr th {\n",
       "        vertical-align: top;\n",
       "    }\n",
       "\n",
       "    .dataframe thead th {\n",
       "        text-align: right;\n",
       "    }\n",
       "</style>\n",
       "<table border=\"1\" class=\"dataframe\">\n",
       "  <thead>\n",
       "    <tr style=\"text-align: right;\">\n",
       "      <th></th>\n",
       "      <th>Title</th>\n",
       "      <th>Survived</th>\n",
       "    </tr>\n",
       "  </thead>\n",
       "  <tbody>\n",
       "    <tr>\n",
       "      <td>0</td>\n",
       "      <td>Master</td>\n",
       "      <td>0.575000</td>\n",
       "    </tr>\n",
       "    <tr>\n",
       "      <td>1</td>\n",
       "      <td>Miss</td>\n",
       "      <td>0.702703</td>\n",
       "    </tr>\n",
       "    <tr>\n",
       "      <td>2</td>\n",
       "      <td>Mr</td>\n",
       "      <td>0.156673</td>\n",
       "    </tr>\n",
       "    <tr>\n",
       "      <td>3</td>\n",
       "      <td>Mrs</td>\n",
       "      <td>0.793651</td>\n",
       "    </tr>\n",
       "    <tr>\n",
       "      <td>4</td>\n",
       "      <td>Rare</td>\n",
       "      <td>0.250000</td>\n",
       "    </tr>\n",
       "    <tr>\n",
       "      <td>5</td>\n",
       "      <td>Royal</td>\n",
       "      <td>1.000000</td>\n",
       "    </tr>\n",
       "  </tbody>\n",
       "</table>\n",
       "</div>"
      ],
      "text/plain": [
       "    Title  Survived\n",
       "0  Master  0.575000\n",
       "1    Miss  0.702703\n",
       "2      Mr  0.156673\n",
       "3     Mrs  0.793651\n",
       "4    Rare  0.250000\n",
       "5   Royal  1.000000"
      ]
     },
     "execution_count": 270,
     "metadata": {},
     "output_type": "execute_result"
    }
   ],
   "source": [
    "train[['Title', 'Survived']].groupby(['Title'], as_index=False).mean()"
   ]
  },
  {
   "cell_type": "code",
   "execution_count": 271,
   "metadata": {},
   "outputs": [],
   "source": [
    "from sklearn.preprocessing import LabelEncoder\n",
    "\n",
    "label_encoder = LabelEncoder()\n",
    "train['Title_label'] = label_encoder.fit_transform(train['Title'])"
   ]
  },
  {
   "cell_type": "code",
   "execution_count": 272,
   "metadata": {},
   "outputs": [],
   "source": [
    "### map each of the title groups to a numerical value"
   ]
  },
  {
   "cell_type": "code",
   "execution_count": 273,
   "metadata": {},
   "outputs": [],
   "source": [
    "# title_mapping = {\"Mr\": 1, \"Miss\": 2, \"Mrs\": 3, \"Master\": 4, \"Royal\": 5, \"Rare\": 6}\n",
    "# for dataset in combine:\n",
    "#     dataset['Title'] = dataset['Title'].map(title_mapping)\n",
    "#     dataset['Title'] = dataset['Title'].fillna(0)\n",
    "\n",
    "# train.head()"
   ]
  },
  {
   "cell_type": "code",
   "execution_count": 274,
   "metadata": {
    "scrolled": true
   },
   "outputs": [
    {
     "data": {
      "text/html": [
       "<div>\n",
       "<style scoped>\n",
       "    .dataframe tbody tr th:only-of-type {\n",
       "        vertical-align: middle;\n",
       "    }\n",
       "\n",
       "    .dataframe tbody tr th {\n",
       "        vertical-align: top;\n",
       "    }\n",
       "\n",
       "    .dataframe thead th {\n",
       "        text-align: right;\n",
       "    }\n",
       "</style>\n",
       "<table border=\"1\" class=\"dataframe\">\n",
       "  <thead>\n",
       "    <tr style=\"text-align: right;\">\n",
       "      <th></th>\n",
       "      <th>Title</th>\n",
       "      <th>Title_label</th>\n",
       "    </tr>\n",
       "  </thead>\n",
       "  <tbody>\n",
       "    <tr>\n",
       "      <td>0</td>\n",
       "      <td>Mr</td>\n",
       "      <td>2</td>\n",
       "    </tr>\n",
       "    <tr>\n",
       "      <td>1</td>\n",
       "      <td>Mrs</td>\n",
       "      <td>3</td>\n",
       "    </tr>\n",
       "    <tr>\n",
       "      <td>2</td>\n",
       "      <td>Miss</td>\n",
       "      <td>1</td>\n",
       "    </tr>\n",
       "    <tr>\n",
       "      <td>7</td>\n",
       "      <td>Master</td>\n",
       "      <td>0</td>\n",
       "    </tr>\n",
       "    <tr>\n",
       "      <td>30</td>\n",
       "      <td>Rare</td>\n",
       "      <td>4</td>\n",
       "    </tr>\n",
       "    <tr>\n",
       "      <td>556</td>\n",
       "      <td>Royal</td>\n",
       "      <td>5</td>\n",
       "    </tr>\n",
       "  </tbody>\n",
       "</table>\n",
       "</div>"
      ],
      "text/plain": [
       "      Title  Title_label\n",
       "0        Mr            2\n",
       "1       Mrs            3\n",
       "2      Miss            1\n",
       "7    Master            0\n",
       "30     Rare            4\n",
       "556   Royal            5"
      ]
     },
     "execution_count": 274,
     "metadata": {},
     "output_type": "execute_result"
    }
   ],
   "source": [
    "train[['Title','Title_label']].drop_duplicates()"
   ]
  },
  {
   "cell_type": "markdown",
   "metadata": {},
   "source": [
    "# ★ Title 별 연령 평균값으로 결측값 타이틀에 매핑"
   ]
  },
  {
   "cell_type": "code",
   "execution_count": 275,
   "metadata": {
    "scrolled": true
   },
   "outputs": [],
   "source": [
    "age_mean = train[['Title', 'Age']].groupby(['Title']).mean().astype('int').reset_index()\n",
    "# age_mean = train[['Title', 'Age']].groupby(['Title']).mean().reset_index()\n",
    "# age_mean[['Age']] = age_mean[['Age']].astype('int64')\n",
    "age_mean.rename(columns={'Age':'Age_mean'}, inplace=True)\n",
    "age_mean = pd.DataFrame(age_mean)"
   ]
  },
  {
   "cell_type": "code",
   "execution_count": 276,
   "metadata": {},
   "outputs": [],
   "source": [
    "train['Age_2'] = train['Age']"
   ]
  },
  {
   "cell_type": "code",
   "execution_count": 277,
   "metadata": {
    "scrolled": true
   },
   "outputs": [
    {
     "data": {
      "text/html": [
       "<div>\n",
       "<style scoped>\n",
       "    .dataframe tbody tr th:only-of-type {\n",
       "        vertical-align: middle;\n",
       "    }\n",
       "\n",
       "    .dataframe tbody tr th {\n",
       "        vertical-align: top;\n",
       "    }\n",
       "\n",
       "    .dataframe thead th {\n",
       "        text-align: right;\n",
       "    }\n",
       "</style>\n",
       "<table border=\"1\" class=\"dataframe\">\n",
       "  <thead>\n",
       "    <tr style=\"text-align: right;\">\n",
       "      <th></th>\n",
       "      <th>Survived</th>\n",
       "      <th>Name</th>\n",
       "      <th>Title</th>\n",
       "      <th>Age</th>\n",
       "      <th>AgeGroup</th>\n",
       "      <th>Age_1</th>\n",
       "      <th>Age_2</th>\n",
       "    </tr>\n",
       "  </thead>\n",
       "  <tbody>\n",
       "    <tr>\n",
       "      <td>5</td>\n",
       "      <td>0</td>\n",
       "      <td>Moran, Mr. James</td>\n",
       "      <td>Mr</td>\n",
       "      <td>NaN</td>\n",
       "      <td>NaN</td>\n",
       "      <td>28.0</td>\n",
       "      <td>NaN</td>\n",
       "    </tr>\n",
       "    <tr>\n",
       "      <td>17</td>\n",
       "      <td>1</td>\n",
       "      <td>Williams, Mr. Charles Eugene</td>\n",
       "      <td>Mr</td>\n",
       "      <td>NaN</td>\n",
       "      <td>NaN</td>\n",
       "      <td>28.0</td>\n",
       "      <td>NaN</td>\n",
       "    </tr>\n",
       "    <tr>\n",
       "      <td>19</td>\n",
       "      <td>1</td>\n",
       "      <td>Masselmani, Mrs. Fatima</td>\n",
       "      <td>Mrs</td>\n",
       "      <td>NaN</td>\n",
       "      <td>NaN</td>\n",
       "      <td>28.0</td>\n",
       "      <td>NaN</td>\n",
       "    </tr>\n",
       "  </tbody>\n",
       "</table>\n",
       "</div>"
      ],
      "text/plain": [
       "    Survived                          Name Title  Age  AgeGroup  Age_1  Age_2\n",
       "5          0              Moran, Mr. James    Mr  NaN       NaN   28.0    NaN\n",
       "17         1  Williams, Mr. Charles Eugene    Mr  NaN       NaN   28.0    NaN\n",
       "19         1       Masselmani, Mrs. Fatima   Mrs  NaN       NaN   28.0    NaN"
      ]
     },
     "execution_count": 277,
     "metadata": {},
     "output_type": "execute_result"
    }
   ],
   "source": [
    "train[['Survived', 'Name','Title', 'Age','AgeGroup',\n",
    "       'Age_1', 'Age_2']][train['Age_2'].isna()==True].head(3)"
   ]
  },
  {
   "cell_type": "code",
   "execution_count": 278,
   "metadata": {},
   "outputs": [],
   "source": [
    "train['Age_2'] = train['Age_2'].fillna(train['Title'].map(age_mean.set_index('Title')['Age_mean']))"
   ]
  },
  {
   "cell_type": "markdown",
   "metadata": {},
   "source": [
    "### distribution"
   ]
  },
  {
   "cell_type": "code",
   "execution_count": 279,
   "metadata": {
    "scrolled": true
   },
   "outputs": [
    {
     "data": {
      "image/png": "[encoded data removed]",
      "text/plain": [
       "<Figure size 432x288 with 1 Axes>"
      ]
     },
     "metadata": {},
     "output_type": "display_data"
    }
   ],
   "source": [
    "ax = train['Age'].hist(bins=15, density=True, stacked=True, color='teal',alpha=0.8)\n",
    "ax = train['Age_1'].hist(bins=15, density=True, stacked=True, color='orange', alpha=0.3)\n",
    "ax = train['Age_2'].hist(bins=15, density=True, stacked=True, color='red', alpha=0.2)\n",
    "\n",
    "train['Age'].plot(kind='density', color='teal')\n",
    "train['Age_1'].plot(kind='density', color='orange')\n",
    "train['Age_2'].plot(kind='density', color='red')\n",
    "\n",
    "ax.set(xlabel='Age')\n",
    "plt.xlim(-5, 88)\n",
    "plt.show()"
   ]
  },
  {
   "cell_type": "code",
   "execution_count": 280,
   "metadata": {},
   "outputs": [],
   "source": [
    "# train['Age_2'] = train['Age_2'].fillna(train['Title'].map(age_mean.set_index('Title')['Age_mean']))\n",
    "test['Age_2'] = test['Age']\n",
    "test['Age_2'] = test['Age_2'].fillna(test['Title'].map(age_mean.set_index('Title')['Age_mean']))"
   ]
  },
  {
   "cell_type": "code",
   "execution_count": 281,
   "metadata": {},
   "outputs": [],
   "source": [
    "del test['Age']\n",
    "del train['Age']"
   ]
  },
  {
   "cell_type": "code",
   "execution_count": 282,
   "metadata": {},
   "outputs": [],
   "source": [
    "del train['Title_label']"
   ]
  },
  {
   "cell_type": "code",
   "execution_count": 283,
   "metadata": {},
   "outputs": [
    {
     "name": "stdout",
     "output_type": "stream",
     "text": [
      "Index(['PassengerId', 'Pclass', 'Name', 'Sex', 'SibSp', 'Parch', 'Ticket',\n",
      "       'Fare', 'Embarked', 'Age_1', 'AgeGroup', 'Title', 'Age_2'],\n",
      "      dtype='object')\n",
      "Index(['PassengerId', 'Survived', 'Pclass', 'Name', 'Sex', 'SibSp', 'Parch',\n",
      "       'Ticket', 'Fare', 'Embarked', 'Age_1', 'AgeGroup', 'Title', 'Age_2'],\n",
      "      dtype='object')\n"
     ]
    }
   ],
   "source": [
    "print(test.columns)\n",
    "print(train.columns)"
   ]
  },
  {
   "cell_type": "code",
   "execution_count": 284,
   "metadata": {},
   "outputs": [],
   "source": [
    "del test['Name']\n",
    "del train['Name']"
   ]
  },
  {
   "cell_type": "code",
   "execution_count": 285,
   "metadata": {},
   "outputs": [],
   "source": [
    "title_mapping = {\"Mr\": 1, \"Miss\": 2, \"Mrs\": 3, \"Master\": 4, \"Royal\": 5, \"Rare\": 6}\n",
    "\n",
    "combine = [train, test]\n",
    "for dataset in combine:\n",
    "    dataset['Title'] = dataset['Title'].map(title_mapping)"
   ]
  },
  {
   "cell_type": "code",
   "execution_count": 286,
   "metadata": {},
   "outputs": [],
   "source": [
    "del train['PassengerId']\n",
    "del train['Ticket']"
   ]
  },
  {
   "cell_type": "code",
   "execution_count": 287,
   "metadata": {
    "scrolled": true
   },
   "outputs": [
    {
     "data": {
      "text/html": [
       "<div>\n",
       "<style scoped>\n",
       "    .dataframe tbody tr th:only-of-type {\n",
       "        vertical-align: middle;\n",
       "    }\n",
       "\n",
       "    .dataframe tbody tr th {\n",
       "        vertical-align: top;\n",
       "    }\n",
       "\n",
       "    .dataframe thead th {\n",
       "        text-align: right;\n",
       "    }\n",
       "</style>\n",
       "<table border=\"1\" class=\"dataframe\">\n",
       "  <thead>\n",
       "    <tr style=\"text-align: right;\">\n",
       "      <th></th>\n",
       "      <th>Survived</th>\n",
       "      <th>Pclass</th>\n",
       "      <th>Sex</th>\n",
       "      <th>SibSp</th>\n",
       "      <th>Parch</th>\n",
       "      <th>Fare</th>\n",
       "      <th>Embarked</th>\n",
       "      <th>Age_1</th>\n",
       "      <th>AgeGroup</th>\n",
       "      <th>Title</th>\n",
       "      <th>Age_2</th>\n",
       "    </tr>\n",
       "  </thead>\n",
       "  <tbody>\n",
       "    <tr>\n",
       "      <td>609</td>\n",
       "      <td>1</td>\n",
       "      <td>1</td>\n",
       "      <td>0</td>\n",
       "      <td>0</td>\n",
       "      <td>0</td>\n",
       "      <td>153.4625</td>\n",
       "      <td>1</td>\n",
       "      <td>40.0</td>\n",
       "      <td>6.0</td>\n",
       "      <td>2</td>\n",
       "      <td>40.0</td>\n",
       "    </tr>\n",
       "    <tr>\n",
       "      <td>243</td>\n",
       "      <td>0</td>\n",
       "      <td>3</td>\n",
       "      <td>1</td>\n",
       "      <td>0</td>\n",
       "      <td>0</td>\n",
       "      <td>7.1250</td>\n",
       "      <td>1</td>\n",
       "      <td>22.0</td>\n",
       "      <td>4.0</td>\n",
       "      <td>1</td>\n",
       "      <td>22.0</td>\n",
       "    </tr>\n",
       "  </tbody>\n",
       "</table>\n",
       "</div>"
      ],
      "text/plain": [
       "     Survived  Pclass  Sex  SibSp  Parch      Fare  Embarked  Age_1  AgeGroup  \\\n",
       "609         1       1    0      0      0  153.4625         1   40.0       6.0   \n",
       "243         0       3    1      0      0    7.1250         1   22.0       4.0   \n",
       "\n",
       "     Title  Age_2  \n",
       "609      2   40.0  \n",
       "243      1   22.0  "
      ]
     },
     "execution_count": 287,
     "metadata": {},
     "output_type": "execute_result"
    }
   ],
   "source": [
    "train.sample(2)"
   ]
  },
  {
   "cell_type": "code",
   "execution_count": 288,
   "metadata": {},
   "outputs": [],
   "source": [
    "bins= [-1, 0, 5, 12, 18, 24, 35, 60, np.inf]\n",
    "labels=['Unknown', 'Baby', 'Child', 'Teenager',\n",
    "       'Student', 'Young Adult', 'Adult', 'Senior']"
   ]
  },
  {
   "cell_type": "code",
   "execution_count": 289,
   "metadata": {},
   "outputs": [],
   "source": [
    "train['AgeGroup'] = pd.cut(train['Age_2'], bins, labels= labels)\n",
    "test['AgeGroup'] = pd.cut(test['Age_2'], bins, labels= labels)"
   ]
  },
  {
   "cell_type": "code",
   "execution_count": 290,
   "metadata": {},
   "outputs": [],
   "source": [
    "#map each Age value to a numerical value\n",
    "age_mapping = {'Baby': 1, 'Child': 2, 'Teenager': 3, 'Student': 4, 'Young Adult': 5, 'Adult': 6, 'Senior': 7}\n",
    "train['AgeGroup'] = train['AgeGroup'].map(age_mapping)\n",
    "test['AgeGroup'] = test['AgeGroup'].map(age_mapping)"
   ]
  },
  {
   "cell_type": "code",
   "execution_count": 291,
   "metadata": {
    "scrolled": true
   },
   "outputs": [
    {
     "name": "stdout",
     "output_type": "stream",
     "text": [
      "Survived    0\n",
      "Pclass      0\n",
      "Sex         0\n",
      "SibSp       0\n",
      "Parch       0\n",
      "Fare        0\n",
      "Embarked    0\n",
      "Age_1       0\n",
      "AgeGroup    0\n",
      "Title       0\n",
      "Age_2       0\n",
      "dtype: int64\n",
      "PassengerId    0\n",
      "Pclass         0\n",
      "Sex            0\n",
      "SibSp          0\n",
      "Parch          0\n",
      "Ticket         0\n",
      "Fare           1\n",
      "Embarked       0\n",
      "Age_1          0\n",
      "AgeGroup       0\n",
      "Title          0\n",
      "Age_2          0\n",
      "dtype: int64\n"
     ]
    }
   ],
   "source": [
    "print(train.isnull().sum())\n",
    "print(test.isnull().sum())"
   ]
  },
  {
   "cell_type": "markdown",
   "metadata": {},
   "source": [
    "# 5) Feature Selection"
   ]
  },
  {
   "cell_type": "code",
   "execution_count": 292,
   "metadata": {
    "scrolled": false
   },
   "outputs": [
    {
     "name": "stdout",
     "output_type": "stream",
     "text": [
      "Index(['Survived', 'Pclass', 'Sex', 'SibSp', 'Parch', 'Fare', 'Embarked',\n",
      "       'Age_1', 'AgeGroup', 'Title', 'Age_2'],\n",
      "      dtype='object')\n",
      "Index(['PassengerId', 'Pclass', 'Sex', 'SibSp', 'Parch', 'Ticket', 'Fare',\n",
      "       'Embarked', 'Age_1', 'AgeGroup', 'Title', 'Age_2'],\n",
      "      dtype='object')\n"
     ]
    }
   ],
   "source": [
    "print(train.columns)\n",
    "print(test.columns)"
   ]
  },
  {
   "cell_type": "code",
   "execution_count": 293,
   "metadata": {},
   "outputs": [],
   "source": [
    "from sklearn.model_selection import train_test_split\n",
    "\n",
    "predictors = train.drop(['Survived'], axis=1)\n",
    "target = train['Survived']\n",
    "\n",
    "x_train, x_val, y_train, y_val = train_test_split(predictors, target,\n",
    "                                                 test_size=0.22,\n",
    "                                                 random_state=0)"
   ]
  },
  {
   "cell_type": "code",
   "execution_count": 294,
   "metadata": {},
   "outputs": [
    {
     "name": "stdout",
     "output_type": "stream",
     "text": [
      "(694, 10) (694,) (197, 10)\n"
     ]
    }
   ],
   "source": [
    "print(x_train.shape,\n",
    "     y_train.shape,\n",
    "     x_val.shape)"
   ]
  },
  {
   "cell_type": "code",
   "execution_count": 295,
   "metadata": {
    "scrolled": false
   },
   "outputs": [
    {
     "data": {
      "text/plain": [
       "Index(['Pclass', 'Sex', 'SibSp', 'Parch', 'Fare', 'Embarked', 'Age_1',\n",
       "       'AgeGroup', 'Title', 'Age_2'],\n",
       "      dtype='object')"
      ]
     },
     "execution_count": 295,
     "metadata": {},
     "output_type": "execute_result"
    }
   ],
   "source": [
    "train.columns.delete(0)"
   ]
  },
  {
   "cell_type": "code",
   "execution_count": 296,
   "metadata": {},
   "outputs": [
    {
     "name": "stdout",
     "output_type": "stream",
     "text": [
      "Selected Features: ['Pclass', 'Sex', 'SibSp', 'Parch', 'Embarked', 'Age_1', 'Title', 'Age_2']\n"
     ]
    }
   ],
   "source": [
    "from sklearn.feature_selection import RFE\n",
    "\n",
    "cols = train.columns.delete(0)\n",
    "x = train[cols]\n",
    "y = train['Survived']\n",
    "\n",
    "model = LogisticRegression()\n",
    "# RFE 모델 :: 8개 속성\n",
    "rfe = RFE(model, 8)\n",
    "rfe = rfe.fit(x, y)\n",
    "# 선정된 속성 요약\n",
    "print('Selected Features: %s' % list(x.columns[rfe.support_]))"
   ]
  },
  {
   "cell_type": "code",
   "execution_count": 297,
   "metadata": {},
   "outputs": [
    {
     "name": "stdout",
     "output_type": "stream",
     "text": [
      "Selected Features: ['Pclass', 'Sex', 'SibSp', 'Parch', 'Embarked', 'Age_1', 'Title', 'Age_2']\n"
     ]
    }
   ],
   "source": [
    "# RFE + CV : 최적 변수 수 찾아줘\n",
    "from sklearn.feature_selection import RFECV\n",
    "\n",
    "rfecv = RFECV(estimator=LogisticRegression(),\n",
    "             step=1,\n",
    "             cv=10,\n",
    "             scoring='accuracy')\n",
    "rfecv.fit(x,y)\n",
    "\n",
    "print('Selected Features: %s' % list(x.columns[rfecv.support_]))"
   ]
  },
  {
   "cell_type": "code",
   "execution_count": 298,
   "metadata": {},
   "outputs": [
    {
     "name": "stdout",
     "output_type": "stream",
     "text": [
      "Optimal Number of features: 8\n"
     ]
    }
   ],
   "source": [
    "print(\"Optimal Number of features: %d\" % rfecv.n_features_)"
   ]
  },
  {
   "cell_type": "code",
   "execution_count": 299,
   "metadata": {},
   "outputs": [
    {
     "data": {
      "image/png": "[encoded data removed]",
      "text/plain": [
       "<Figure size 720x432 with 1 Axes>"
      ]
     },
     "metadata": {},
     "output_type": "display_data"
    }
   ],
   "source": [
    "# Plot the number of features VS. cross-validation scores\n",
    "plt.figure(figsize=(10,6))\n",
    "plt.xlabel(\"Number of features selected\")\n",
    "plt.ylabel(\"Cross Validation score (nb of correct classification)\")\n",
    "plt.plot(range(1, len(rfecv.grid_scores_) + 1), rfecv.grid_scores_)\n",
    "plt.show()"
   ]
  },
  {
   "cell_type": "code",
   "execution_count": 300,
   "metadata": {},
   "outputs": [
    {
     "data": {
      "image/png": "[encoded data removed]",
      "text/plain": [
       "<Figure size 576x360 with 2 Axes>"
      ]
     },
     "metadata": {},
     "output_type": "display_data"
    }
   ],
   "source": [
    "# 선택된 변수들간 상관관계\n",
    "selected_features = x.columns[rfecv.support_]\n",
    "temp = train[selected_features]\n",
    "\n",
    "plt.subplots(figsize=(8,5))\n",
    "sns.heatmap(x.corr(), annot=True, cmap='RdYlGn')\n",
    "plt.show()"
   ]
  },
  {
   "cell_type": "code",
   "execution_count": 301,
   "metadata": {
    "scrolled": true
   },
   "outputs": [
    {
     "name": "stdout",
     "output_type": "stream",
     "text": [
      "non-selected features accuracy: 0.78680 \n",
      "Selected features accuracy: 0.78680\n"
     ]
    }
   ],
   "source": [
    "logreg = LogisticRegression()\n",
    "logreg.fit(x_train, y_train)\n",
    "y_pred = logreg.predict(x_val)\n",
    "acc_log = accuracy_score(y_val, y_pred)\n",
    "\n",
    "logreg.fit(x_train[selected_features], y_train)\n",
    "y_pred = logreg.predict(x_val[selected_features])\n",
    "acc_log_selected = accuracy_score(y_val, y_pred)\n",
    "\n",
    "print('non-selected features accuracy: %.5f' % acc_log,\n",
    "     '\\nSelected features accuracy: %.5f' % acc_log_selected)"
   ]
  },
  {
   "cell_type": "markdown",
   "metadata": {},
   "source": [
    "정확도가 똑같을 때는 변수가 더 적은 모델로 선택"
   ]
  },
  {
   "cell_type": "code",
   "execution_count": 302,
   "metadata": {
    "scrolled": true
   },
   "outputs": [
    {
     "name": "stdout",
     "output_type": "stream",
     "text": [
      "Index(['Survived', 'Pclass', 'Sex', 'SibSp', 'Parch', 'Fare', 'Embarked',\n",
      "       'Age_1', 'AgeGroup', 'Title', 'Age_2'],\n",
      "      dtype='object')\n",
      "Index(['PassengerId', 'Pclass', 'Sex', 'SibSp', 'Parch', 'Ticket', 'Fare',\n",
      "       'Embarked', 'Age_1', 'AgeGroup', 'Title', 'Age_2'],\n",
      "      dtype='object')\n"
     ]
    }
   ],
   "source": [
    "print(train.columns)\n",
    "print(test.columns)"
   ]
  },
  {
   "cell_type": "code",
   "execution_count": 304,
   "metadata": {},
   "outputs": [
    {
     "data": {
      "text/plain": [
       "Index(['Pclass', 'Sex', 'SibSp', 'Parch', 'Embarked', 'Age_1', 'Title',\n",
       "       'Age_2'],\n",
       "      dtype='object')"
      ]
     },
     "execution_count": 304,
     "metadata": {},
     "output_type": "execute_result"
    }
   ],
   "source": [
    "selected_features"
   ]
  },
  {
   "cell_type": "code",
   "execution_count": 306,
   "metadata": {},
   "outputs": [],
   "source": [
    "test = test[['Pclass', 'Sex', 'SibSp', 'Parch', 'Embarked', 'Age_1', 'Title',\n",
    "       'Age_2','PassengerId']]\n",
    "train = train[['Pclass', 'Sex', 'SibSp', 'Parch', 'Embarked', 'Age_1', 'Title',\n",
    "       'Age_2','Survived']]"
   ]
  },
  {
   "cell_type": "code",
   "execution_count": 310,
   "metadata": {
    "scrolled": true
   },
   "outputs": [
    {
     "data": {
      "text/html": [
       "<div>\n",
       "<style scoped>\n",
       "    .dataframe tbody tr th:only-of-type {\n",
       "        vertical-align: middle;\n",
       "    }\n",
       "\n",
       "    .dataframe tbody tr th {\n",
       "        vertical-align: top;\n",
       "    }\n",
       "\n",
       "    .dataframe thead th {\n",
       "        text-align: right;\n",
       "    }\n",
       "</style>\n",
       "<table border=\"1\" class=\"dataframe\">\n",
       "  <thead>\n",
       "    <tr style=\"text-align: right;\">\n",
       "      <th></th>\n",
       "      <th>Pclass</th>\n",
       "      <th>Sex</th>\n",
       "      <th>SibSp</th>\n",
       "      <th>Parch</th>\n",
       "      <th>Embarked</th>\n",
       "      <th>Age_1</th>\n",
       "      <th>Title</th>\n",
       "      <th>Age_2</th>\n",
       "      <th>PassengerId</th>\n",
       "    </tr>\n",
       "  </thead>\n",
       "  <tbody>\n",
       "    <tr>\n",
       "      <td>97</td>\n",
       "      <td>3</td>\n",
       "      <td>1</td>\n",
       "      <td>0</td>\n",
       "      <td>0</td>\n",
       "      <td>1</td>\n",
       "      <td>29.0</td>\n",
       "      <td>1</td>\n",
       "      <td>29.0</td>\n",
       "      <td>989</td>\n",
       "    </tr>\n",
       "    <tr>\n",
       "      <td>200</td>\n",
       "      <td>3</td>\n",
       "      <td>0</td>\n",
       "      <td>0</td>\n",
       "      <td>0</td>\n",
       "      <td>3</td>\n",
       "      <td>27.0</td>\n",
       "      <td>2</td>\n",
       "      <td>21.0</td>\n",
       "      <td>1092</td>\n",
       "    </tr>\n",
       "  </tbody>\n",
       "</table>\n",
       "</div>"
      ],
      "text/plain": [
       "     Pclass  Sex  SibSp  Parch  Embarked  Age_1  Title  Age_2  PassengerId\n",
       "97        3    1      0      0         1   29.0      1   29.0          989\n",
       "200       3    0      0      0         3   27.0      2   21.0         1092"
      ]
     },
     "metadata": {},
     "output_type": "display_data"
    },
    {
     "data": {
      "text/html": [
       "<div>\n",
       "<style scoped>\n",
       "    .dataframe tbody tr th:only-of-type {\n",
       "        vertical-align: middle;\n",
       "    }\n",
       "\n",
       "    .dataframe tbody tr th {\n",
       "        vertical-align: top;\n",
       "    }\n",
       "\n",
       "    .dataframe thead th {\n",
       "        text-align: right;\n",
       "    }\n",
       "</style>\n",
       "<table border=\"1\" class=\"dataframe\">\n",
       "  <thead>\n",
       "    <tr style=\"text-align: right;\">\n",
       "      <th></th>\n",
       "      <th>Pclass</th>\n",
       "      <th>Sex</th>\n",
       "      <th>SibSp</th>\n",
       "      <th>Parch</th>\n",
       "      <th>Embarked</th>\n",
       "      <th>Age_1</th>\n",
       "      <th>Title</th>\n",
       "      <th>Age_2</th>\n",
       "      <th>Survived</th>\n",
       "    </tr>\n",
       "  </thead>\n",
       "  <tbody>\n",
       "    <tr>\n",
       "      <td>639</td>\n",
       "      <td>3</td>\n",
       "      <td>1</td>\n",
       "      <td>1</td>\n",
       "      <td>0</td>\n",
       "      <td>1</td>\n",
       "      <td>28.0</td>\n",
       "      <td>1</td>\n",
       "      <td>32.0</td>\n",
       "      <td>0</td>\n",
       "    </tr>\n",
       "    <tr>\n",
       "      <td>409</td>\n",
       "      <td>3</td>\n",
       "      <td>0</td>\n",
       "      <td>3</td>\n",
       "      <td>1</td>\n",
       "      <td>1</td>\n",
       "      <td>28.0</td>\n",
       "      <td>2</td>\n",
       "      <td>21.0</td>\n",
       "      <td>0</td>\n",
       "    </tr>\n",
       "  </tbody>\n",
       "</table>\n",
       "</div>"
      ],
      "text/plain": [
       "     Pclass  Sex  SibSp  Parch  Embarked  Age_1  Title  Age_2  Survived\n",
       "639       3    1      1      0         1   28.0      1   32.0         0\n",
       "409       3    0      3      1         1   28.0      2   21.0         0"
      ]
     },
     "metadata": {},
     "output_type": "display_data"
    }
   ],
   "source": [
    "from IPython.display import display\n",
    "display(test.sample(2))\n",
    "display(train.sample(2))"
   ]
  },
  {
   "cell_type": "markdown",
   "metadata": {},
   "source": [
    "## 6) Modeling"
   ]
  },
  {
   "cell_type": "markdown",
   "metadata": {},
   "source": [
    "### +) DATA set split"
   ]
  },
  {
   "cell_type": "code",
   "execution_count": 311,
   "metadata": {
    "scrolled": false
   },
   "outputs": [
    {
     "name": "stdout",
     "output_type": "stream",
     "text": [
      "Index(['Pclass', 'Sex', 'SibSp', 'Parch', 'Embarked', 'Age_1', 'Title',\n",
      "       'Age_2', 'Survived'],\n",
      "      dtype='object')\n",
      "Index(['Pclass', 'Sex', 'SibSp', 'Parch', 'Embarked', 'Age_1', 'Title',\n",
      "       'Age_2', 'PassengerId'],\n",
      "      dtype='object')\n"
     ]
    }
   ],
   "source": [
    "print(train.columns)\n",
    "print(test.columns)"
   ]
  },
  {
   "cell_type": "code",
   "execution_count": 312,
   "metadata": {},
   "outputs": [],
   "source": [
    "from sklearn.model_selection import train_test_split\n",
    "\n",
    "predictors = train.drop(['Survived'], axis=1)\n",
    "target = train['Survived']\n",
    "\n",
    "x_train, x_val, y_train, y_val = train_test_split(predictors, target,\n",
    "                                                 test_size=0.22,\n",
    "                                                 random_state=0)"
   ]
  },
  {
   "cell_type": "code",
   "execution_count": 313,
   "metadata": {},
   "outputs": [
    {
     "name": "stdout",
     "output_type": "stream",
     "text": [
      "(694, 8) (694,) (197, 8)\n"
     ]
    }
   ],
   "source": [
    "print(x_train.shape,\n",
    "     y_train.shape,\n",
    "     x_val.shape)"
   ]
  },
  {
   "cell_type": "markdown",
   "metadata": {},
   "source": [
    "### import Libraries"
   ]
  },
  {
   "cell_type": "code",
   "execution_count": 314,
   "metadata": {},
   "outputs": [],
   "source": [
    "# machine learning\n",
    "from sklearn.linear_model import LogisticRegression\n",
    "from sklearn.svm import SVC, LinearSVC\n",
    "from sklearn.ensemble import RandomForestClassifier\n",
    "from sklearn.neighbors import KNeighborsClassifier\n",
    "from sklearn.naive_bayes import GaussianNB\n",
    "from sklearn.linear_model import Perceptron\n",
    "from sklearn.linear_model import SGDClassifier\n",
    "from sklearn.tree import DecisionTreeClassifier"
   ]
  },
  {
   "cell_type": "code",
   "execution_count": 315,
   "metadata": {},
   "outputs": [],
   "source": [
    "# model evaluation\n",
    "from sklearn.model_selection import train_test_split\n",
    "from sklearn.model_selection import cross_val_score\n",
    "from sklearn import metrics\n",
    "from sklearn.metrics import log_loss"
   ]
  },
  {
   "cell_type": "markdown",
   "metadata": {},
   "source": [
    "## 6-1) Logistic Regression"
   ]
  },
  {
   "cell_type": "markdown",
   "metadata": {},
   "source": [
    "## -1) train-test split 기반 평가"
   ]
  },
  {
   "cell_type": "code",
   "execution_count": 316,
   "metadata": {
    "scrolled": true
   },
   "outputs": [],
   "source": [
    "# Logistic Regression\n",
    "\n",
    "logreg = LogisticRegression()\n",
    "logreg.fit(x_train, y_train)\n",
    "\n",
    "y_pred = logreg.predict(x_val)\n",
    "\n",
    "acc_log = accuracy_score(y_val, y_pred)\n",
    "loss_log = log_loss(y_val, y_pred)\n",
    "auc_log = metrics.roc_auc_score(y_val, y_pred)"
   ]
  },
  {
   "cell_type": "code",
   "execution_count": 317,
   "metadata": {
    "scrolled": true
   },
   "outputs": [
    {
     "name": "stdout",
     "output_type": "stream",
     "text": [
      "0.7868020304568528 7.363694410784636 0.7799381352187361\n"
     ]
    }
   ],
   "source": [
    "print(acc_log,\n",
    "     loss_log,\n",
    "     auc_log)"
   ]
  },
  {
   "cell_type": "markdown",
   "metadata": {},
   "source": [
    "## -2) K-fold cross validation 기반 평가"
   ]
  },
  {
   "cell_type": "code",
   "execution_count": 318,
   "metadata": {},
   "outputs": [],
   "source": [
    "logreg = LogisticRegression()\n",
    "\n",
    "x = train.drop(['Survived'], axis=1)\n",
    "y = train['Survived']\n",
    "\n",
    "scores_accuracy = cross_val_score(logreg, x, y, cv=10, scoring='accuracy')\n",
    "scores_log_loss = cross_val_score(logreg, x, y, cv=10, scoring='neg_log_loss')\n",
    "scores_auc = cross_val_score(logreg, x, y, cv=10, scoring='roc_auc')\n",
    "\n",
    "acc_log = scores_accuracy.mean()\n",
    "loss_log = -scores_log_loss.mean()\n",
    "auc_log = scores_auc.mean()"
   ]
  },
  {
   "cell_type": "code",
   "execution_count": 319,
   "metadata": {},
   "outputs": [
    {
     "name": "stdout",
     "output_type": "stream",
     "text": [
      "0.8159002950856884 0.43813168003477143 0.8644934357581416\n"
     ]
    }
   ],
   "source": [
    "print(acc_log,\n",
    "     loss_log,\n",
    "     auc_log)"
   ]
  },
  {
   "cell_type": "markdown",
   "metadata": {},
   "source": [
    "### Coefficient 확인가능"
   ]
  },
  {
   "cell_type": "code",
   "execution_count": 320,
   "metadata": {},
   "outputs": [
    {
     "data": {
      "text/plain": [
       "array([[-0.9071381 , -1.91306831, -0.49246015, -0.11110773,  0.2477078 ,\n",
       "         0.03351904,  0.59020806, -0.06726673]])"
      ]
     },
     "execution_count": 320,
     "metadata": {},
     "output_type": "execute_result"
    }
   ],
   "source": [
    "logreg = LogisticRegression()\n",
    "logreg.fit(x_train, y_train)\n",
    "logreg.coef_"
   ]
  },
  {
   "cell_type": "code",
   "execution_count": 321,
   "metadata": {},
   "outputs": [
    {
     "data": {
      "text/html": [
       "<div>\n",
       "<style scoped>\n",
       "    .dataframe tbody tr th:only-of-type {\n",
       "        vertical-align: middle;\n",
       "    }\n",
       "\n",
       "    .dataframe tbody tr th {\n",
       "        vertical-align: top;\n",
       "    }\n",
       "\n",
       "    .dataframe thead th {\n",
       "        text-align: right;\n",
       "    }\n",
       "</style>\n",
       "<table border=\"1\" class=\"dataframe\">\n",
       "  <thead>\n",
       "    <tr style=\"text-align: right;\">\n",
       "      <th></th>\n",
       "      <th>Feature</th>\n",
       "      <th>Correlation</th>\n",
       "    </tr>\n",
       "  </thead>\n",
       "  <tbody>\n",
       "    <tr>\n",
       "      <td>6</td>\n",
       "      <td>Age_2</td>\n",
       "      <td>0.590208</td>\n",
       "    </tr>\n",
       "    <tr>\n",
       "      <td>4</td>\n",
       "      <td>Age_1</td>\n",
       "      <td>0.247708</td>\n",
       "    </tr>\n",
       "    <tr>\n",
       "      <td>5</td>\n",
       "      <td>Title</td>\n",
       "      <td>0.033519</td>\n",
       "    </tr>\n",
       "    <tr>\n",
       "      <td>7</td>\n",
       "      <td>Survived</td>\n",
       "      <td>-0.067267</td>\n",
       "    </tr>\n",
       "    <tr>\n",
       "      <td>3</td>\n",
       "      <td>Embarked</td>\n",
       "      <td>-0.111108</td>\n",
       "    </tr>\n",
       "    <tr>\n",
       "      <td>2</td>\n",
       "      <td>Parch</td>\n",
       "      <td>-0.492460</td>\n",
       "    </tr>\n",
       "    <tr>\n",
       "      <td>0</td>\n",
       "      <td>Sex</td>\n",
       "      <td>-0.907138</td>\n",
       "    </tr>\n",
       "    <tr>\n",
       "      <td>1</td>\n",
       "      <td>SibSp</td>\n",
       "      <td>-1.913068</td>\n",
       "    </tr>\n",
       "  </tbody>\n",
       "</table>\n",
       "</div>"
      ],
      "text/plain": [
       "    Feature  Correlation\n",
       "6     Age_2     0.590208\n",
       "4     Age_1     0.247708\n",
       "5     Title     0.033519\n",
       "7  Survived    -0.067267\n",
       "3  Embarked    -0.111108\n",
       "2     Parch    -0.492460\n",
       "0       Sex    -0.907138\n",
       "1     SibSp    -1.913068"
      ]
     },
     "execution_count": 321,
     "metadata": {},
     "output_type": "execute_result"
    }
   ],
   "source": [
    "coeff_df = pd.DataFrame(train.columns.delete(0))\n",
    "coeff_df.columns = ['Feature']\n",
    "coeff_df['Correlation'] = pd.Series(logreg.coef_[0])\n",
    "\n",
    "coeff_df.sort_values(by='Correlation', ascending=False)"
   ]
  },
  {
   "cell_type": "markdown",
   "metadata": {},
   "source": [
    "성별, Title 이 Y값에 유의미한 영향  \n",
    "(해석할 때 1이 뭔지, 0이 뭔지 파악 중요)"
   ]
  },
  {
   "cell_type": "markdown",
   "metadata": {},
   "source": [
    "## 6-2) SVM"
   ]
  },
  {
   "cell_type": "code",
   "execution_count": 322,
   "metadata": {},
   "outputs": [
    {
     "data": {
      "text/plain": [
       "87.18"
      ]
     },
     "execution_count": 322,
     "metadata": {},
     "output_type": "execute_result"
    }
   ],
   "source": [
    "# Support Vector Machines\n",
    "\n",
    "svc = SVC()\n",
    "svc.fit(x_train, y_train)\n",
    "y_pred = svc.predict(x_val)\n",
    "\n",
    "acc_svc = round(svc.score(x_train, y_train) * 100, 2)\n",
    "acc_svc"
   ]
  },
  {
   "cell_type": "code",
   "execution_count": 323,
   "metadata": {},
   "outputs": [],
   "source": [
    "# https://tensorflow.blog/tag/cross_val_score/\n",
    "# 교차 검증 방법\n",
    "svc = SVC(probability=True)\n",
    "\n",
    "# scoring = {'accuracy', 'neg_log_loss', 'roc_auc'} for evaluation metric - althought they are many\n",
    "scores_accuracy = cross_val_score(svc, x, y, cv=10, scoring='accuracy')\n",
    "scores_log_loss = cross_val_score(svc, x, y, cv=10, scoring='neg_log_loss')\n",
    "scores_auc = cross_val_score(svc, x, y, cv=10, scoring='roc_auc')\n",
    "\n",
    "acc_svm = scores_accuracy.mean()\n",
    "loss_svm = -scores_log_loss.mean()\n",
    "auc_svm = scores_auc.mean()"
   ]
  },
  {
   "cell_type": "code",
   "execution_count": 324,
   "metadata": {},
   "outputs": [],
   "source": [
    "# sc = StandardScaler()\n",
    "# sc.fit(x_train) # x_train의 평균과 표준편차 구함\n",
    "# x_train_std = sc.transform(x_train)\n",
    "# x_val_std = sc.transform(x_val)"
   ]
  },
  {
   "cell_type": "markdown",
   "metadata": {},
   "source": [
    "## 6-2-2) SVM with rbf kernel"
   ]
  },
  {
   "cell_type": "code",
   "execution_count": 328,
   "metadata": {},
   "outputs": [
    {
     "data": {
      "text/plain": [
       "92.65"
      ]
     },
     "execution_count": 328,
     "metadata": {},
     "output_type": "execute_result"
    }
   ],
   "source": [
    "svc_rbf = SVC(kernel='rbf', C=10.0, gamma='auto', random_state=0) # gamma변경 가능\n",
    "svc_rbf.fit(x_train, y_train)\n",
    "y_pred = svc_rbf.predict(x_val)\n",
    "\n",
    "acc_svc_rbf = round(svc_rbf.score(x_train, y_train) * 100, 2)\n",
    "acc_svc_rbf"
   ]
  },
  {
   "cell_type": "code",
   "execution_count": 330,
   "metadata": {},
   "outputs": [],
   "source": [
    "# https://tensorflow.blog/tag/cross_val_score/\n",
    "# 교차 검증 방법\n",
    "svc_rbf = SVC(kernel='rbf', C=10.0, gamma='auto', random_state=0,\n",
    "             probability=True)\n",
    "\n",
    "# scoring = {'accuracy', 'neg_log_loss', 'roc_auc'} for evaluation metric - althought they are many\n",
    "scores_accuracy = cross_val_score(svc_rbf, x, y, cv=10, scoring='accuracy')\n",
    "scores_log_loss = cross_val_score(svc_rbf, x, y, cv=10, scoring='neg_log_loss')\n",
    "scores_auc = cross_val_score(svc_rbf, x, y, cv=10, scoring='roc_auc')\n",
    "\n",
    "acc_svm_rbf = scores_accuracy.mean()\n",
    "loss_svm_rbf = -scores_log_loss.mean()\n",
    "auc_svm_rbf = scores_auc.mean()"
   ]
  },
  {
   "cell_type": "markdown",
   "metadata": {},
   "source": [
    "## 6-3) KNN"
   ]
  },
  {
   "cell_type": "code",
   "execution_count": 331,
   "metadata": {},
   "outputs": [
    {
     "data": {
      "text/plain": [
       "82.71"
      ]
     },
     "execution_count": 331,
     "metadata": {},
     "output_type": "execute_result"
    }
   ],
   "source": [
    "knn = KNeighborsClassifier(n_neighbors=3)\n",
    "knn.fit(x_train, y_train)\n",
    "y_pred = knn.predict(x_val)\n",
    "acc_knn = round(knn.score(x_train, y_train)*100, 2)\n",
    "acc_knn"
   ]
  },
  {
   "cell_type": "code",
   "execution_count": 332,
   "metadata": {},
   "outputs": [],
   "source": [
    "# 교차 검증 방법\n",
    "knn = KNeighborsClassifier(n_neighbors=3)\n",
    "\n",
    "# scoring = {'accuracy', 'neg_log_loss', 'roc_auc'} for evaluation metric - althought they are many\n",
    "scores_accuracy = cross_val_score(knn, x, y, cv=10, scoring='accuracy')\n",
    "scores_log_loss = cross_val_score(knn, x, y, cv=10, scoring='neg_log_loss')\n",
    "scores_auc = cross_val_score(knn, x, y, cv=10, scoring='roc_auc')\n",
    "\n",
    "acc_svm_rbf = scores_accuracy.mean()\n",
    "loss_svm_rbf = -scores_log_loss.mean()\n",
    "auc_svm_rbf = scores_auc.mean()"
   ]
  },
  {
   "cell_type": "markdown",
   "metadata": {},
   "source": [
    "## 6-4) Gaussian Naive Bayes"
   ]
  },
  {
   "cell_type": "code",
   "execution_count": null,
   "metadata": {},
   "outputs": [],
   "source": [
    "# Gaussian Naive Bayes\n",
    "\n",
    "gaussian = GaussianNB()\n",
    "gaussian.fit(X_train, Y_train)\n",
    "Y_pred = gaussian.predict(X_test)\n",
    "acc_gaussian = round(gaussian.score(X_train, Y_train) * 100, 2)\n",
    "acc_gaussian"
   ]
  },
  {
   "cell_type": "markdown",
   "metadata": {},
   "source": [
    "## 6-5) Decision Tree"
   ]
  },
  {
   "cell_type": "code",
   "execution_count": 340,
   "metadata": {},
   "outputs": [],
   "source": [
    "# from sklearn.model_selection import GridSearchCV"
   ]
  },
  {
   "cell_type": "code",
   "execution_count": 343,
   "metadata": {},
   "outputs": [],
   "source": [
    "# Train_Test_split"
   ]
  },
  {
   "cell_type": "code",
   "execution_count": 345,
   "metadata": {},
   "outputs": [
    {
     "data": {
      "text/plain": [
       "94.81"
      ]
     },
     "execution_count": 345,
     "metadata": {},
     "output_type": "execute_result"
    }
   ],
   "source": [
    "decision_tree = DecisionTreeClassifier()\n",
    "decision_tree.fit(x_train, y_train)\n",
    "y_val = decision_tree.predict(x_val)\n",
    "acc_decision_tree = round(decision_tree.score(x_train, y_train) * 100, 2)\n",
    "acc_decision_tree"
   ]
  },
  {
   "cell_type": "markdown",
   "metadata": {},
   "source": [
    "### GridSearchCV + DT"
   ]
  },
  {
   "cell_type": "code",
   "execution_count": 348,
   "metadata": {},
   "outputs": [
    {
     "name": "stdout",
     "output_type": "stream",
     "text": [
      "최적 하이퍼 파라미터: {'max_depth': 8}\n",
      "최고 예측 정확도: 0.7997118155619597\n"
     ]
    }
   ],
   "source": [
    "# Decision Tree\n",
    "\n",
    "params = {\n",
    "#     'n_estimators' : [100, 300, 500],\n",
    "    'max_depth' : [2,4,6,8],\n",
    "#     'min_sample_leaf' : [2,4,6],\n",
    "#     'min_sample_split' : [2,4,6]\n",
    "}\n",
    "\n",
    "decision_tree = DecisionTreeClassifier(random_state=0)\n",
    "grid_cv = GridSearchCV(decision_tree,\n",
    "                      param_grid=params, cv=2)\n",
    "grid_cv.fit(x_train, y_train)\n",
    "\n",
    "print('최적 하이퍼 파라미터:', grid_cv.best_params_)\n",
    "print('최고 예측 정확도:', grid_cv.best_score_)"
   ]
  },
  {
   "cell_type": "markdown",
   "metadata": {},
   "source": [
    "## 6-6) Random Forest"
   ]
  },
  {
   "cell_type": "markdown",
   "metadata": {},
   "source": [
    "### GridSearchCV + Random Forest\n",
    "hyper parameter 찾아줌"
   ]
  },
  {
   "cell_type": "code",
   "execution_count": 334,
   "metadata": {
    "scrolled": true
   },
   "outputs": [],
   "source": [
    "from sklearn.model_selection import GridSearchCV"
   ]
  },
  {
   "cell_type": "code",
   "execution_count": 339,
   "metadata": {},
   "outputs": [
    {
     "name": "stdout",
     "output_type": "stream",
     "text": [
      "최적 하이퍼 파라미터: {'max_depth': 6, 'n_estimators': 100}\n",
      "최고 예측 정확도: 0.8227665706051873\n"
     ]
    }
   ],
   "source": [
    "params = {\n",
    "    'n_estimators' : [100, 300, 500],\n",
    "    'max_depth' : [2,4,6,8],\n",
    "#     'min_sample_leaf' : [2,4,6],\n",
    "#     'min_sample_split' : [2,4,6]\n",
    "}\n",
    "\n",
    "rf_clf = RandomForestClassifier(random_state=0, n_jobs=-1)\n",
    "grid_cv = GridSearchCV(rf_clf, param_grid= params, cv=2, n_jobs=-1)\n",
    "grid_cv.fit(x_train, y_train)\n",
    "\n",
    "print('최적 하이퍼 파라미터:', grid_cv.best_params_)\n",
    "print('최고 예측 정확도:', grid_cv.best_score_)"
   ]
  },
  {
   "cell_type": "code",
   "execution_count": 352,
   "metadata": {},
   "outputs": [
    {
     "name": "stdout",
     "output_type": "stream",
     "text": [
      "최적 하이퍼 파라미터: {'max_depth': 6, 'n_estimators': 100}\n",
      "최고 예측 정확도: 0.8227665706051873\n"
     ]
    }
   ],
   "source": [
    "params = {\n",
    "    'n_estimators' : [100, 300, 500],\n",
    "    'max_depth' : [2,4,6,8],\n",
    "#     'min_sample_leaf' : [2,4,6],\n",
    "#     'min_sample_split' : [2,4,6]\n",
    "}\n",
    "\n",
    "rf_clf = RandomForestClassifier(random_state=0, n_jobs=-1)\n",
    "grid_cv = GridSearchCV(rf_clf, param_grid= params, cv=2, n_jobs=-1)\n",
    "grid_cv.fit(x_train, y_train)\n",
    "\n",
    "print('최적 하이퍼 파라미터:', grid_cv.best_params_)\n",
    "print('최고 예측 정확도:', grid_cv.best_score_)"
   ]
  },
  {
   "cell_type": "code",
   "execution_count": 355,
   "metadata": {},
   "outputs": [
    {
     "name": "stdout",
     "output_type": "stream",
     "text": [
      "최적 하이퍼 파라미터: {'max_depth': 6, 'n_estimators': 100}\n",
      "최고 예측 정확도: 0.8227665706051873\n"
     ]
    }
   ],
   "source": [
    "params = {\n",
    "    'n_estimators' : [100, 300, 500],\n",
    "    'max_depth' : [2,4,6,8],\n",
    "#     'min_sample_leaf' : [2,4,6],\n",
    "#     'min_sample_split' : [2,4,6]\n",
    "}\n",
    "\n",
    "scoring = {'Accuracy': 'accuracy', 'AUC': 'roc_auc', 'Log_loss': 'neg_log_loss'}\n",
    "\n",
    "rf_clf = RandomForestClassifier(random_state=0)\n",
    "grid_cv = GridSearchCV(rf_clf,\n",
    "                       param_grid= params,\n",
    "                       scoring=scoring,\n",
    "                       cv=2, n_jobs=2, \n",
    "                       refit='Accuracy') # 여러개 일 경우 1개 지정 \n",
    "grid_cv.fit(x_train, y_train)\n",
    "\n",
    "results = grid_cv.cv_results_\n",
    "\n",
    "print('최적 하이퍼 파라미터:', grid_cv.best_params_)\n",
    "print('최고 예측 정확도:', grid_cv.best_score_)"
   ]
  },
  {
   "cell_type": "code",
   "execution_count": 359,
   "metadata": {
    "scrolled": true
   },
   "outputs": [
    {
     "data": {
      "text/html": [
       "<div>\n",
       "<style scoped>\n",
       "    .dataframe tbody tr th:only-of-type {\n",
       "        vertical-align: middle;\n",
       "    }\n",
       "\n",
       "    .dataframe tbody tr th {\n",
       "        vertical-align: top;\n",
       "    }\n",
       "\n",
       "    .dataframe thead th {\n",
       "        text-align: right;\n",
       "    }\n",
       "</style>\n",
       "<table border=\"1\" class=\"dataframe\">\n",
       "  <thead>\n",
       "    <tr style=\"text-align: right;\">\n",
       "      <th></th>\n",
       "      <th>0</th>\n",
       "      <th>1</th>\n",
       "      <th>2</th>\n",
       "      <th>3</th>\n",
       "      <th>4</th>\n",
       "      <th>5</th>\n",
       "      <th>6</th>\n",
       "      <th>7</th>\n",
       "      <th>8</th>\n",
       "      <th>9</th>\n",
       "      <th>10</th>\n",
       "      <th>11</th>\n",
       "    </tr>\n",
       "  </thead>\n",
       "  <tbody>\n",
       "    <tr>\n",
       "      <td>mean_fit_time</td>\n",
       "      <td>0.089</td>\n",
       "      <td>0.261</td>\n",
       "      <td>0.358</td>\n",
       "      <td>0.0745</td>\n",
       "      <td>0.262</td>\n",
       "      <td>0.4035</td>\n",
       "      <td>0.089</td>\n",
       "      <td>0.5255</td>\n",
       "      <td>0.4285</td>\n",
       "      <td>0.086</td>\n",
       "      <td>0.2605</td>\n",
       "      <td>0.44</td>\n",
       "    </tr>\n",
       "    <tr>\n",
       "      <td>std_fit_time</td>\n",
       "      <td>0.000999928</td>\n",
       "      <td>0.0139999</td>\n",
       "      <td>0.0140001</td>\n",
       "      <td>0.000499845</td>\n",
       "      <td>1.19209e-07</td>\n",
       "      <td>0.00150013</td>\n",
       "      <td>0.00200009</td>\n",
       "      <td>0.0295</td>\n",
       "      <td>0.0145</td>\n",
       "      <td>0.00300002</td>\n",
       "      <td>0.00349998</td>\n",
       "      <td>0.00300002</td>\n",
       "    </tr>\n",
       "    <tr>\n",
       "      <td>mean_score_time</td>\n",
       "      <td>0.0404999</td>\n",
       "      <td>0.0955</td>\n",
       "      <td>0.1175</td>\n",
       "      <td>0.0285001</td>\n",
       "      <td>0.0850002</td>\n",
       "      <td>0.1475</td>\n",
       "      <td>0.0585001</td>\n",
       "      <td>0.1925</td>\n",
       "      <td>0.1505</td>\n",
       "      <td>0.0310001</td>\n",
       "      <td>0.0880001</td>\n",
       "      <td>0.1635</td>\n",
       "    </tr>\n",
       "    <tr>\n",
       "      <td>std_score_time</td>\n",
       "      <td>0.000499964</td>\n",
       "      <td>0.000499964</td>\n",
       "      <td>0.000499964</td>\n",
       "      <td>0.000499964</td>\n",
       "      <td>0.00100005</td>\n",
       "      <td>0.00149989</td>\n",
       "      <td>0.000499964</td>\n",
       "      <td>0.00449991</td>\n",
       "      <td>0.000499845</td>\n",
       "      <td>0</td>\n",
       "      <td>0.000999928</td>\n",
       "      <td>0.000500083</td>\n",
       "    </tr>\n",
       "    <tr>\n",
       "      <td>param_max_depth</td>\n",
       "      <td>2</td>\n",
       "      <td>2</td>\n",
       "      <td>2</td>\n",
       "      <td>4</td>\n",
       "      <td>4</td>\n",
       "      <td>4</td>\n",
       "      <td>6</td>\n",
       "      <td>6</td>\n",
       "      <td>6</td>\n",
       "      <td>8</td>\n",
       "      <td>8</td>\n",
       "      <td>8</td>\n",
       "    </tr>\n",
       "    <tr>\n",
       "      <td>param_n_estimators</td>\n",
       "      <td>100</td>\n",
       "      <td>300</td>\n",
       "      <td>500</td>\n",
       "      <td>100</td>\n",
       "      <td>300</td>\n",
       "      <td>500</td>\n",
       "      <td>100</td>\n",
       "      <td>300</td>\n",
       "      <td>500</td>\n",
       "      <td>100</td>\n",
       "      <td>300</td>\n",
       "      <td>500</td>\n",
       "    </tr>\n",
       "    <tr>\n",
       "      <td>params</td>\n",
       "      <td>{'max_depth': 2, 'n_estimators': 100}</td>\n",
       "      <td>{'max_depth': 2, 'n_estimators': 300}</td>\n",
       "      <td>{'max_depth': 2, 'n_estimators': 500}</td>\n",
       "      <td>{'max_depth': 4, 'n_estimators': 100}</td>\n",
       "      <td>{'max_depth': 4, 'n_estimators': 300}</td>\n",
       "      <td>{'max_depth': 4, 'n_estimators': 500}</td>\n",
       "      <td>{'max_depth': 6, 'n_estimators': 100}</td>\n",
       "      <td>{'max_depth': 6, 'n_estimators': 300}</td>\n",
       "      <td>{'max_depth': 6, 'n_estimators': 500}</td>\n",
       "      <td>{'max_depth': 8, 'n_estimators': 100}</td>\n",
       "      <td>{'max_depth': 8, 'n_estimators': 300}</td>\n",
       "      <td>{'max_depth': 8, 'n_estimators': 500}</td>\n",
       "    </tr>\n",
       "    <tr>\n",
       "      <td>split0_test_Accuracy</td>\n",
       "      <td>0.787356</td>\n",
       "      <td>0.781609</td>\n",
       "      <td>0.784483</td>\n",
       "      <td>0.798851</td>\n",
       "      <td>0.793103</td>\n",
       "      <td>0.798851</td>\n",
       "      <td>0.816092</td>\n",
       "      <td>0.816092</td>\n",
       "      <td>0.813218</td>\n",
       "      <td>0.807471</td>\n",
       "      <td>0.804598</td>\n",
       "      <td>0.804598</td>\n",
       "    </tr>\n",
       "    <tr>\n",
       "      <td>split1_test_Accuracy</td>\n",
       "      <td>0.82948</td>\n",
       "      <td>0.83237</td>\n",
       "      <td>0.82948</td>\n",
       "      <td>0.820809</td>\n",
       "      <td>0.823699</td>\n",
       "      <td>0.82659</td>\n",
       "      <td>0.82948</td>\n",
       "      <td>0.82659</td>\n",
       "      <td>0.823699</td>\n",
       "      <td>0.812139</td>\n",
       "      <td>0.817919</td>\n",
       "      <td>0.823699</td>\n",
       "    </tr>\n",
       "    <tr>\n",
       "      <td>mean_test_Accuracy</td>\n",
       "      <td>0.808357</td>\n",
       "      <td>0.806916</td>\n",
       "      <td>0.806916</td>\n",
       "      <td>0.809798</td>\n",
       "      <td>0.808357</td>\n",
       "      <td>0.81268</td>\n",
       "      <td>0.822767</td>\n",
       "      <td>0.821326</td>\n",
       "      <td>0.818444</td>\n",
       "      <td>0.809798</td>\n",
       "      <td>0.811239</td>\n",
       "      <td>0.814121</td>\n",
       "    </tr>\n",
       "    <tr>\n",
       "      <td>std_test_Accuracy</td>\n",
       "      <td>0.0210616</td>\n",
       "      <td>0.0253803</td>\n",
       "      <td>0.0224984</td>\n",
       "      <td>0.0109793</td>\n",
       "      <td>0.0152979</td>\n",
       "      <td>0.0138695</td>\n",
       "      <td>0.00669388</td>\n",
       "      <td>0.0052488</td>\n",
       "      <td>0.00524049</td>\n",
       "      <td>0.00233372</td>\n",
       "      <td>0.00666066</td>\n",
       "      <td>0.00955082</td>\n",
       "    </tr>\n",
       "    <tr>\n",
       "      <td>rank_test_Accuracy</td>\n",
       "      <td>9</td>\n",
       "      <td>11</td>\n",
       "      <td>11</td>\n",
       "      <td>7</td>\n",
       "      <td>9</td>\n",
       "      <td>5</td>\n",
       "      <td>1</td>\n",
       "      <td>2</td>\n",
       "      <td>3</td>\n",
       "      <td>7</td>\n",
       "      <td>6</td>\n",
       "      <td>4</td>\n",
       "    </tr>\n",
       "    <tr>\n",
       "      <td>split0_test_AUC</td>\n",
       "      <td>0.84201</td>\n",
       "      <td>0.842462</td>\n",
       "      <td>0.842879</td>\n",
       "      <td>0.850965</td>\n",
       "      <td>0.853417</td>\n",
       "      <td>0.853591</td>\n",
       "      <td>0.845157</td>\n",
       "      <td>0.846583</td>\n",
       "      <td>0.848844</td>\n",
       "      <td>0.837959</td>\n",
       "      <td>0.842532</td>\n",
       "      <td>0.841523</td>\n",
       "    </tr>\n",
       "    <tr>\n",
       "      <td>split1_test_AUC</td>\n",
       "      <td>0.84566</td>\n",
       "      <td>0.843108</td>\n",
       "      <td>0.842932</td>\n",
       "      <td>0.860585</td>\n",
       "      <td>0.859195</td>\n",
       "      <td>0.858051</td>\n",
       "      <td>0.862204</td>\n",
       "      <td>0.858191</td>\n",
       "      <td>0.858579</td>\n",
       "      <td>0.847015</td>\n",
       "      <td>0.846751</td>\n",
       "      <td>0.844586</td>\n",
       "    </tr>\n",
       "    <tr>\n",
       "      <td>mean_test_AUC</td>\n",
       "      <td>0.84383</td>\n",
       "      <td>0.842784</td>\n",
       "      <td>0.842905</td>\n",
       "      <td>0.855761</td>\n",
       "      <td>0.856297</td>\n",
       "      <td>0.855814</td>\n",
       "      <td>0.853656</td>\n",
       "      <td>0.852371</td>\n",
       "      <td>0.853697</td>\n",
       "      <td>0.842474</td>\n",
       "      <td>0.844635</td>\n",
       "      <td>0.84305</td>\n",
       "    </tr>\n",
       "    <tr>\n",
       "      <td>std_test_AUC</td>\n",
       "      <td>0.00182479</td>\n",
       "      <td>0.000322696</td>\n",
       "      <td>2.60346e-05</td>\n",
       "      <td>0.00480998</td>\n",
       "      <td>0.00288889</td>\n",
       "      <td>0.00222993</td>\n",
       "      <td>0.00852344</td>\n",
       "      <td>0.00580405</td>\n",
       "      <td>0.00486742</td>\n",
       "      <td>0.00452814</td>\n",
       "      <td>0.00210958</td>\n",
       "      <td>0.0015314</td>\n",
       "    </tr>\n",
       "    <tr>\n",
       "      <td>rank_test_AUC</td>\n",
       "      <td>8</td>\n",
       "      <td>11</td>\n",
       "      <td>10</td>\n",
       "      <td>3</td>\n",
       "      <td>1</td>\n",
       "      <td>2</td>\n",
       "      <td>5</td>\n",
       "      <td>6</td>\n",
       "      <td>4</td>\n",
       "      <td>12</td>\n",
       "      <td>7</td>\n",
       "      <td>9</td>\n",
       "    </tr>\n",
       "    <tr>\n",
       "      <td>split0_test_Log_loss</td>\n",
       "      <td>-0.497334</td>\n",
       "      <td>-0.497773</td>\n",
       "      <td>-0.495078</td>\n",
       "      <td>-0.458882</td>\n",
       "      <td>-0.455709</td>\n",
       "      <td>-0.454095</td>\n",
       "      <td>-0.453016</td>\n",
       "      <td>-0.453751</td>\n",
       "      <td>-0.450771</td>\n",
       "      <td>-0.476909</td>\n",
       "      <td>-0.470629</td>\n",
       "      <td>-0.470691</td>\n",
       "    </tr>\n",
       "    <tr>\n",
       "      <td>split1_test_Log_loss</td>\n",
       "      <td>-0.483774</td>\n",
       "      <td>-0.4908</td>\n",
       "      <td>-0.486767</td>\n",
       "      <td>-0.445764</td>\n",
       "      <td>-0.446826</td>\n",
       "      <td>-0.44612</td>\n",
       "      <td>-0.438361</td>\n",
       "      <td>-0.442842</td>\n",
       "      <td>-0.443518</td>\n",
       "      <td>-0.468541</td>\n",
       "      <td>-0.464256</td>\n",
       "      <td>-0.464576</td>\n",
       "    </tr>\n",
       "    <tr>\n",
       "      <td>mean_test_Log_loss</td>\n",
       "      <td>-0.490574</td>\n",
       "      <td>-0.494297</td>\n",
       "      <td>-0.490934</td>\n",
       "      <td>-0.452342</td>\n",
       "      <td>-0.45128</td>\n",
       "      <td>-0.450119</td>\n",
       "      <td>-0.44571</td>\n",
       "      <td>-0.448312</td>\n",
       "      <td>-0.447155</td>\n",
       "      <td>-0.472737</td>\n",
       "      <td>-0.467452</td>\n",
       "      <td>-0.467642</td>\n",
       "    </tr>\n",
       "    <tr>\n",
       "      <td>std_test_Log_loss</td>\n",
       "      <td>0.00678008</td>\n",
       "      <td>0.00348665</td>\n",
       "      <td>0.00415525</td>\n",
       "      <td>0.00655909</td>\n",
       "      <td>0.00444118</td>\n",
       "      <td>0.00398784</td>\n",
       "      <td>0.00732743</td>\n",
       "      <td>0.00545463</td>\n",
       "      <td>0.00362632</td>\n",
       "      <td>0.00418373</td>\n",
       "      <td>0.00318632</td>\n",
       "      <td>0.00305738</td>\n",
       "    </tr>\n",
       "    <tr>\n",
       "      <td>rank_test_Log_loss</td>\n",
       "      <td>10</td>\n",
       "      <td>12</td>\n",
       "      <td>11</td>\n",
       "      <td>6</td>\n",
       "      <td>5</td>\n",
       "      <td>4</td>\n",
       "      <td>1</td>\n",
       "      <td>3</td>\n",
       "      <td>2</td>\n",
       "      <td>9</td>\n",
       "      <td>7</td>\n",
       "      <td>8</td>\n",
       "    </tr>\n",
       "  </tbody>\n",
       "</table>\n",
       "</div>"
      ],
      "text/plain": [
       "                                                          0  \\\n",
       "mean_fit_time                                         0.089   \n",
       "std_fit_time                                    0.000999928   \n",
       "mean_score_time                                   0.0404999   \n",
       "std_score_time                                  0.000499964   \n",
       "param_max_depth                                           2   \n",
       "param_n_estimators                                      100   \n",
       "params                {'max_depth': 2, 'n_estimators': 100}   \n",
       "split0_test_Accuracy                               0.787356   \n",
       "split1_test_Accuracy                                0.82948   \n",
       "mean_test_Accuracy                                 0.808357   \n",
       "std_test_Accuracy                                 0.0210616   \n",
       "rank_test_Accuracy                                        9   \n",
       "split0_test_AUC                                     0.84201   \n",
       "split1_test_AUC                                     0.84566   \n",
       "mean_test_AUC                                       0.84383   \n",
       "std_test_AUC                                     0.00182479   \n",
       "rank_test_AUC                                             8   \n",
       "split0_test_Log_loss                              -0.497334   \n",
       "split1_test_Log_loss                              -0.483774   \n",
       "mean_test_Log_loss                                -0.490574   \n",
       "std_test_Log_loss                                0.00678008   \n",
       "rank_test_Log_loss                                       10   \n",
       "\n",
       "                                                          1  \\\n",
       "mean_fit_time                                         0.261   \n",
       "std_fit_time                                      0.0139999   \n",
       "mean_score_time                                      0.0955   \n",
       "std_score_time                                  0.000499964   \n",
       "param_max_depth                                           2   \n",
       "param_n_estimators                                      300   \n",
       "params                {'max_depth': 2, 'n_estimators': 300}   \n",
       "split0_test_Accuracy                               0.781609   \n",
       "split1_test_Accuracy                                0.83237   \n",
       "mean_test_Accuracy                                 0.806916   \n",
       "std_test_Accuracy                                 0.0253803   \n",
       "rank_test_Accuracy                                       11   \n",
       "split0_test_AUC                                    0.842462   \n",
       "split1_test_AUC                                    0.843108   \n",
       "mean_test_AUC                                      0.842784   \n",
       "std_test_AUC                                    0.000322696   \n",
       "rank_test_AUC                                            11   \n",
       "split0_test_Log_loss                              -0.497773   \n",
       "split1_test_Log_loss                                -0.4908   \n",
       "mean_test_Log_loss                                -0.494297   \n",
       "std_test_Log_loss                                0.00348665   \n",
       "rank_test_Log_loss                                       12   \n",
       "\n",
       "                                                          2  \\\n",
       "mean_fit_time                                         0.358   \n",
       "std_fit_time                                      0.0140001   \n",
       "mean_score_time                                      0.1175   \n",
       "std_score_time                                  0.000499964   \n",
       "param_max_depth                                           2   \n",
       "param_n_estimators                                      500   \n",
       "params                {'max_depth': 2, 'n_estimators': 500}   \n",
       "split0_test_Accuracy                               0.784483   \n",
       "split1_test_Accuracy                                0.82948   \n",
       "mean_test_Accuracy                                 0.806916   \n",
       "std_test_Accuracy                                 0.0224984   \n",
       "rank_test_Accuracy                                       11   \n",
       "split0_test_AUC                                    0.842879   \n",
       "split1_test_AUC                                    0.842932   \n",
       "mean_test_AUC                                      0.842905   \n",
       "std_test_AUC                                    2.60346e-05   \n",
       "rank_test_AUC                                            10   \n",
       "split0_test_Log_loss                              -0.495078   \n",
       "split1_test_Log_loss                              -0.486767   \n",
       "mean_test_Log_loss                                -0.490934   \n",
       "std_test_Log_loss                                0.00415525   \n",
       "rank_test_Log_loss                                       11   \n",
       "\n",
       "                                                          3  \\\n",
       "mean_fit_time                                        0.0745   \n",
       "std_fit_time                                    0.000499845   \n",
       "mean_score_time                                   0.0285001   \n",
       "std_score_time                                  0.000499964   \n",
       "param_max_depth                                           4   \n",
       "param_n_estimators                                      100   \n",
       "params                {'max_depth': 4, 'n_estimators': 100}   \n",
       "split0_test_Accuracy                               0.798851   \n",
       "split1_test_Accuracy                               0.820809   \n",
       "mean_test_Accuracy                                 0.809798   \n",
       "std_test_Accuracy                                 0.0109793   \n",
       "rank_test_Accuracy                                        7   \n",
       "split0_test_AUC                                    0.850965   \n",
       "split1_test_AUC                                    0.860585   \n",
       "mean_test_AUC                                      0.855761   \n",
       "std_test_AUC                                     0.00480998   \n",
       "rank_test_AUC                                             3   \n",
       "split0_test_Log_loss                              -0.458882   \n",
       "split1_test_Log_loss                              -0.445764   \n",
       "mean_test_Log_loss                                -0.452342   \n",
       "std_test_Log_loss                                0.00655909   \n",
       "rank_test_Log_loss                                        6   \n",
       "\n",
       "                                                          4  \\\n",
       "mean_fit_time                                         0.262   \n",
       "std_fit_time                                    1.19209e-07   \n",
       "mean_score_time                                   0.0850002   \n",
       "std_score_time                                   0.00100005   \n",
       "param_max_depth                                           4   \n",
       "param_n_estimators                                      300   \n",
       "params                {'max_depth': 4, 'n_estimators': 300}   \n",
       "split0_test_Accuracy                               0.793103   \n",
       "split1_test_Accuracy                               0.823699   \n",
       "mean_test_Accuracy                                 0.808357   \n",
       "std_test_Accuracy                                 0.0152979   \n",
       "rank_test_Accuracy                                        9   \n",
       "split0_test_AUC                                    0.853417   \n",
       "split1_test_AUC                                    0.859195   \n",
       "mean_test_AUC                                      0.856297   \n",
       "std_test_AUC                                     0.00288889   \n",
       "rank_test_AUC                                             1   \n",
       "split0_test_Log_loss                              -0.455709   \n",
       "split1_test_Log_loss                              -0.446826   \n",
       "mean_test_Log_loss                                 -0.45128   \n",
       "std_test_Log_loss                                0.00444118   \n",
       "rank_test_Log_loss                                        5   \n",
       "\n",
       "                                                          5  \\\n",
       "mean_fit_time                                        0.4035   \n",
       "std_fit_time                                     0.00150013   \n",
       "mean_score_time                                      0.1475   \n",
       "std_score_time                                   0.00149989   \n",
       "param_max_depth                                           4   \n",
       "param_n_estimators                                      500   \n",
       "params                {'max_depth': 4, 'n_estimators': 500}   \n",
       "split0_test_Accuracy                               0.798851   \n",
       "split1_test_Accuracy                                0.82659   \n",
       "mean_test_Accuracy                                  0.81268   \n",
       "std_test_Accuracy                                 0.0138695   \n",
       "rank_test_Accuracy                                        5   \n",
       "split0_test_AUC                                    0.853591   \n",
       "split1_test_AUC                                    0.858051   \n",
       "mean_test_AUC                                      0.855814   \n",
       "std_test_AUC                                     0.00222993   \n",
       "rank_test_AUC                                             2   \n",
       "split0_test_Log_loss                              -0.454095   \n",
       "split1_test_Log_loss                               -0.44612   \n",
       "mean_test_Log_loss                                -0.450119   \n",
       "std_test_Log_loss                                0.00398784   \n",
       "rank_test_Log_loss                                        4   \n",
       "\n",
       "                                                          6  \\\n",
       "mean_fit_time                                         0.089   \n",
       "std_fit_time                                     0.00200009   \n",
       "mean_score_time                                   0.0585001   \n",
       "std_score_time                                  0.000499964   \n",
       "param_max_depth                                           6   \n",
       "param_n_estimators                                      100   \n",
       "params                {'max_depth': 6, 'n_estimators': 100}   \n",
       "split0_test_Accuracy                               0.816092   \n",
       "split1_test_Accuracy                                0.82948   \n",
       "mean_test_Accuracy                                 0.822767   \n",
       "std_test_Accuracy                                0.00669388   \n",
       "rank_test_Accuracy                                        1   \n",
       "split0_test_AUC                                    0.845157   \n",
       "split1_test_AUC                                    0.862204   \n",
       "mean_test_AUC                                      0.853656   \n",
       "std_test_AUC                                     0.00852344   \n",
       "rank_test_AUC                                             5   \n",
       "split0_test_Log_loss                              -0.453016   \n",
       "split1_test_Log_loss                              -0.438361   \n",
       "mean_test_Log_loss                                 -0.44571   \n",
       "std_test_Log_loss                                0.00732743   \n",
       "rank_test_Log_loss                                        1   \n",
       "\n",
       "                                                          7  \\\n",
       "mean_fit_time                                        0.5255   \n",
       "std_fit_time                                         0.0295   \n",
       "mean_score_time                                      0.1925   \n",
       "std_score_time                                   0.00449991   \n",
       "param_max_depth                                           6   \n",
       "param_n_estimators                                      300   \n",
       "params                {'max_depth': 6, 'n_estimators': 300}   \n",
       "split0_test_Accuracy                               0.816092   \n",
       "split1_test_Accuracy                                0.82659   \n",
       "mean_test_Accuracy                                 0.821326   \n",
       "std_test_Accuracy                                 0.0052488   \n",
       "rank_test_Accuracy                                        2   \n",
       "split0_test_AUC                                    0.846583   \n",
       "split1_test_AUC                                    0.858191   \n",
       "mean_test_AUC                                      0.852371   \n",
       "std_test_AUC                                     0.00580405   \n",
       "rank_test_AUC                                             6   \n",
       "split0_test_Log_loss                              -0.453751   \n",
       "split1_test_Log_loss                              -0.442842   \n",
       "mean_test_Log_loss                                -0.448312   \n",
       "std_test_Log_loss                                0.00545463   \n",
       "rank_test_Log_loss                                        3   \n",
       "\n",
       "                                                          8  \\\n",
       "mean_fit_time                                        0.4285   \n",
       "std_fit_time                                         0.0145   \n",
       "mean_score_time                                      0.1505   \n",
       "std_score_time                                  0.000499845   \n",
       "param_max_depth                                           6   \n",
       "param_n_estimators                                      500   \n",
       "params                {'max_depth': 6, 'n_estimators': 500}   \n",
       "split0_test_Accuracy                               0.813218   \n",
       "split1_test_Accuracy                               0.823699   \n",
       "mean_test_Accuracy                                 0.818444   \n",
       "std_test_Accuracy                                0.00524049   \n",
       "rank_test_Accuracy                                        3   \n",
       "split0_test_AUC                                    0.848844   \n",
       "split1_test_AUC                                    0.858579   \n",
       "mean_test_AUC                                      0.853697   \n",
       "std_test_AUC                                     0.00486742   \n",
       "rank_test_AUC                                             4   \n",
       "split0_test_Log_loss                              -0.450771   \n",
       "split1_test_Log_loss                              -0.443518   \n",
       "mean_test_Log_loss                                -0.447155   \n",
       "std_test_Log_loss                                0.00362632   \n",
       "rank_test_Log_loss                                        2   \n",
       "\n",
       "                                                          9  \\\n",
       "mean_fit_time                                         0.086   \n",
       "std_fit_time                                     0.00300002   \n",
       "mean_score_time                                   0.0310001   \n",
       "std_score_time                                            0   \n",
       "param_max_depth                                           8   \n",
       "param_n_estimators                                      100   \n",
       "params                {'max_depth': 8, 'n_estimators': 100}   \n",
       "split0_test_Accuracy                               0.807471   \n",
       "split1_test_Accuracy                               0.812139   \n",
       "mean_test_Accuracy                                 0.809798   \n",
       "std_test_Accuracy                                0.00233372   \n",
       "rank_test_Accuracy                                        7   \n",
       "split0_test_AUC                                    0.837959   \n",
       "split1_test_AUC                                    0.847015   \n",
       "mean_test_AUC                                      0.842474   \n",
       "std_test_AUC                                     0.00452814   \n",
       "rank_test_AUC                                            12   \n",
       "split0_test_Log_loss                              -0.476909   \n",
       "split1_test_Log_loss                              -0.468541   \n",
       "mean_test_Log_loss                                -0.472737   \n",
       "std_test_Log_loss                                0.00418373   \n",
       "rank_test_Log_loss                                        9   \n",
       "\n",
       "                                                         10  \\\n",
       "mean_fit_time                                        0.2605   \n",
       "std_fit_time                                     0.00349998   \n",
       "mean_score_time                                   0.0880001   \n",
       "std_score_time                                  0.000999928   \n",
       "param_max_depth                                           8   \n",
       "param_n_estimators                                      300   \n",
       "params                {'max_depth': 8, 'n_estimators': 300}   \n",
       "split0_test_Accuracy                               0.804598   \n",
       "split1_test_Accuracy                               0.817919   \n",
       "mean_test_Accuracy                                 0.811239   \n",
       "std_test_Accuracy                                0.00666066   \n",
       "rank_test_Accuracy                                        6   \n",
       "split0_test_AUC                                    0.842532   \n",
       "split1_test_AUC                                    0.846751   \n",
       "mean_test_AUC                                      0.844635   \n",
       "std_test_AUC                                     0.00210958   \n",
       "rank_test_AUC                                             7   \n",
       "split0_test_Log_loss                              -0.470629   \n",
       "split1_test_Log_loss                              -0.464256   \n",
       "mean_test_Log_loss                                -0.467452   \n",
       "std_test_Log_loss                                0.00318632   \n",
       "rank_test_Log_loss                                        7   \n",
       "\n",
       "                                                         11  \n",
       "mean_fit_time                                          0.44  \n",
       "std_fit_time                                     0.00300002  \n",
       "mean_score_time                                      0.1635  \n",
       "std_score_time                                  0.000500083  \n",
       "param_max_depth                                           8  \n",
       "param_n_estimators                                      500  \n",
       "params                {'max_depth': 8, 'n_estimators': 500}  \n",
       "split0_test_Accuracy                               0.804598  \n",
       "split1_test_Accuracy                               0.823699  \n",
       "mean_test_Accuracy                                 0.814121  \n",
       "std_test_Accuracy                                0.00955082  \n",
       "rank_test_Accuracy                                        4  \n",
       "split0_test_AUC                                    0.841523  \n",
       "split1_test_AUC                                    0.844586  \n",
       "mean_test_AUC                                       0.84305  \n",
       "std_test_AUC                                      0.0015314  \n",
       "rank_test_AUC                                             9  \n",
       "split0_test_Log_loss                              -0.470691  \n",
       "split1_test_Log_loss                              -0.464576  \n",
       "mean_test_Log_loss                                -0.467642  \n",
       "std_test_Log_loss                                0.00305738  \n",
       "rank_test_Log_loss                                        8  "
      ]
     },
     "execution_count": 359,
     "metadata": {},
     "output_type": "execute_result"
    }
   ],
   "source": [
    "np.transpose(pd.DataFrame(grid_cv.cv_results_))"
   ]
  },
  {
   "cell_type": "code",
   "execution_count": 363,
   "metadata": {
    "scrolled": true
   },
   "outputs": [
    {
     "data": {
      "text/plain": [
       "dict_keys(['mean_fit_time', 'std_fit_time', 'mean_score_time', 'std_score_time', 'param_max_depth', 'param_n_estimators', 'params', 'split0_test_Accuracy', 'split1_test_Accuracy', 'mean_test_Accuracy', 'std_test_Accuracy', 'rank_test_Accuracy', 'split0_test_AUC', 'split1_test_AUC', 'mean_test_AUC', 'std_test_AUC', 'rank_test_AUC', 'split0_test_Log_loss', 'split1_test_Log_loss', 'mean_test_Log_loss', 'std_test_Log_loss', 'rank_test_Log_loss'])"
      ]
     },
     "execution_count": 363,
     "metadata": {},
     "output_type": "execute_result"
    }
   ],
   "source": [
    "grid_cv.cv_results_.keys()"
   ]
  },
  {
   "cell_type": "code",
   "execution_count": 367,
   "metadata": {},
   "outputs": [
    {
     "data": {
      "text/plain": [
       "0.8125600384245916"
      ]
     },
     "execution_count": 367,
     "metadata": {},
     "output_type": "execute_result"
    }
   ],
   "source": [
    "np.mean(grid_cv.cv_results_['mean_test_Accuracy'])"
   ]
  },
  {
   "cell_type": "code",
   "execution_count": 369,
   "metadata": {
    "scrolled": true
   },
   "outputs": [
    {
     "data": {
      "text/plain": [
       "0.46487949271302864"
      ]
     },
     "execution_count": 369,
     "metadata": {},
     "output_type": "execute_result"
    }
   ],
   "source": [
    "-np.mean(grid_cv.cv_results_['mean_test_Log_loss'])"
   ]
  },
  {
   "cell_type": "code",
   "execution_count": 370,
   "metadata": {},
   "outputs": [
    {
     "data": {
      "text/plain": [
       "0.8489395724619636"
      ]
     },
     "execution_count": 370,
     "metadata": {},
     "output_type": "execute_result"
    }
   ],
   "source": [
    "np.mean(grid_cv.cv_results_['mean_test_AUC'])"
   ]
  },
  {
   "cell_type": "code",
   "execution_count": 339,
   "metadata": {},
   "outputs": [
    {
     "name": "stdout",
     "output_type": "stream",
     "text": [
      "최적 하이퍼 파라미터: {'max_depth': 6, 'n_estimators': 100}\n",
      "최고 예측 정확도: 0.8227665706051873\n"
     ]
    }
   ],
   "source": [
    "params = {\n",
    "    'n_estimators' : [100, 300, 500],\n",
    "    'max_depth' : [2,4,6,8],\n",
    "#     'min_sample_leaf' : [2,4,6],\n",
    "#     'min_sample_split' : [2,4,6]\n",
    "}\n",
    "\n",
    "rf_clf = RandomForestClassifier(random_state=0, n_jobs=-1)\n",
    "grid_cv = GridSearchCV(rf_clf, param_grid= params, cv=2, n_jobs=-1)\n",
    "grid_cv.fit(x_train, y_train)\n",
    "\n",
    "print('최적 하이퍼 파라미터:', grid_cv.best_params_)\n",
    "print('최고 예측 정확도:', grid_cv.best_score_)"
   ]
  },
  {
   "cell_type": "code",
   "execution_count": null,
   "metadata": {},
   "outputs": [],
   "source": [
    "# Linear SVC\n",
    "\n",
    "linear_svc = LinearSVC()\n",
    "linear_svc.fit(X_train, Y_train)\n",
    "Y_pred = linear_svc.predict(X_test)\n",
    "acc_linear_svc = round(linear_svc.score(X_train, Y_train) * 100, 2)\n",
    "acc_linear_svc"
   ]
  },
  {
   "cell_type": "code",
   "execution_count": 362,
   "metadata": {
    "scrolled": true
   },
   "outputs": [
    {
     "ename": "ValueError",
     "evalue": "could not convert string to float: 'Accuracy'",
     "output_type": "error",
     "traceback": [
      "\u001b[1;31m---------------------------------------------------------------------------\u001b[0m",
      "\u001b[1;31mValueError\u001b[0m                                Traceback (most recent call last)",
      "\u001b[1;32m<ipython-input-362-7e099ba1da2b>\u001b[0m in \u001b[0;36m<module>\u001b[1;34m\u001b[0m\n\u001b[1;32m----> 1\u001b[1;33m \u001b[0mgrid_cv\u001b[0m\u001b[1;33m.\u001b[0m\u001b[0mscore\u001b[0m\u001b[1;33m(\u001b[0m\u001b[1;34m'Accuracy'\u001b[0m\u001b[1;33m)\u001b[0m\u001b[1;33m\u001b[0m\u001b[1;33m\u001b[0m\u001b[0m\n\u001b[0m",
      "\u001b[1;32mC:\\ProgramData\\Anaconda3\\lib\\site-packages\\sklearn\\model_selection\\_search.py\u001b[0m in \u001b[0;36mscore\u001b[1;34m(self, X, y)\u001b[0m\n\u001b[0;32m    426\u001b[0m                              % self.best_estimator_)\n\u001b[0;32m    427\u001b[0m         \u001b[0mscore\u001b[0m \u001b[1;33m=\u001b[0m \u001b[0mself\u001b[0m\u001b[1;33m.\u001b[0m\u001b[0mscorer_\u001b[0m\u001b[1;33m[\u001b[0m\u001b[0mself\u001b[0m\u001b[1;33m.\u001b[0m\u001b[0mrefit\u001b[0m\u001b[1;33m]\u001b[0m \u001b[1;32mif\u001b[0m \u001b[0mself\u001b[0m\u001b[1;33m.\u001b[0m\u001b[0mmultimetric_\u001b[0m \u001b[1;32melse\u001b[0m \u001b[0mself\u001b[0m\u001b[1;33m.\u001b[0m\u001b[0mscorer_\u001b[0m\u001b[1;33m\u001b[0m\u001b[1;33m\u001b[0m\u001b[0m\n\u001b[1;32m--> 428\u001b[1;33m         \u001b[1;32mreturn\u001b[0m \u001b[0mscore\u001b[0m\u001b[1;33m(\u001b[0m\u001b[0mself\u001b[0m\u001b[1;33m.\u001b[0m\u001b[0mbest_estimator_\u001b[0m\u001b[1;33m,\u001b[0m \u001b[0mX\u001b[0m\u001b[1;33m,\u001b[0m \u001b[0my\u001b[0m\u001b[1;33m)\u001b[0m\u001b[1;33m\u001b[0m\u001b[1;33m\u001b[0m\u001b[0m\n\u001b[0m\u001b[0;32m    429\u001b[0m \u001b[1;33m\u001b[0m\u001b[0m\n\u001b[0;32m    430\u001b[0m     \u001b[1;32mdef\u001b[0m \u001b[0m_check_is_fitted\u001b[0m\u001b[1;33m(\u001b[0m\u001b[0mself\u001b[0m\u001b[1;33m,\u001b[0m \u001b[0mmethod_name\u001b[0m\u001b[1;33m)\u001b[0m\u001b[1;33m:\u001b[0m\u001b[1;33m\u001b[0m\u001b[1;33m\u001b[0m\u001b[0m\n",
      "\u001b[1;32mC:\\ProgramData\\Anaconda3\\lib\\site-packages\\sklearn\\metrics\\scorer.py\u001b[0m in \u001b[0;36m__call__\u001b[1;34m(self, estimator, X, y_true, sample_weight)\u001b[0m\n\u001b[0;32m     88\u001b[0m         \"\"\"\n\u001b[0;32m     89\u001b[0m \u001b[1;33m\u001b[0m\u001b[0m\n\u001b[1;32m---> 90\u001b[1;33m         \u001b[0my_pred\u001b[0m \u001b[1;33m=\u001b[0m \u001b[0mestimator\u001b[0m\u001b[1;33m.\u001b[0m\u001b[0mpredict\u001b[0m\u001b[1;33m(\u001b[0m\u001b[0mX\u001b[0m\u001b[1;33m)\u001b[0m\u001b[1;33m\u001b[0m\u001b[1;33m\u001b[0m\u001b[0m\n\u001b[0m\u001b[0;32m     91\u001b[0m         \u001b[1;32mif\u001b[0m \u001b[0msample_weight\u001b[0m \u001b[1;32mis\u001b[0m \u001b[1;32mnot\u001b[0m \u001b[1;32mNone\u001b[0m\u001b[1;33m:\u001b[0m\u001b[1;33m\u001b[0m\u001b[1;33m\u001b[0m\u001b[0m\n\u001b[0;32m     92\u001b[0m             return self._sign * self._score_func(y_true, y_pred,\n",
      "\u001b[1;32mC:\\ProgramData\\Anaconda3\\lib\\site-packages\\sklearn\\ensemble\\forest.py\u001b[0m in \u001b[0;36mpredict\u001b[1;34m(self, X)\u001b[0m\n\u001b[0;32m    543\u001b[0m             \u001b[0mThe\u001b[0m \u001b[0mpredicted\u001b[0m \u001b[0mclasses\u001b[0m\u001b[1;33m.\u001b[0m\u001b[1;33m\u001b[0m\u001b[1;33m\u001b[0m\u001b[0m\n\u001b[0;32m    544\u001b[0m         \"\"\"\n\u001b[1;32m--> 545\u001b[1;33m         \u001b[0mproba\u001b[0m \u001b[1;33m=\u001b[0m \u001b[0mself\u001b[0m\u001b[1;33m.\u001b[0m\u001b[0mpredict_proba\u001b[0m\u001b[1;33m(\u001b[0m\u001b[0mX\u001b[0m\u001b[1;33m)\u001b[0m\u001b[1;33m\u001b[0m\u001b[1;33m\u001b[0m\u001b[0m\n\u001b[0m\u001b[0;32m    546\u001b[0m \u001b[1;33m\u001b[0m\u001b[0m\n\u001b[0;32m    547\u001b[0m         \u001b[1;32mif\u001b[0m \u001b[0mself\u001b[0m\u001b[1;33m.\u001b[0m\u001b[0mn_outputs_\u001b[0m \u001b[1;33m==\u001b[0m \u001b[1;36m1\u001b[0m\u001b[1;33m:\u001b[0m\u001b[1;33m\u001b[0m\u001b[1;33m\u001b[0m\u001b[0m\n",
      "\u001b[1;32mC:\\ProgramData\\Anaconda3\\lib\\site-packages\\sklearn\\ensemble\\forest.py\u001b[0m in \u001b[0;36mpredict_proba\u001b[1;34m(self, X)\u001b[0m\n\u001b[0;32m    586\u001b[0m         \u001b[0mcheck_is_fitted\u001b[0m\u001b[1;33m(\u001b[0m\u001b[0mself\u001b[0m\u001b[1;33m,\u001b[0m \u001b[1;34m'estimators_'\u001b[0m\u001b[1;33m)\u001b[0m\u001b[1;33m\u001b[0m\u001b[1;33m\u001b[0m\u001b[0m\n\u001b[0;32m    587\u001b[0m         \u001b[1;31m# Check data\u001b[0m\u001b[1;33m\u001b[0m\u001b[1;33m\u001b[0m\u001b[1;33m\u001b[0m\u001b[0m\n\u001b[1;32m--> 588\u001b[1;33m         \u001b[0mX\u001b[0m \u001b[1;33m=\u001b[0m \u001b[0mself\u001b[0m\u001b[1;33m.\u001b[0m\u001b[0m_validate_X_predict\u001b[0m\u001b[1;33m(\u001b[0m\u001b[0mX\u001b[0m\u001b[1;33m)\u001b[0m\u001b[1;33m\u001b[0m\u001b[1;33m\u001b[0m\u001b[0m\n\u001b[0m\u001b[0;32m    589\u001b[0m \u001b[1;33m\u001b[0m\u001b[0m\n\u001b[0;32m    590\u001b[0m         \u001b[1;31m# Assign chunk of trees to jobs\u001b[0m\u001b[1;33m\u001b[0m\u001b[1;33m\u001b[0m\u001b[1;33m\u001b[0m\u001b[0m\n",
      "\u001b[1;32mC:\\ProgramData\\Anaconda3\\lib\\site-packages\\sklearn\\ensemble\\forest.py\u001b[0m in \u001b[0;36m_validate_X_predict\u001b[1;34m(self, X)\u001b[0m\n\u001b[0;32m    357\u001b[0m                                  \"call `fit` before exploiting the model.\")\n\u001b[0;32m    358\u001b[0m \u001b[1;33m\u001b[0m\u001b[0m\n\u001b[1;32m--> 359\u001b[1;33m         \u001b[1;32mreturn\u001b[0m \u001b[0mself\u001b[0m\u001b[1;33m.\u001b[0m\u001b[0mestimators_\u001b[0m\u001b[1;33m[\u001b[0m\u001b[1;36m0\u001b[0m\u001b[1;33m]\u001b[0m\u001b[1;33m.\u001b[0m\u001b[0m_validate_X_predict\u001b[0m\u001b[1;33m(\u001b[0m\u001b[0mX\u001b[0m\u001b[1;33m,\u001b[0m \u001b[0mcheck_input\u001b[0m\u001b[1;33m=\u001b[0m\u001b[1;32mTrue\u001b[0m\u001b[1;33m)\u001b[0m\u001b[1;33m\u001b[0m\u001b[1;33m\u001b[0m\u001b[0m\n\u001b[0m\u001b[0;32m    360\u001b[0m \u001b[1;33m\u001b[0m\u001b[0m\n\u001b[0;32m    361\u001b[0m     \u001b[1;33m@\u001b[0m\u001b[0mproperty\u001b[0m\u001b[1;33m\u001b[0m\u001b[1;33m\u001b[0m\u001b[0m\n",
      "\u001b[1;32mC:\\ProgramData\\Anaconda3\\lib\\site-packages\\sklearn\\tree\\tree.py\u001b[0m in \u001b[0;36m_validate_X_predict\u001b[1;34m(self, X, check_input)\u001b[0m\n\u001b[0;32m    389\u001b[0m         \u001b[1;34m\"\"\"Validate X whenever one tries to predict, apply, predict_proba\"\"\"\u001b[0m\u001b[1;33m\u001b[0m\u001b[1;33m\u001b[0m\u001b[0m\n\u001b[0;32m    390\u001b[0m         \u001b[1;32mif\u001b[0m \u001b[0mcheck_input\u001b[0m\u001b[1;33m:\u001b[0m\u001b[1;33m\u001b[0m\u001b[1;33m\u001b[0m\u001b[0m\n\u001b[1;32m--> 391\u001b[1;33m             \u001b[0mX\u001b[0m \u001b[1;33m=\u001b[0m \u001b[0mcheck_array\u001b[0m\u001b[1;33m(\u001b[0m\u001b[0mX\u001b[0m\u001b[1;33m,\u001b[0m \u001b[0mdtype\u001b[0m\u001b[1;33m=\u001b[0m\u001b[0mDTYPE\u001b[0m\u001b[1;33m,\u001b[0m \u001b[0maccept_sparse\u001b[0m\u001b[1;33m=\u001b[0m\u001b[1;34m\"csr\"\u001b[0m\u001b[1;33m)\u001b[0m\u001b[1;33m\u001b[0m\u001b[1;33m\u001b[0m\u001b[0m\n\u001b[0m\u001b[0;32m    392\u001b[0m             if issparse(X) and (X.indices.dtype != np.intc or\n\u001b[0;32m    393\u001b[0m                                 X.indptr.dtype != np.intc):\n",
      "\u001b[1;32mC:\\ProgramData\\Anaconda3\\lib\\site-packages\\sklearn\\utils\\validation.py\u001b[0m in \u001b[0;36mcheck_array\u001b[1;34m(array, accept_sparse, accept_large_sparse, dtype, order, copy, force_all_finite, ensure_2d, allow_nd, ensure_min_samples, ensure_min_features, warn_on_dtype, estimator)\u001b[0m\n\u001b[0;32m    494\u001b[0m             \u001b[1;32mtry\u001b[0m\u001b[1;33m:\u001b[0m\u001b[1;33m\u001b[0m\u001b[1;33m\u001b[0m\u001b[0m\n\u001b[0;32m    495\u001b[0m                 \u001b[0mwarnings\u001b[0m\u001b[1;33m.\u001b[0m\u001b[0msimplefilter\u001b[0m\u001b[1;33m(\u001b[0m\u001b[1;34m'error'\u001b[0m\u001b[1;33m,\u001b[0m \u001b[0mComplexWarning\u001b[0m\u001b[1;33m)\u001b[0m\u001b[1;33m\u001b[0m\u001b[1;33m\u001b[0m\u001b[0m\n\u001b[1;32m--> 496\u001b[1;33m                 \u001b[0marray\u001b[0m \u001b[1;33m=\u001b[0m \u001b[0mnp\u001b[0m\u001b[1;33m.\u001b[0m\u001b[0masarray\u001b[0m\u001b[1;33m(\u001b[0m\u001b[0marray\u001b[0m\u001b[1;33m,\u001b[0m \u001b[0mdtype\u001b[0m\u001b[1;33m=\u001b[0m\u001b[0mdtype\u001b[0m\u001b[1;33m,\u001b[0m \u001b[0morder\u001b[0m\u001b[1;33m=\u001b[0m\u001b[0morder\u001b[0m\u001b[1;33m)\u001b[0m\u001b[1;33m\u001b[0m\u001b[1;33m\u001b[0m\u001b[0m\n\u001b[0m\u001b[0;32m    497\u001b[0m             \u001b[1;32mexcept\u001b[0m \u001b[0mComplexWarning\u001b[0m\u001b[1;33m:\u001b[0m\u001b[1;33m\u001b[0m\u001b[1;33m\u001b[0m\u001b[0m\n\u001b[0;32m    498\u001b[0m                 raise ValueError(\"Complex data not supported\\n\"\n",
      "\u001b[1;32mC:\\ProgramData\\Anaconda3\\lib\\site-packages\\numpy\\core\\numeric.py\u001b[0m in \u001b[0;36masarray\u001b[1;34m(a, dtype, order)\u001b[0m\n\u001b[0;32m    536\u001b[0m \u001b[1;33m\u001b[0m\u001b[0m\n\u001b[0;32m    537\u001b[0m     \"\"\"\n\u001b[1;32m--> 538\u001b[1;33m     \u001b[1;32mreturn\u001b[0m \u001b[0marray\u001b[0m\u001b[1;33m(\u001b[0m\u001b[0ma\u001b[0m\u001b[1;33m,\u001b[0m \u001b[0mdtype\u001b[0m\u001b[1;33m,\u001b[0m \u001b[0mcopy\u001b[0m\u001b[1;33m=\u001b[0m\u001b[1;32mFalse\u001b[0m\u001b[1;33m,\u001b[0m \u001b[0morder\u001b[0m\u001b[1;33m=\u001b[0m\u001b[0morder\u001b[0m\u001b[1;33m)\u001b[0m\u001b[1;33m\u001b[0m\u001b[1;33m\u001b[0m\u001b[0m\n\u001b[0m\u001b[0;32m    539\u001b[0m \u001b[1;33m\u001b[0m\u001b[0m\n\u001b[0;32m    540\u001b[0m \u001b[1;33m\u001b[0m\u001b[0m\n",
      "\u001b[1;31mValueError\u001b[0m: could not convert string to float: 'Accuracy'"
     ]
    }
   ],
   "source": [
    "models = pd.DataFrame({\n",
    "    'Model': ['Support Vector Machines', 'KNN', 'Logistic Regression', \n",
    "              'Random Forest', 'Naive Bayes', 'Perceptron', \n",
    "              'Stochastic Gradient Decent', 'Linear SVC', \n",
    "              'Decision Tree'],\n",
    "    'Score': [acc_svc, acc_knn, acc_log, \n",
    "              acc_random_forest, acc_gaussian, acc_perceptron, \n",
    "              acc_sgd, acc_linear_svc, acc_decision_tree]})\n",
    "models.sort_values(by='Score', ascending=False)"
   ]
  },
  {
   "cell_type": "code",
   "execution_count": null,
   "metadata": {},
   "outputs": [],
   "source": [
    "submission = pd.DataFrame({\n",
    "        \"PassengerId\": test_df[\"PassengerId\"],\n",
    "        \"Survived\": Y_pred\n",
    "    })\n",
    "# submission.to_csv('../output/submission.csv', index=False)"
   ]
  }
 ],
 "metadata": {
  "kernelspec": {
   "display_name": "Python 3",
   "language": "python",
   "name": "python3"
  },
  "language_info": {
   "codemirror_mode": {
    "name": "ipython",
    "version": 3
   },
   "file_extension": ".py",
   "mimetype": "text/x-python",
   "name": "python",
   "nbconvert_exporter": "python",
   "pygments_lexer": "ipython3",
   "version": "3.7.4"
  }
 },
 "nbformat": 4,
 "nbformat_minor": 2
}
